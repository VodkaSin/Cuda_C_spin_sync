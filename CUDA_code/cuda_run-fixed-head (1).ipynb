{
 "cells": [
  {
   "cell_type": "code",
   "execution_count": null,
   "metadata": {},
   "outputs": [],
   "source": [
    "#############################################################\n",
    "# Compile `main.cu` to `file.exe`\n",
    "# Commented out because we don't want to run it all the time\n",
    "#############################################################\n",
    "!nvcc -w functions.cu main.cu -o file"
   ]
  },
  {
   "cell_type": "code",
   "execution_count": null,
   "metadata": {},
   "outputs": [],
   "source": [
    "#############################################################\n",
    "# Load python dependencies\n",
    "# If package cannot be resolved from pylance, reload the interpreter\n",
    "#############################################################\n",
    "import numpy as np\n",
    "import matplotlib.pyplot as plt\n",
    "import utils"
   ]
  },
  {
   "attachments": {},
   "cell_type": "markdown",
   "metadata": {},
   "source": [
    "# Generate detuning\n",
    "todo: distribution functions\n",
    "read into detuning.dat"
   ]
  },
  {
   "cell_type": "code",
   "execution_count": null,
   "metadata": {},
   "outputs": [],
   "source": [
    "#############################################################\n",
    "# Generate and write detuning data to file\n",
    "#############################################################\n",
    "# Write 1D numpy array to file\n",
    "detuning_values_1d = utils.gen_same_pop(2, 1000, None)\n",
    "print(\"Detuning data:\", detuning_values_1d)\n",
    "np.savetxt(\"Detuning.dat\", detuning_values_1d, delimiter=\"\\t\")\n",
    "\n",
    "# Example: write 2D numpy array to file\n",
    "# values_2d = np.array([\n",
    "#     [10.0, 20.0, 40.0],\n",
    "#     [10.0, 20.0, 50.0],\n",
    "#     [10.0, 20.0, 60.0]\n",
    "# ])\n",
    "# np.savetxt(\"values_2d.dat\", values_2d, delimiter=\"\\t\")"
   ]
  },
  {
   "attachments": {},
   "cell_type": "markdown",
   "metadata": {},
   "source": [
    "# Run simulation\n",
    "\n",
    "To run a single system, use terminal: \n",
    "\n",
    "         k  n_tot theta,phi g gamma chi kap t_end t_num handle\n",
    "\n",
    "file.exe 20 100000 0.5 0.0 1.6 0.0 0.0 160 0.5 600000 k20N5_0.5_0_kappa160\n",
    "\n",
    "## Suggested file naming convention:\n",
    "k{num_ens}N{order of magnitude of n_total}_{theta_phi}_{other params}\n",
    "\n",
    "E.g., k5N5_1_0_kappa160\n",
    "\n",
    "The below block of code is useful for running multiple jobs"
   ]
  },
  {
   "cell_type": "code",
   "execution_count": null,
   "metadata": {},
   "outputs": [],
   "source": [
    "num_ens_range = [2]\n",
    "max_det_range = [0,100,1000,5000]\n",
    "det_range_manual = []\n",
    "sym_range = [False]\n",
    "N_total_range = [10000]\n",
    "theta_0_range = [1]\n",
    "phi_0_range = [0.0]\n",
    "coup_a_0_range = [1.0]\n",
    "gamma_a_0_range = [0.0]\n",
    "chi_a_0_range = [0.0]\n",
    "kappa_c_0_range = [100.0]\n",
    "t_max_range = [0.2]\n",
    "t_num_range = [60000]\n",
    "det_dict = {}\n",
    "handle_list = []\n",
    "\n",
    "runs = 0\n",
    "for num_ens in num_ens_range:\n",
    "    for max_det in max_det_range:\n",
    "        for sym in sym_range:\n",
    "            detuning_values_1d = utils.gen_same_pop(num_ens, max_det, sym)\n",
    "            FWHM = detuning_values_1d[int(num_ens/2)]\n",
    "            np.savetxt(f\"Detuning.dat\", detuning_values_1d, delimiter=\"\\t\")\n",
    "            for N_total in N_total_range:\n",
    "                for theta_0 in theta_0_range:\n",
    "                    for phi_0 in phi_0_range:\n",
    "                        for coup_a_0 in coup_a_0_range:\n",
    "                            for gamma_a_0 in gamma_a_0_range:\n",
    "                                for chi_a_0 in chi_a_0_range:\n",
    "                                    for kappa_c_0 in kappa_c_0_range:\n",
    "                                        for t_max in t_max_range:\n",
    "                                            for t_num in t_num_range:\n",
    "                                                runs += 1\n",
    "                                                params = f'{num_ens} {N_total} {theta_0} {phi_0} {coup_a_0} {gamma_a_0} {chi_a_0} {kappa_c_0} {t_max} {t_num}'\n",
    "                                                handle = f'k{num_ens}N{N_total}det{max_det}_{theta_0}_{phi_0}_{sym}_{runs}' # Add extra notes as needed\n",
    "                                                det_dict[handle] = detuning_values_1d\n",
    "                                                handle_list.append(handle)\n",
    "                                                print(f\"************************* Run {runs} *************************\")\n",
    "                                                print(f\"FWHM: {FWHM}, handle: {handle} \")\n",
    "                                                utils.runcmd(f'file.exe {params} {handle}')\n",
    "                                                print(\"\\n\")"
   ]
  },
  {
   "cell_type": "code",
   "execution_count": null,
   "metadata": {},
   "outputs": [],
   "source": [
    "#############################################################\n",
    "# Test 2: effect of inhomogeneous broadening (intermediate case)\n",
    "#############################################################\n",
    "max_det = 280\n",
    "detunings = [[0],[0,max_det/2],[0,max_det/2,max_det]]\n",
    "num_ens = 3\n",
    "N_total = 6000\n",
    "theta_0 = 1\n",
    "phi_0 = 0.0\n",
    "coup_a_0 = 1.0\n",
    "gamma_a_0 = 0.0\n",
    "chi_a_0 = 0.0\n",
    "kappa_c_0 = 100.0\n",
    "t_max = 0.2\n",
    "t_num = 60000\n",
    "run = 0\n",
    "det_dict = {}\n",
    "handle_list = []\n",
    "\n",
    "for i in range(len(detunings)):\n",
    "    np.savetxt(f\"Detuning.dat\", detunings[i], delimiter=\"\\t\")\n",
    "    params = f'{i+1} {2000*(i+1)} {theta_0} {phi_0} {coup_a_0} {gamma_a_0} {chi_a_0} {kappa_c_0} {t_max} {t_num}'\n",
    "    handle = f'k{num_ens}N{N_total}det{max_det}_{theta_0}_{coup_a_0}_{kappa_c_0}_{i+1}' # Add extra notes as needed\n",
    "    det_dict[handle] = detunings[i]\n",
    "    handle_list.append(handle)\n",
    "    print(f\"************************* Run {i+1} *************************\")\n",
    "    print(f\"Handle: {handle} \")\n",
    "    utils.runcmd(f'file.exe {params} {handle}')\n",
    "    print(\"\\n\")"
   ]
  },
  {
   "attachments": {},
   "cell_type": "markdown",
   "metadata": {},
   "source": [
    "# Analyze & Plot\n",
    "todo:  import util functions return predict Td\n",
    "write block to plot with Td and found Td"
   ]
  },
  {
   "cell_type": "code",
   "execution_count": null,
   "metadata": {},
   "outputs": [],
   "source": [
    "#############################################################\n",
    "# Read in the results file\n",
    "# Returns: \n",
    "#         [0]: time steps\n",
    "#         [1]: sz\n",
    "#         [2]: coherence\n",
    "#         [3]: photons\n",
    "#############################################################\n",
    "results = []\n",
    "detunings = []\n",
    "for i in range(np.size(handle_list)):\n",
    "    results.append(utils.read_results(handle_list[i])) # Input: file handle\n",
    "    detunings.append(det_dict[handle_list[i]])\n",
    "# results = utils.read_results(handle_list[0]) # Input: file handle\n",
    "print(detunings)"
   ]
  },
  {
   "cell_type": "code",
   "execution_count": null,
   "metadata": {},
   "outputs": [],
   "source": [
    "#############################################################\n",
    "# Plots intracavity field\n",
    "#############################################################\n",
    "for i in range(np.size(handle_list)):\n",
    "    end_ind = utils.cut_time(results[0][0], -1)\n",
    "    print(end_ind)\n",
    "    plt.plot(results[i][0], results[i][3])\n",
    "    plt.title(\"Intracavity photon\", fontsize=12)\n",
    "    plt.xlabel(r\"Time ($\\mu$s)\", fontsize=12)\n",
    "    plt.ylabel(r\"$\\langle a^\\dagger a\\rangle$\", fontsize=12)"
   ]
  },
  {
   "cell_type": "code",
   "execution_count": null,
   "metadata": {},
   "outputs": [],
   "source": [
    "#############################################################\n",
    "# Line plots for inversion and coherence\n",
    "#############################################################\n",
    "plt.plot(results[0][0], results[0][1], label=detunings[0])\n",
    "# Td = utils.findTd(results[0][1], results[0][0])\n",
    "# print(Td)\n",
    "plt.title(\"Atomic inversion\", fontsize=12)\n",
    "plt.xlabel(r\"Time ($\\mu$s)\", fontsize=12)\n",
    "plt.ylabel(r\"$\\langle \\sigma_Z \\rangle$\", fontsize=12)\n",
    "plt.legend()"
   ]
  },
  {
   "cell_type": "code",
   "execution_count": null,
   "metadata": {},
   "outputs": [],
   "source": [
    "plt.plot(results[0][0], results[0][2], label=detunings[0])\n",
    "plt.title(\"Coherence\", fontsize=12)\n",
    "plt.xlabel(r\"Time ($\\mu$s)\", fontsize=12)\n",
    "plt.ylabel(r\"$\\langle \\sigma_+\\sigma_- \\rangle$\", fontsize=12)\n",
    "plt.legend()"
   ]
  },
  {
   "cell_type": "code",
   "execution_count": null,
   "metadata": {},
   "outputs": [],
   "source": [
    "utils.plot_heat(results[0],detuning_values_1d[:20], np.rot90(results[1]), -1.0,1.0, \n",
    "                \"Atom inversion $\\langle\\sigma_Z\\\\rangle$\", \"Time ($\\mu$s)\", \"Detuning (kHz)\")"
   ]
  },
  {
   "cell_type": "code",
   "execution_count": null,
   "metadata": {},
   "outputs": [],
   "source": [
    "utils.plot_heat(results[0],detuning_values_1d, np.rot90(results[2]), 0,0.25, \n",
    "                \"Coherences\", \"Time ($\\mu$s)\", \"$\\langle\\sigma_+\\sigma_-\\\\rangle$\")"
   ]
  },
  {
   "cell_type": "code",
   "execution_count": null,
   "metadata": {},
   "outputs": [],
   "source": [
    "\n",
    "a = np.rot90(np.asarray([[0,1,2],[3,4,5]]))\n",
    "print(a)\n",
    "utils.plot_heat([0,1], [3,2,1], a, 0,6, \"na\", \"na\", \"na\")"
   ]
  },
  {
   "cell_type": "code",
   "execution_count": null,
   "metadata": {},
   "outputs": [],
   "source": []
  }
 ],
 "metadata": {
  "kernelspec": {
   "display_name": "Python 3",
   "language": "python",
   "name": "python3"
  },
  "language_info": {
   "codemirror_mode": {
    "name": "ipython",
    "version": 3
   },
   "file_extension": ".py",
   "mimetype": "text/x-python",
   "name": "python",
   "nbconvert_exporter": "python",
   "pygments_lexer": "ipython3",
   "version": "3.9.16"
  },
  "orig_nbformat": 4,
  "vscode": {
   "interpreter": {
    "hash": "4b94adeba7b713340ea8cbbda1aef534457fb8d68974eb0981e7dc62d87dea46"
   }
  }
 },
 "nbformat": 4,
 "nbformat_minor": 2
}
