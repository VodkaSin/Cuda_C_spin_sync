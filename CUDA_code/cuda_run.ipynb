{
 "cells": [
  {
   "cell_type": "code",
   "execution_count": 16,
   "metadata": {},
   "outputs": [
    {
     "name": "stdout",
     "output_type": "stream",
     "text": [
      "functions.cu\n",
      "tmpxft_00000e50_00000000-10_functions.cudafe1.cpp\n",
      "main_sz.cu\n",
      "tmpxft_00000e50_00000000-14_main_sz.cudafe1.cpp\n",
      "   Creating library file.lib and object file.exp\n"
     ]
    }
   ],
   "source": [
    "#############################################################\n",
    "# Compile `main.cu` to `file.exe`\n",
    "# Commented out because we don't want to run it all the time\n",
    "#############################################################\n",
    "# !nvcc -w functions.cu main.cu -o file\n",
    "!nvcc -w functions.cu main_sz.cu -o file"
   ]
  },
  {
   "cell_type": "code",
   "execution_count": 1,
   "metadata": {},
   "outputs": [],
   "source": [
    "#############################################################\n",
    "# Load python dependencies\n",
    "# If package cannot be resolved from pylance, reload the interpreter\n",
    "#############################################################\n",
    "import numpy as np\n",
    "import matplotlib.pyplot as plt\n",
    "import utils\n",
    "import os.path\n",
    "import scipy.stats as stats\n",
    "from matplotlib import rc"
   ]
  },
  {
   "cell_type": "code",
   "execution_count": 2,
   "metadata": {},
   "outputs": [],
   "source": [
    "#############################################################\n",
    "# Figure settings\n",
    "#############################################################\n",
    "plt.rcParams.update({'font.size': 13.2})\n",
    "plt.rcParams[\"font.family\"] = \"Arial\"\n",
    "# Format\n",
    "# fig = plt.figure()\n",
    "# ax = fig.subplots(1, 1)\n",
    "# plt.figure(figsize=(6.5,4.2))\n",
    "# ax.set_title(\"Total atomic decay rate\")\n",
    "# ax.set_ylabel(r\"dW/dt\")\n",
    "# ax.set_xlabel(r\"Time ($\\mu$s)\")\n",
    "# labels = [r\"[0,$\\delta$]\", r\"[0,$\\delta/2$]\", r\"[0,$\\delta/2$, $\\delta$]\"]\n",
    "# ax.plot(...)\n",
    "# ax.legend()\n",
    "# fig.savefig(f\"{}.pdf\", dpi=300, pad_inches=0.2)"
   ]
  },
  {
   "attachments": {},
   "cell_type": "markdown",
   "metadata": {},
   "source": [
    "# Run simulation\n",
    "\n",
    "To run a single system, use terminal: \n",
    "\n",
    "         k  n_tot theta,phi g gamma chi kap t_end t_num handle\n",
    "\n",
    "file.exe 20 100000 0.5 0.0 1.6 0.0 0.0 160 0.5 600000 k20N5_0.5_0_kappa160\n",
    "\n",
    "## Suggested file naming convention:\n",
    "k{num_ens}N{order of magnitude of n_total}_{theta_phi}_{other params}\n",
    "\n",
    "E.g., k5N5_1_0_kappa160\n",
    "\n",
    "The below block of code is useful for running multiple jobs"
   ]
  },
  {
   "attachments": {},
   "cell_type": "markdown",
   "metadata": {},
   "source": [
    "# Sample input"
   ]
  },
  {
   "cell_type": "code",
   "execution_count": 17,
   "metadata": {},
   "outputs": [
    {
     "name": "stdout",
     "output_type": "stream",
     "text": [
      "************************* Run 1 *************************\n",
      "Handle: k1N50000det500_1.0_1.0_100.0_1 \n",
      "num_ens:\t\t\t1\n",
      "N_total:\t\t\t50000\n",
      "theta_0:\t\t\t1.0\n",
      "phi_0:\t\t\t\t0.0\n",
      "coup_a_0:\t\t\t1.0\n",
      "gamma_a_0 (atom decay):\t\t0.0\n",
      "chi_a_0 (atom dephase):\t\t0.0\n",
      "kappa_c_0 (cavity decay):\t100.0\n",
      "t_max:\t\t\t\t0.2\n",
      "t_num:\t\t\t\t40000\n",
      "\n",
      "\n",
      "`theta` values:\n",
      "1.570796\n",
      "\n"
     ]
    },
    {
     "name": "stderr",
     "output_type": "stream",
     "text": [
      "100% [\u001b[32m██████████\u001b[0m ]"
     ]
    },
    {
     "name": "stdout",
     "output_type": "stream",
     "text": [
      "Program takes about 17.78 s\n",
      "\n",
      "\n"
     ]
    },
    {
     "name": "stderr",
     "output_type": "stream",
     "text": [
      "\n"
     ]
    }
   ],
   "source": [
    "#############################################################\n",
    "# Sample input\n",
    "#############################################################\n",
    "detunings = [[50]]\n",
    "thetas = [[0.5]] # Value between 0 and 1 for ground and excited\n",
    "# Generate a list of detuning profile with k = 10,20,30,40,50\n",
    "N_tot = 50000\n",
    "theta_0 = 1.0\n",
    "phi_0 = 0.0\n",
    "coup_a_0 = 1.0\n",
    "gamma_a_0 = 0.0\n",
    "chi_a_0 = 0.0\n",
    "kappa_c_0 = 100.0\n",
    "t_max = 0.2\n",
    "t_num = 40000\n",
    "det_dict = {}\n",
    "handle_list = []\n",
    "\n",
    "for i in range(len(detunings)):\n",
    "    np.savetxt(f\"Detuning.dat\", detunings[i], delimiter=\"\\t\")\n",
    "    np.savetxt(f\"Sz_init.dat\", thetas[i], delimiter=\"\\t\")\n",
    "    num_ens = len(detunings[i])\n",
    "    params = str((f'{num_ens} {N_tot} {theta_0} {phi_0} {coup_a_0} ')\n",
    "                +(f'{gamma_a_0} {chi_a_0} {kappa_c_0} {t_max} {t_num}'))\n",
    "    handle = f'k{num_ens}N{N_tot}det{500}_{theta_0}_{coup_a_0}_{kappa_c_0}_{i+1}'\n",
    "    det_dict[handle] = detunings[i]\n",
    "    handle_list.append(handle)\n",
    "    print(f\"************************* Run {i+1} *************************\")\n",
    "    print(f\"Handle: {handle} \")\n",
    "    # if os.path.isfile(f\"Result_Sz_{handle}.dat\") == False:\n",
    "    #     utils.runcmd(f'file.exe {params} {handle}')\n",
    "    # else:\n",
    "    #     print(\"File exits, skipping simulation\")\n",
    "    # Uncomment below if you wish to overwrite files\n",
    "    utils.runcmd(f'file.exe {params} {handle}')\n",
    "    print(\"\\n\")"
   ]
  },
  {
   "cell_type": "code",
   "execution_count": 18,
   "metadata": {},
   "outputs": [],
   "source": [
    "#############################################################\n",
    "# Read outputs\n",
    "#############################################################\n",
    "n_tests = len(handle_list) # Number of tests\n",
    "results = [utils.read_results(handle) for handle in handle_list]\n",
    "time_list = [results[i][0] for i in range(n_tests)]\n",
    "sz_list = [results[i][1] for i in range(n_tests)] # Population inversion\n",
    "coherence_list = [results[i][2] for i in range(n_tests)] # Coherence with class 0\n",
    "photon_list = [results[i][3] for i in range(n_tests)] # Intracavity photon number"
   ]
  },
  {
   "cell_type": "code",
   "execution_count": 19,
   "metadata": {},
   "outputs": [
    {
     "data": {
      "text/plain": [
       "[<matplotlib.lines.Line2D at 0x19d94723a90>]"
      ]
     },
     "execution_count": 19,
     "metadata": {},
     "output_type": "execute_result"
    },
    {
     "data": {
      "image/png": "[encoded data removed]",
      "text/plain": [
       "<Figure size 640x480 with 1 Axes>"
      ]
     },
     "metadata": {},
     "output_type": "display_data"
    }
   ],
   "source": [
    "plt.plot(time_list[0], sz_list[0])"
   ]
  },
  {
   "attachments": {},
   "cell_type": "markdown",
   "metadata": {},
   "source": [
    "# Test 1 Large detuning"
   ]
  },
  {
   "cell_type": "code",
   "execution_count": 4,
   "metadata": {},
   "outputs": [
    {
     "name": "stdout",
     "output_type": "stream",
     "text": [
      "[0, 0]\n",
      "k2N10000det0_1_1.0_100.0_1\n",
      "[0, 100]\n",
      "k2N10000det100_1_1.0_100.0_2\n",
      "[0, 1000]\n",
      "k2N10000det1000_1_1.0_100.0_3\n",
      "[0, 5000]\n",
      "k2N10000det5000_1_1.0_100.0_4\n",
      "************************* Run 5 *************************\n",
      "Handle: k1N5000det0_1_1.0_100.0_5 \n",
      "\n",
      "\n",
      "['k2N10000det0_1_1.0_100.0_1', 'k2N10000det100_1_1.0_100.0_2', 'k2N10000det1000_1_1.0_100.0_3', 'k2N10000det5000_1_1.0_100.0_4', 'k1N5000det0_1_1.0_100.0_5']\n"
     ]
    }
   ],
   "source": [
    "#############################################################\n",
    "# Test 1: effect of inhomogeneous broadening\n",
    "#############################################################\n",
    "\n",
    "detunings = [[0,0],[0,100], [0,1000], [0,5000]]\n",
    "num_ens = 2\n",
    "N_total = 10000\n",
    "theta_0 = 1\n",
    "phi_0 = 0.0\n",
    "coup_a_0 = 1.0\n",
    "gamma_a_0 = 0.0\n",
    "chi_a_0 = 0.0\n",
    "kappa_c_0 = 100.0\n",
    "t_max = 0.2\n",
    "t_num = 60000\n",
    "run = 0\n",
    "det_dict = {}\n",
    "handle_list = []\n",
    "for i in range(len(detunings)):\n",
    "    print(detunings[i])\n",
    "    params = f'{num_ens} {N_total} {theta_0} {phi_0} {coup_a_0} {gamma_a_0} {chi_a_0} {kappa_c_0} {t_max} {t_num}'\n",
    "    handle = f'k{num_ens}N{N_total}det{detunings[i][1]}_{theta_0}_{coup_a_0}_{kappa_c_0}_{i+1}' # Add extra notes as needed\n",
    "    det_dict[handle] = detunings[i]\n",
    "    handle_list.append(handle)\n",
    "    print(handle)\n",
    "\n",
    "\n",
    "detuning_0 = [0]\n",
    "num_ens = 1\n",
    "N_total = 5000\n",
    "params = f'{num_ens} {N_total} {theta_0} {phi_0} {coup_a_0} {gamma_a_0} {chi_a_0} {kappa_c_0} {t_max} {t_num}'\n",
    "handle = f'k{num_ens}N{N_total}det{0}_{theta_0}_{coup_a_0}_{kappa_c_0}_{5}' # Add extra notes as needed\n",
    "det_dict[handle] = detuning_0\n",
    "handle_list.append(handle)\n",
    "print(f\"************************* Run {5} *************************\")\n",
    "print(f\"Handle: {handle} \")\n",
    "print(\"\\n\")\n",
    "\n",
    "\n",
    "print(handle_list)"
   ]
  },
  {
   "cell_type": "code",
   "execution_count": 19,
   "metadata": {},
   "outputs": [
    {
     "data": {
      "image/png": "[encoded data removed]",
      "text/plain": [
       "<Figure size 1200x420 with 2 Axes>"
      ]
     },
     "metadata": {},
     "output_type": "display_data"
    }
   ],
   "source": [
    "plot_good = True # Change to 1 once sure the result is good\n",
    "results = [utils.read_results(handle) for handle in handle_list]\n",
    "\n",
    "fig = plt.figure(figsize=(12,4.2))\n",
    "ax = fig.subplots(1, 2)\n",
    "ax[0].set_title(\"Population inversion (0-class)\")\n",
    "ax[0].set_xlabel(r\"Time ($\\mu$s)\")\n",
    "ax[0].set_ylabel(r\"$\\langle \\sigma_z\\rangle$\")\n",
    "ax[1].set_title(\"Intracavity photons\")\n",
    "ax[1].set_xlabel(r\"Time ($\\mu$s)\")\n",
    "ax[1].set_ylabel(r\"$\\langle a^\\dagger a\\rangle$\")\n",
    "for i in range(len(handle_list)-1):\n",
    "    ax[0].plot(results[i][0], results[i][1][:,0], label=detunings[i])\n",
    "    ax[1].plot(results[i][0], results[i][3], label=detunings[i])\n",
    "ax[0].plot(results[0][0], results[-1][1], label=detunings[i])\n",
    "ax[1].plot(results[0][0], results[-1][3], label=detunings[i])\n",
    "\n",
    "ax[0].legend()\n",
    "ax[1].legend()\n",
    "if plot_good == True:\n",
    "    fig.savefig(\"test1.pdf\", dpi=300, pad_inches=0.2)"
   ]
  },
  {
   "attachments": {},
   "cell_type": "markdown",
   "metadata": {},
   "source": [
    "# Test 2: Propagation"
   ]
  },
  {
   "cell_type": "code",
   "execution_count": null,
   "metadata": {},
   "outputs": [],
   "source": [
    "#############################################################\n",
    "# Test 2: effect of inhomogeneous broadening (intermediate case)\n",
    "#############################################################\n",
    "max_det = 280\n",
    "detunings = [[0,max_det],[0,max_det/2],[0,2*max_det/3],[0,max_det/2,max_det],\n",
    "             [0,max_det/3], [0,max_det/3, max_det], \n",
    "             [0, 2*max_det/3], [0, 2*max_det/3, max_det]]\n",
    "num_ens = 3\n",
    "N_ens = 5000\n",
    "theta_0 = 1\n",
    "phi_0 = 0.0\n",
    "coup_a_0 = 1.0\n",
    "gamma_a_0 = 0.0\n",
    "chi_a_0 = 0.0\n",
    "kappa_c_0 = 100.0\n",
    "t_max = 0.2\n",
    "t_num = 60000\n",
    "run = 0\n",
    "det_dict = {}\n",
    "handle_list = []\n",
    "\n",
    "for i in range(len(detunings)):\n",
    "    # np.savetxt(f\"Detuning.dat\", detunings[i], delimiter=\"\\t\")\n",
    "    num_ens = len(detunings[i])\n",
    "    params = f'{num_ens} {N_ens*num_ens} {theta_0} {phi_0} {coup_a_0} {gamma_a_0} {chi_a_0} {kappa_c_0} {t_max} {t_num}'\n",
    "    handle = f'k{num_ens}N{N_ens*num_ens}det{max_det}_{theta_0}_{coup_a_0}_{kappa_c_0}_{i+1}' # Add extra notes as needed\n",
    "    det_dict[handle] = detunings[i]\n",
    "    handle_list.append(handle)\n",
    "    print(f\"************************* Run {i+1} *************************\")\n",
    "    print(f\"Handle: {handle} \")\n",
    "    if os.path.isfile(f\"Result_Sz_{handle}.dat\") == False:\n",
    "        utils.runcmd(f'file.exe {params} {handle}')\n",
    "    else:\n",
    "        print(\"File exits, skipping simulation\")\n",
    "    #utils.runcmd(f'file.exe {params} {handle}')\n",
    "    print(\"\\n\")"
   ]
  },
  {
   "cell_type": "code",
   "execution_count": null,
   "metadata": {},
   "outputs": [],
   "source": [
    "#############################################################\n",
    "# Test 2: plot dW/dt\n",
    "#############################################################\n",
    "plot_good = True # Change to 1 once sure the result is good\n",
    "results = [utils.read_results(handle) for handle in handle_list]\n",
    "sz_list = [results[i][1] for i in range(len(handle_list))]\n",
    "dt = results[0][0][-1]/np.size(results[0][0])\n",
    "fig = plt.figure()\n",
    "ax = fig.subplots(1, 1)\n",
    "plt.figure(figsize=(6.5,4.2))\n",
    "ax.set_title(\"Total atomic decay rate\")\n",
    "ax.set_ylabel(r\"dW/dt\")\n",
    "ax.set_xlabel(r\"Time ($\\mu$s)\")\n",
    "labels = [r\"[0,$\\delta$]\", r\"[0,$\\delta/3$]\", r\"[0,$\\delta/3$, $\\delta$]\"]\n",
    "run = 0\n",
    "for i in [0,4,5]:\n",
    "    W = utils.Wt(results[i][1])\n",
    "    I = -utils.diffentiate(dt, W)\n",
    "    print(detunings[i])\n",
    "    ax.plot(results[0][0][:-1], I, label=labels[run])\n",
    "    run += 1\n",
    "    # ax.set_yscale('log')\n",
    "ax.legend()\n",
    "if plot_good == True:\n",
    "    fig.savefig(\"test2_dwdt_3.pdf\", dpi=300, pad_inches=0.2)"
   ]
  },
  {
   "cell_type": "code",
   "execution_count": null,
   "metadata": {},
   "outputs": [],
   "source": [
    "#############################################################\n",
    "# Test 2: plot sz[0]\n",
    "#############################################################\n",
    "plot_good = True # Change to 1 once sure the result is good\n",
    "results = [utils.read_results(handle) for handle in handle_list]\n",
    "\n",
    "fig = plt.figure()\n",
    "ax = fig.subplots(1, 1)\n",
    "plt.figure(figsize=(6.5,4.2))\n",
    "ax.set_title(\"Population inversion (2nd class)\")\n",
    "ax.set_ylabel(r\"$\\Delta\\langle\\sigma_z\\rangle$\")\n",
    "ax.set_xlabel(r\"Time ($\\mu$s)\")\n",
    "labels = [r\"[0, $\\delta$]\",r\"[0,$\\delta/3$]\",  r\"[0,$\\delta/3, \\delta$]\",\n",
    "          r\"[0,$\\delta/2$]\", r\"[0,$\\delta/2$, $\\delta$]\",\n",
    "          r\"[0,$2\\delta/3$]\", r\"[0,$2\\delta/3$, $\\delta$]\"]\n",
    "run = 0\n",
    "for i in [0,3,4,1,2,5,6]:\n",
    "    ax.plot(results[0][0], results[i][1][:,1], label=labels[run])\n",
    "    run += 1\n",
    "    # ax.set_yscale('log')\n",
    "ax.legend()\n",
    "if plot_good == True:\n",
    "    fig.savefig(f\"test2_dsz2.pdf\", dpi=300, pad_inches=0.2)"
   ]
  },
  {
   "cell_type": "code",
   "execution_count": null,
   "metadata": {},
   "outputs": [],
   "source": [
    "#############################################################\n",
    "# Test 2: plot sz[1]\n",
    "#############################################################\n",
    "plot_good = False # Change to 1 once sure the result is good\n",
    "\n",
    "fig = plt.figure()\n",
    "ax = fig.subplots(1, 1)\n",
    "plt.figure(figsize=(6.5,4.2))\n",
    "ax.set_title(\"Population inversion (2nd class)\")\n",
    "ax.set_ylabel(r\"$\\langle\\sigma_z\\rangle$\")\n",
    "ax.set_xlabel(r\"Time ($\\mu$s)\")\n",
    "labels = [r\"[0,$\\delta$]\", r\"[0,$\\delta/3, \\delta$]-[0,$\\delta/3$]\", r\"[0,$\\delta/2$, $\\delta$]-[0, $\\delta/2$]\",\n",
    "          r\"[0,$2\\delta/3$, $\\delta$]-[0,$2\\delta/3$]\"]\n",
    "run = 0\n",
    "ax.plot(results[3][1][:,0]-results[1][1][:,0], label=labels[0])\n",
    "ax.plot(results[5][1][:,0]-results[4][1][:,0], label=labels[1])\n",
    "ax.plot(results[7][1][:,0]-results[6][1][:,0], label=labels[2])\n",
    "ax.legend()\n",
    "if plot_good == True:\n",
    "    fig.savefig(f\"test2_dsz.pdf\", dpi=300, pad_inches=0.2)"
   ]
  },
  {
   "attachments": {},
   "cell_type": "markdown",
   "metadata": {},
   "source": [
    "# Test 3: critical detuning vs number of spins"
   ]
  },
  {
   "cell_type": "code",
   "execution_count": null,
   "metadata": {},
   "outputs": [],
   "source": [
    "#############################################################\n",
    "# Test 3: Find critical detuning\n",
    "# Criterion 1: Td <1.05 Td(0)\n",
    "# Criterion 2: sz_delta < -0.8\n",
    "# System {-d, 0, d}\n",
    "#############################################################\n",
    "N_tot_range = np.linspace(20000, 800000, 40)[::-1].astype(int) # Start with the largest ensemble\n",
    "num_ens = 3\n",
    "theta_0 = 1\n",
    "phi_0 = 0.0\n",
    "coup_a_0 = 1.0\n",
    "gamma_a_0 = 0.0\n",
    "chi_a_0 = 0.0\n",
    "kappa_c_0 = 100.0\n",
    "t_max = 0.2\n",
    "t_num = 60000\n",
    "det_dict = {}\n",
    "handle_list = []\n",
    "delta_min = 0\n",
    "delta_max = 375\n",
    "delta_cur = delta_max # Temporary variable\n",
    "cor_cri = 0.99\n",
    "tol = 1e-3 # Tolerance 0.001\n",
    "delta_crit = [] # Storing critical detunings satisfying crit\n",
    "\n",
    "for N_tot in N_tot_range:\n",
    "    # Run initial test to see if the current range is ok\n",
    "    crit1 = 0\n",
    "    found1 = False\n",
    "    run = 0\n",
    "    max_run = 10\n",
    "    delta_min = 0\n",
    "    delta_max = delta_cur # Smaller ensembles have smaller critical detuning\n",
    "    \n",
    "    # Initial check: crit1 fails at delta_max\n",
    "    while(True):\n",
    "        print(delta_max)\n",
    "        detuning_max = [0, -delta_max, delta_max]\n",
    "        np.savetxt(\"Detuning.dat\", detuning_max, delimiter=\"\\t\")\n",
    "        params = f'{num_ens} {N_tot} {theta_0} {phi_0} {coup_a_0} {gamma_a_0} {chi_a_0} {kappa_c_0} {t_max} {t_num}'\n",
    "        handle_max = f'k{num_ens}N{N_tot}det{delta_max}_{theta_0}_{coup_a_0}_{kappa_c_0}_test3'\n",
    "        print(handle_max)\n",
    "        # Check if file already exists\n",
    "        if os.path.isfile(f\"Result_Sz_{handle_max}.dat\") == False:\n",
    "            utils.runcmd(f'file.exe {params} {handle_max}')\n",
    "        else:\n",
    "            print(\"File exits, skipping simulation\")\n",
    "        # utils.runcmd(f'file.exe {params} {handle_max}')\n",
    "        result = utils.read_results(handle_max)\n",
    "        cor = np.corrcoef(result[1][:,0],result[1][:,1])[0][1]\n",
    "        \n",
    "        if np.abs(cor-cor_cri) < tol: # delta_max is the critical detuning for crit1\n",
    "            delta_crit.append(delta_max)\n",
    "            found1 = True\n",
    "            delta_cur = delta_max\n",
    "            print(f\"delta_crit1 has been found at boundary {delta_max}\")\n",
    "            break\n",
    "        elif cor < cor_cri:\n",
    "            break\n",
    "        elif cor > cor_cri: # delta_max is smaller than critical detuning for crit1\n",
    "            delta_max += 100\n",
    "            print(f\"delta_max smaller than critical, increase by 100 to {delta_max}\")\n",
    "        # break (auto) delta_max is larger than critical detuning for crit 1\n",
    "    \n",
    "    # Start searching by binary\n",
    "    while((found1== False) and run<max_run and delta_max-delta_min>5):\n",
    "        run += 1\n",
    "        delta_mid = int((delta_max + delta_min)/2)\n",
    "        detuning_mid = [0, -delta_mid, delta_mid]\n",
    "        np.savetxt(\"Detuning.dat\", detuning_mid, delimiter=\"\\t\")   \n",
    "        handle_mid = f'k{num_ens}N{N_tot}det{delta_mid}_{theta_0}_{coup_a_0}_{kappa_c_0}_test3' # Add extra notes as needed\n",
    "        handle_list.append(handle_mid)\n",
    "        det_dict[handle_mid] = detuning_mid\n",
    "        print(f\"************************* {N_tot} Run {run} Detuning {delta_mid} *************************\")\n",
    "        print(f\"Handle: {handle_mid}\")\n",
    "        if os.path.isfile(f\"Result_Sz_{handle_mid}.dat\") == False:\n",
    "            utils.runcmd(f'file.exe {params} {handle_mid}')\n",
    "        else:\n",
    "            print(\"File exits, skipping simulation\")\n",
    "        # utils.runcmd(f'file.exe {params} {handle_mid}')\n",
    "        result = utils.read_results(handle_mid)\n",
    "        cor = np.corrcoef(result[1][:,0],result[1][:,1])[0][1]\n",
    "        if np.abs(cor - cor_cri) < tol:\n",
    "            delta_crit.append(delta_mid)\n",
    "            found1 = True\n",
    "            delta_cur = delta_mid\n",
    "            print(f\"delta_crit1 has been found at run {run}: {delta_mid}, {cor}\")\n",
    "            break\n",
    "        elif cor < cor_cri:\n",
    "            delta_max = delta_mid\n",
    "            print(f\"Detuning {delta_mid} too large, {cor}, next round\")\n",
    "        elif cor > cor_cri:\n",
    "            delta_min = delta_mid\n",
    "            print(f\"Detuning {delta_mid} too small, {cor}, next round\")\n",
    "    \n",
    "    if found1 == False:\n",
    "        delta_mid = int((delta_min + delta_max)/2)\n",
    "        delta_crit.append(delta_mid)\n",
    "        found1 = True\n",
    "        delta_cur = delta_mid\n",
    "        print(f\"Unable to resolve within max_iter, settle at {delta_mid} with cor ~{cor}\")"
   ]
  },
  {
   "cell_type": "code",
   "execution_count": null,
   "metadata": {},
   "outputs": [],
   "source": [
    "N_tot = 50000\n",
    "detuning_range = [50,100,200]\n",
    "num_ens = 3\n",
    "theta_0 = 1\n",
    "phi_0 = 0.0\n",
    "coup_a_0 = 1.0\n",
    "gamma_a_0 = 0.0\n",
    "chi_a_0 = 0.0\n",
    "kappa_c_0 = 100.0\n",
    "t_max = 0.15\n",
    "t_num = 60000\n",
    "handle_list1 = []\n",
    "\n",
    "for i in range(len(detuning_range)):\n",
    "    delta = detuning_range[i]\n",
    "    detuning_set = [0, -delta, delta]\n",
    "    np.savetxt(f\"Detuning.dat\", detuning_set, delimiter=\"\\t\")\n",
    "    params = f'{num_ens} {N_tot} {theta_0} {phi_0} {coup_a_0} {gamma_a_0} {chi_a_0} {kappa_c_0} {t_max} {t_num}'\n",
    "    handle = f'k{num_ens}N{N_tot}det{delta}_{theta_0}_{coup_a_0}_{kappa_c_0}__test3' # Add extra notes as needed\n",
    "    handle_list1.append(handle)\n",
    "    print(f\"************************* Run {i+1} *************************\")\n",
    "    print(f\"Handle: {handle} \")\n",
    "    if os.path.isfile(f\"Result_Sz_{handle}.dat\") == False:\n",
    "        utils.runcmd(f'file.exe {params} {handle}')\n",
    "    else:\n",
    "        print(\"File exits, skipping simulation\")\n",
    "    # utils.runcmd(f'file.exe {params} {handle}')\n",
    "    print(\"\\n\")"
   ]
  },
  {
   "cell_type": "code",
   "execution_count": null,
   "metadata": {},
   "outputs": [],
   "source": [
    "results1 = [utils.read_results(handle) for handle in handle_list1]"
   ]
  },
  {
   "cell_type": "code",
   "execution_count": null,
   "metadata": {},
   "outputs": [],
   "source": [
    "plot_save = True\n",
    "fig, ax = plt.subplots(1,3,sharey=True, figsize=(15,4), gridspec_kw = {'wspace':0, 'hspace':0.08})\n",
    "\n",
    "for i in range(3):\n",
    "    ax[i].plot(results1[0][0], results1[i][1][:,0], label=\"0\")\n",
    "    ax[i].plot(results1[0][0], results1[i][1][:,1], label=r\"$\\pm\\delta$\")\n",
    "    ax[i].set_xlabel(r\"Time ($\\mu$s)\")\n",
    "    ax[i].ticklabel_format(axis='x', style='sci', scilimits=(-2,-2))\n",
    "    ax[i].legend()\n",
    "ax[0].set_ylabel(r\"$\\langle \\sigma_z\\rangle$\")\n",
    "fig.subplots_adjust(bottom=0.2)\n",
    "if plot_save:\n",
    "    fig.savefig(f\"test3_sz.pdf\", dpi=300)\n",
    "# plt.text(0.12,0.1, f\"Correlation: {round(cor, 4)}\")"
   ]
  },
  {
   "cell_type": "code",
   "execution_count": null,
   "metadata": {},
   "outputs": [],
   "source": [
    "\n",
    "#from sklearn.metrics import r2_score\n",
    "from scipy.optimize import curve_fit\n",
    "\n",
    "X = np.array(N_tot_range)\n",
    "Y = np.array(delta_crit)\n",
    "\n",
    "def quadratic_function(X, a, b, c):\n",
    "    return a * X ** 2 + b * X + c\n",
    "\n",
    "def logarithmic_function(X, a, b) :\n",
    "    return a * np.log(X) + b\n",
    "\n",
    "def hyperbola_function(x, a, b, c):\n",
    "    return a / (x - b) + c\n",
    "\n",
    "log_co, _ = curve_fit(logarithmic_function, X, Y)\n",
    "quad_co, _ = curve_fit(quadratic_function, X, Y)\n",
    "hyp_co, _ = curve_fit(hyperbola_function, X, Y)\n",
    "\n",
    "print(\"Optimized parameters (log):\", log_co)\n",
    "print(\"Optimized parameters (quad):\", quad_co)\n",
    "print(\"Optimized parameters (hyper):\", hyp_co)\n",
    "\n",
    "def predict_Y_log(X):\n",
    "    return logarithmic_function(X, *log_co)\n",
    "\n",
    "def predict_Y_quad(X):\n",
    "    return quadratic_function(X, *quad_co)\n",
    "\n",
    "def predict_Y_hyp(X):\n",
    "    return hyperbola_function(X, *hyp_co)\n",
    "\n",
    "#print(\"R-squared:\", r2_score(Y, predict_Y(X)))\n"
   ]
  },
  {
   "cell_type": "code",
   "execution_count": null,
   "metadata": {},
   "outputs": [],
   "source": [
    "plt.scatter(N_tot_range, delta_crit, label=\"Data\")\n",
    "# plt.plot(N_tot_range, predict_Y_log(N_tot_range))\n",
    "# plt.plot(N_tot_range, predict_Y_quad(N_tot_range))\n",
    "plt.plot(N_tot_range, predict_Y_hyp(N_tot_range),label=\"Rational fit\", color=\"#ff7f0e\")\n",
    "plt.ylabel(r\"$\\delta^*$(kHz)\")\n",
    "plt.xlabel(\"N_tot\")\n",
    "plt.legend()\n",
    "plt.savefig(f\"test3_fit.pdf\", dpi=300, pad_inches=0.2)\n",
    "# delta_crit\n",
    "# plt.scatter(N_tot_range, delta_crit)\n",
    "# plt.plot(N_tot_range, predict_Y(N_tot_range))"
   ]
  },
  {
   "attachments": {},
   "cell_type": "markdown",
   "metadata": {},
   "source": [
    "# Test 4: Symmetry"
   ]
  },
  {
   "cell_type": "code",
   "execution_count": null,
   "metadata": {},
   "outputs": [],
   "source": [
    "#############################################################\n",
    "# Test 4: system preparation\n",
    "#############################################################\n",
    "max_det = 250\n",
    "detunings = [[0,-max_det, max_det], [0,max_det, max_det]]\n",
    "num_ens = 3\n",
    "N_tot = 50000 * num_ens\n",
    "theta_0 = 1\n",
    "phi_0 = 0.0\n",
    "coup_a_0 = 1.0\n",
    "gamma_a_0 = 0.0\n",
    "chi_a_0 = 0.0\n",
    "kappa_c_0 = 100.0\n",
    "t_max = 0.2\n",
    "t_num = 60000\n",
    "det_dict = {}\n",
    "handle_list = []\n",
    "\n",
    "for i in range(len(detunings)):\n",
    "    np.savetxt(f\"Detuning.dat\", detunings[i], delimiter=\"\\t\")\n",
    "    params = f'{num_ens} {N_tot} {theta_0} {phi_0} {coup_a_0} {gamma_a_0} {chi_a_0} {kappa_c_0} {t_max} {t_num}'\n",
    "    handle = f'k{num_ens}N{N_tot}det{max_det}_{theta_0}_{coup_a_0}_{kappa_c_0}__test2_{i+1}' # Add extra notes as needed\n",
    "    det_dict[handle] = detunings[i]\n",
    "    handle_list.append(handle)\n",
    "    print(f\"************************* Run {i+1} *************************\")\n",
    "    print(f\"Handle: {handle} \")\n",
    "    # if os.path.isfile(f\"Result_Sz_{handle}.dat\") == False:\n",
    "    #     utils.runcmd(f'file.exe {params} {handle}')\n",
    "    # else:\n",
    "    #     print(\"File exits, skipping simulation\")\n",
    "    utils.runcmd(f'file.exe {params} {handle}')\n",
    "    print(\"\\n\")"
   ]
  },
  {
   "cell_type": "code",
   "execution_count": null,
   "metadata": {},
   "outputs": [],
   "source": [
    "#############################################################\n",
    "# Test 4: read results\n",
    "#############################################################\n",
    "results = [utils.read_results(handle) for handle in handle_list]"
   ]
  },
  {
   "cell_type": "code",
   "execution_count": null,
   "metadata": {},
   "outputs": [],
   "source": [
    "#############################################################\n",
    "# Test 4: plot sz\n",
    "#############################################################\n",
    "plot_save = True\n",
    "fig, ax = plt.subplots(2,2,sharex=True, figsize=(15,8), gridspec_kw = {'wspace':0.12, 'hspace':0.08})\n",
    "\n",
    "ax[0][0].set_ylabel(r\"$\\langle \\sigma_z\\rangle$\")\n",
    "ax[1][0].set_ylabel(r\"$\\langle \\sigma_z\\rangle$\")\n",
    "ax[0][1].set_ylabel(r\"$\\langle a^\\dagger a\\rangle$\")\n",
    "ax[1][1].set_ylabel(r\"$\\langle a^\\dagger a\\rangle$\")\n",
    "ax[1][0].set_xlabel(r\"Time ($\\mu$s)\")\n",
    "ax[1][1].set_xlabel(r\"Time ($\\mu$s)\")\n",
    "ax[0][1].ticklabel_format(axis='y', style='sci', scilimits=(4,4))\n",
    "ax[1][1].ticklabel_format(axis='y', style='sci', scilimits=(4,4))\n",
    "\n",
    "\n",
    "t_ind = utils.cut_time(results[0][0], 0.08)\n",
    "ax[0][0].plot(results[0][0][:t_ind], results[0][1][:,0][:t_ind], label=r\"0\")\n",
    "ax[0][0].plot(results[0][0][:t_ind], results[0][1][:,1][:t_ind], label=r\"$\\pm\\delta$\")\n",
    "ax[1][0].plot(results[0][0][:t_ind], results[1][1][:,0][:t_ind], label=r\"0\")\n",
    "ax[1][0].plot(results[0][0][:t_ind], results[1][1][:,1][:t_ind], label=r\"$\\delta$\")\n",
    "\n",
    "ax[0][1].plot(results[0][0][:t_ind], results[0][3][:t_ind])\n",
    "ax[1][1].plot(results[0][0][:t_ind], results[1][3][:t_ind])\n",
    "\n",
    "ax[0][0].legend()\n",
    "ax[1][0].legend()\n",
    "ax[0][0].set_title(\"Population inversion\")\n",
    "ax[0][1].set_title(\"Intracavity photon\")\n",
    "if plot_save:\n",
    "    fig.savefig(f\"test4_sz.pdf\", dpi=300, pad_inches=0.2)"
   ]
  },
  {
   "attachments": {},
   "cell_type": "markdown",
   "metadata": {},
   "source": [
    "# Test 5: shift frequency (3-ensemble)"
   ]
  },
  {
   "cell_type": "code",
   "execution_count": 7,
   "metadata": {},
   "outputs": [
    {
     "name": "stdout",
     "output_type": "stream",
     "text": [
      "[380, -270, 1030]\n",
      "k3N300000det650D380_1_1.0_100.0_test5\n",
      "num_ens:\t\t\t3\n",
      "N_total:\t\t\t300000\n",
      "theta_0:\t\t\t1\n",
      "phi_0:\t\t\t\t0.0\n",
      "coup_a_0:\t\t\t1.0\n",
      "gamma_a_0 (atom decay):\t\t0.0\n",
      "chi_a_0 (atom dephase):\t\t0.0\n",
      "kappa_c_0 (cavity decay):\t100.0\n",
      "t_max:\t\t\t\t0.2\n",
      "t_num:\t\t\t\t60000\n",
      "\n",
      "\n"
     ]
    },
    {
     "name": "stderr",
     "output_type": "stream",
     "text": [
      "100% [\u001b[32m██████████\u001b[0m ]"
     ]
    },
    {
     "name": "stdout",
     "output_type": "stream",
     "text": [
      "Program takes about 26.37 s\n",
      "************************* 300000 Run 1 Detuning 325 *************************\n",
      "Handle: k3N300000det325D380_1_1.0_100.0_test3\n"
     ]
    },
    {
     "name": "stderr",
     "output_type": "stream",
     "text": [
      "\n"
     ]
    },
    {
     "name": "stdout",
     "output_type": "stream",
     "text": [
      "num_ens:\t\t\t3\n",
      "N_total:\t\t\t300000\n",
      "theta_0:\t\t\t1\n",
      "phi_0:\t\t\t\t0.0\n",
      "coup_a_0:\t\t\t1.0\n",
      "gamma_a_0 (atom decay):\t\t0.0\n",
      "chi_a_0 (atom dephase):\t\t0.0\n",
      "kappa_c_0 (cavity decay):\t100.0\n",
      "t_max:\t\t\t\t0.2\n",
      "t_num:\t\t\t\t60000\n",
      "\n",
      "\n"
     ]
    },
    {
     "name": "stderr",
     "output_type": "stream",
     "text": [
      "100% [\u001b[32m██████████\u001b[0m ]"
     ]
    },
    {
     "name": "stdout",
     "output_type": "stream",
     "text": [
      "Program takes about 27.12 s\n",
      "delta_crit1 has been found at run 1: 325, 0.9898690671122826\n",
      "[383, 58, 708]\n",
      "k3N300000det325D383_1_1.0_100.0_test5\n"
     ]
    },
    {
     "name": "stderr",
     "output_type": "stream",
     "text": [
      "\n"
     ]
    },
    {
     "name": "stdout",
     "output_type": "stream",
     "text": [
      "num_ens:\t\t\t3\n",
      "N_total:\t\t\t300000\n",
      "theta_0:\t\t\t1\n",
      "phi_0:\t\t\t\t0.0\n",
      "coup_a_0:\t\t\t1.0\n",
      "gamma_a_0 (atom decay):\t\t0.0\n",
      "chi_a_0 (atom dephase):\t\t0.0\n",
      "kappa_c_0 (cavity decay):\t100.0\n",
      "t_max:\t\t\t\t0.2\n",
      "t_num:\t\t\t\t60000\n",
      "\n",
      "\n"
     ]
    },
    {
     "name": "stderr",
     "output_type": "stream",
     "text": [
      "100% [\u001b[32m██████████\u001b[0m ]"
     ]
    },
    {
     "name": "stdout",
     "output_type": "stream",
     "text": [
      "Program takes about 26.76 s\n",
      "delta_crit1 has been found at boundary 325, 0.9896437629729641\n",
      "[386, 61, 711]\n",
      "k3N300000det325D386_1_1.0_100.0_test5\n"
     ]
    },
    {
     "name": "stderr",
     "output_type": "stream",
     "text": [
      "\n"
     ]
    },
    {
     "name": "stdout",
     "output_type": "stream",
     "text": [
      "num_ens:\t\t\t3\n",
      "N_total:\t\t\t300000\n",
      "theta_0:\t\t\t1\n",
      "phi_0:\t\t\t\t0.0\n",
      "coup_a_0:\t\t\t1.0\n",
      "gamma_a_0 (atom decay):\t\t0.0\n",
      "chi_a_0 (atom dephase):\t\t0.0\n",
      "kappa_c_0 (cavity decay):\t100.0\n",
      "t_max:\t\t\t\t0.2\n",
      "t_num:\t\t\t\t60000\n",
      "\n",
      "\n"
     ]
    },
    {
     "name": "stderr",
     "output_type": "stream",
     "text": [
      "100% [\u001b[32m██████████\u001b[0m ]"
     ]
    },
    {
     "name": "stdout",
     "output_type": "stream",
     "text": [
      "Program takes about 26.81 s\n",
      "delta_crit1 has been found at boundary 325, 0.9894133976603547\n",
      "[390, 65, 715]\n",
      "k3N300000det325D390_1_1.0_100.0_test5\n"
     ]
    },
    {
     "name": "stderr",
     "output_type": "stream",
     "text": [
      "\n"
     ]
    },
    {
     "name": "stdout",
     "output_type": "stream",
     "text": [
      "num_ens:\t\t\t3\n",
      "N_total:\t\t\t300000\n",
      "theta_0:\t\t\t1\n",
      "phi_0:\t\t\t\t0.0\n",
      "coup_a_0:\t\t\t1.0\n",
      "gamma_a_0 (atom decay):\t\t0.0\n",
      "chi_a_0 (atom dephase):\t\t0.0\n",
      "kappa_c_0 (cavity decay):\t100.0\n",
      "t_max:\t\t\t\t0.2\n",
      "t_num:\t\t\t\t60000\n",
      "\n",
      "\n"
     ]
    },
    {
     "name": "stderr",
     "output_type": "stream",
     "text": [
      "100% [\u001b[32m██████████\u001b[0m ]"
     ]
    },
    {
     "name": "stdout",
     "output_type": "stream",
     "text": [
      "Program takes about 27.12 s\n",
      "delta_crit1 has been found at boundary 325, 0.9890983129556685\n",
      "[393, 68, 718]\n",
      "k3N300000det325D393_1_1.0_100.0_test5\n"
     ]
    },
    {
     "name": "stderr",
     "output_type": "stream",
     "text": [
      "\n"
     ]
    },
    {
     "name": "stdout",
     "output_type": "stream",
     "text": [
      "num_ens:\t\t\t3\n",
      "N_total:\t\t\t300000\n",
      "theta_0:\t\t\t1\n",
      "phi_0:\t\t\t\t0.0\n",
      "coup_a_0:\t\t\t1.0\n",
      "gamma_a_0 (atom decay):\t\t0.0\n",
      "chi_a_0 (atom dephase):\t\t0.0\n",
      "kappa_c_0 (cavity decay):\t100.0\n",
      "t_max:\t\t\t\t0.2\n",
      "t_num:\t\t\t\t60000\n",
      "\n",
      "\n"
     ]
    },
    {
     "name": "stderr",
     "output_type": "stream",
     "text": [
      "100% [\u001b[32m██████████\u001b[0m ]"
     ]
    },
    {
     "name": "stdout",
     "output_type": "stream",
     "text": [
      "Program takes about 27.38 s\n",
      "************************* 300000 Run 1 Detuning 162 *************************\n",
      "Handle: k3N300000det162D393_1_1.0_100.0_test3\n"
     ]
    },
    {
     "name": "stderr",
     "output_type": "stream",
     "text": [
      "\n"
     ]
    },
    {
     "name": "stdout",
     "output_type": "stream",
     "text": [
      "num_ens:\t\t\t3\n",
      "N_total:\t\t\t300000\n",
      "theta_0:\t\t\t1\n",
      "phi_0:\t\t\t\t0.0\n",
      "coup_a_0:\t\t\t1.0\n",
      "gamma_a_0 (atom decay):\t\t0.0\n",
      "chi_a_0 (atom dephase):\t\t0.0\n",
      "kappa_c_0 (cavity decay):\t100.0\n",
      "t_max:\t\t\t\t0.2\n",
      "t_num:\t\t\t\t60000\n",
      "\n",
      "\n"
     ]
    },
    {
     "name": "stderr",
     "output_type": "stream",
     "text": [
      "100% [\u001b[32m██████████\u001b[0m ]"
     ]
    },
    {
     "name": "stdout",
     "output_type": "stream",
     "text": [
      "Program takes about 26.96 s\n",
      "Detuning 162 too small, 0.992838704550694, next round\n",
      "************************* 300000 Run 2 Detuning 243 *************************\n",
      "Handle: k3N300000det243D393_1_1.0_100.0_test3\n"
     ]
    },
    {
     "name": "stderr",
     "output_type": "stream",
     "text": [
      "\n"
     ]
    },
    {
     "name": "stdout",
     "output_type": "stream",
     "text": [
      "num_ens:\t\t\t3\n",
      "N_total:\t\t\t300000\n",
      "theta_0:\t\t\t1\n",
      "phi_0:\t\t\t\t0.0\n",
      "coup_a_0:\t\t\t1.0\n",
      "gamma_a_0 (atom decay):\t\t0.0\n",
      "chi_a_0 (atom dephase):\t\t0.0\n",
      "kappa_c_0 (cavity decay):\t100.0\n",
      "t_max:\t\t\t\t0.2\n",
      "t_num:\t\t\t\t60000\n",
      "\n",
      "\n"
     ]
    },
    {
     "name": "stderr",
     "output_type": "stream",
     "text": [
      "100% [\u001b[32m██████████\u001b[0m ]"
     ]
    },
    {
     "name": "stdout",
     "output_type": "stream",
     "text": [
      "Program takes about 27.57 s\n",
      "delta_crit1 has been found at run 2: 243, 0.9900450877559233\n",
      "[396, 153, 639]\n",
      "k3N300000det243D396_1_1.0_100.0_test5\n"
     ]
    },
    {
     "name": "stderr",
     "output_type": "stream",
     "text": [
      "\n"
     ]
    },
    {
     "name": "stdout",
     "output_type": "stream",
     "text": [
      "num_ens:\t\t\t3\n",
      "N_total:\t\t\t300000\n",
      "theta_0:\t\t\t1\n",
      "phi_0:\t\t\t\t0.0\n",
      "coup_a_0:\t\t\t1.0\n",
      "gamma_a_0 (atom decay):\t\t0.0\n",
      "chi_a_0 (atom dephase):\t\t0.0\n",
      "kappa_c_0 (cavity decay):\t100.0\n",
      "t_max:\t\t\t\t0.2\n",
      "t_num:\t\t\t\t60000\n",
      "\n",
      "\n"
     ]
    },
    {
     "name": "stderr",
     "output_type": "stream",
     "text": [
      "100% [\u001b[32m██████████\u001b[0m ]"
     ]
    },
    {
     "name": "stdout",
     "output_type": "stream",
     "text": [
      "Program takes about 27.36 s\n",
      "delta_crit1 has been found at boundary 243, 0.9898565956052109\n",
      "[400, 157, 643]\n",
      "k3N300000det243D400_1_1.0_100.0_test5\n"
     ]
    },
    {
     "name": "stderr",
     "output_type": "stream",
     "text": [
      "\n"
     ]
    },
    {
     "name": "stdout",
     "output_type": "stream",
     "text": [
      "num_ens:\t\t\t3\n",
      "N_total:\t\t\t300000\n",
      "theta_0:\t\t\t1\n",
      "phi_0:\t\t\t\t0.0\n",
      "coup_a_0:\t\t\t1.0\n",
      "gamma_a_0 (atom decay):\t\t0.0\n",
      "chi_a_0 (atom dephase):\t\t0.0\n",
      "kappa_c_0 (cavity decay):\t100.0\n",
      "t_max:\t\t\t\t0.2\n",
      "t_num:\t\t\t\t60000\n",
      "\n",
      "\n"
     ]
    },
    {
     "name": "stderr",
     "output_type": "stream",
     "text": [
      "100% [\u001b[32m██████████\u001b[0m ]"
     ]
    },
    {
     "name": "stdout",
     "output_type": "stream",
     "text": [
      "Program takes about 27.88 s\n",
      "delta_crit1 has been found at boundary 243, 0.9895882557293879\n",
      "[403, 160, 646]\n",
      "k3N300000det243D403_1_1.0_100.0_test5\n"
     ]
    },
    {
     "name": "stderr",
     "output_type": "stream",
     "text": [
      "\n"
     ]
    },
    {
     "name": "stdout",
     "output_type": "stream",
     "text": [
      "num_ens:\t\t\t3\n",
      "N_total:\t\t\t300000\n",
      "theta_0:\t\t\t1\n",
      "phi_0:\t\t\t\t0.0\n",
      "coup_a_0:\t\t\t1.0\n",
      "gamma_a_0 (atom decay):\t\t0.0\n",
      "chi_a_0 (atom dephase):\t\t0.0\n",
      "kappa_c_0 (cavity decay):\t100.0\n",
      "t_max:\t\t\t\t0.2\n",
      "t_num:\t\t\t\t60000\n",
      "\n",
      "\n"
     ]
    },
    {
     "name": "stderr",
     "output_type": "stream",
     "text": [
      "100% [\u001b[32m██████████\u001b[0m ]"
     ]
    },
    {
     "name": "stdout",
     "output_type": "stream",
     "text": [
      "Program takes about 26.97 s\n",
      "delta_crit1 has been found at boundary 243, 0.989374684743706\n",
      "[406, 163, 649]\n",
      "k3N300000det243D406_1_1.0_100.0_test5\n"
     ]
    },
    {
     "name": "stderr",
     "output_type": "stream",
     "text": [
      "\n"
     ]
    },
    {
     "name": "stdout",
     "output_type": "stream",
     "text": [
      "num_ens:\t\t\t3\n",
      "N_total:\t\t\t300000\n",
      "theta_0:\t\t\t1\n",
      "phi_0:\t\t\t\t0.0\n",
      "coup_a_0:\t\t\t1.0\n",
      "gamma_a_0 (atom decay):\t\t0.0\n",
      "chi_a_0 (atom dephase):\t\t0.0\n",
      "kappa_c_0 (cavity decay):\t100.0\n",
      "t_max:\t\t\t\t0.2\n",
      "t_num:\t\t\t\t60000\n",
      "\n",
      "\n"
     ]
    },
    {
     "name": "stderr",
     "output_type": "stream",
     "text": [
      "100% [\u001b[32m██████████\u001b[0m ]"
     ]
    },
    {
     "name": "stdout",
     "output_type": "stream",
     "text": [
      "Program takes about 26.80 s\n",
      "delta_crit1 has been found at boundary 243, 0.989150990971007\n",
      "[410, 167, 653]\n",
      "k3N300000det243D410_1_1.0_100.0_test5\n"
     ]
    },
    {
     "name": "stderr",
     "output_type": "stream",
     "text": [
      "\n"
     ]
    },
    {
     "name": "stdout",
     "output_type": "stream",
     "text": [
      "num_ens:\t\t\t3\n",
      "N_total:\t\t\t300000\n",
      "theta_0:\t\t\t1\n",
      "phi_0:\t\t\t\t0.0\n",
      "coup_a_0:\t\t\t1.0\n",
      "gamma_a_0 (atom decay):\t\t0.0\n",
      "chi_a_0 (atom dephase):\t\t0.0\n",
      "kappa_c_0 (cavity decay):\t100.0\n",
      "t_max:\t\t\t\t0.2\n",
      "t_num:\t\t\t\t60000\n",
      "\n",
      "\n"
     ]
    },
    {
     "name": "stderr",
     "output_type": "stream",
     "text": [
      "100% [\u001b[32m██████████\u001b[0m ]"
     ]
    },
    {
     "name": "stdout",
     "output_type": "stream",
     "text": [
      "Program takes about 26.93 s\n",
      "************************* 300000 Run 1 Detuning 121 *************************\n",
      "Handle: k3N300000det121D410_1_1.0_100.0_test3\n"
     ]
    },
    {
     "name": "stderr",
     "output_type": "stream",
     "text": [
      "\n"
     ]
    },
    {
     "name": "stdout",
     "output_type": "stream",
     "text": [
      "num_ens:\t\t\t3\n",
      "N_total:\t\t\t300000\n",
      "theta_0:\t\t\t1\n",
      "phi_0:\t\t\t\t0.0\n",
      "coup_a_0:\t\t\t1.0\n",
      "gamma_a_0 (atom decay):\t\t0.0\n",
      "chi_a_0 (atom dephase):\t\t0.0\n",
      "kappa_c_0 (cavity decay):\t100.0\n",
      "t_max:\t\t\t\t0.2\n",
      "t_num:\t\t\t\t60000\n",
      "\n",
      "\n"
     ]
    },
    {
     "name": "stderr",
     "output_type": "stream",
     "text": [
      "100% [\u001b[32m██████████\u001b[0m ]"
     ]
    },
    {
     "name": "stdout",
     "output_type": "stream",
     "text": [
      "Program takes about 27.31 s\n",
      "Detuning 121 too small, 0.9945679439690677, next round\n",
      "************************* 300000 Run 2 Detuning 182 *************************\n",
      "Handle: k3N300000det182D410_1_1.0_100.0_test3\n"
     ]
    },
    {
     "name": "stderr",
     "output_type": "stream",
     "text": [
      "\n"
     ]
    },
    {
     "name": "stdout",
     "output_type": "stream",
     "text": [
      "num_ens:\t\t\t3\n",
      "N_total:\t\t\t300000\n",
      "theta_0:\t\t\t1\n",
      "phi_0:\t\t\t\t0.0\n",
      "coup_a_0:\t\t\t1.0\n",
      "gamma_a_0 (atom decay):\t\t0.0\n",
      "chi_a_0 (atom dephase):\t\t0.0\n",
      "kappa_c_0 (cavity decay):\t100.0\n",
      "t_max:\t\t\t\t0.2\n",
      "t_num:\t\t\t\t60000\n",
      "\n",
      "\n"
     ]
    },
    {
     "name": "stderr",
     "output_type": "stream",
     "text": [
      "100% [\u001b[32m██████████\u001b[0m ]"
     ]
    },
    {
     "name": "stdout",
     "output_type": "stream",
     "text": [
      "Program takes about 26.42 s\n",
      "delta_crit1 has been found at run 2: 182, 0.9909639009647596\n"
     ]
    },
    {
     "name": "stderr",
     "output_type": "stream",
     "text": [
      "\n"
     ]
    }
   ],
   "source": [
    "#############################################################\n",
    "# Test 3: Find critical detuning\n",
    "# Criterion 1: Td <1.05 Td(0)\n",
    "# Criterion 2: sz_delta < -0.8\n",
    "# System {-d, 0, d}\n",
    "#############################################################\n",
    "N_tot = 300000\n",
    "# shifts = np.linspace(20,800,20).astype(int) # General run\n",
    "# shifts = np.linspace(380,410,10).astype(int) # Special run 1\n",
    "shifts = np.linspace(380,410,10).astype(int) # Special run 2\n",
    "num_ens = 3\n",
    "theta_0 = 1\n",
    "phi_0 = 0.0\n",
    "coup_a_0 = 1.0\n",
    "gamma_a_0 = 0.0\n",
    "chi_a_0 = 0.0\n",
    "kappa_c_0 = 100.0\n",
    "t_max = 0.2\n",
    "t_num = 60000\n",
    "# det_dict = {}\n",
    "# handle_list = []\n",
    "delta_min = 100\n",
    "delta_max = 650\n",
    "delta_cur = delta_max # Temporary variable\n",
    "cor_cri = 0.99\n",
    "tol = 1e-3 # Tolerance 0.001\n",
    "# delta_crit = [] # Storing critical detunings satisfying crit\n",
    "\n",
    "for shift in shifts:\n",
    "    # Run initial test to see if the current range is ok\n",
    "    crit1 = 0\n",
    "    found1 = False\n",
    "    run = 0\n",
    "    max_run = 10\n",
    "    delta_min = 0\n",
    "    delta_max = delta_cur # Larger shifts have smaller critical detuning\n",
    "    \n",
    "    # Initial check: crit1 fails at delta_max\n",
    "    while(True):\n",
    "        detuning_max = [shift, -delta_max + shift, delta_max + shift]\n",
    "        print(detuning_max)\n",
    "        np.savetxt(\"Detuning.dat\", detuning_max, delimiter=\"\\t\")\n",
    "        params = f'{num_ens} {N_tot} {theta_0} {phi_0} {coup_a_0} {gamma_a_0} {chi_a_0} {kappa_c_0} {t_max} {t_num}'\n",
    "        handle_max = f'k{num_ens}N{N_tot}det{delta_max}D{shift}_{theta_0}_{coup_a_0}_{kappa_c_0}_test5'\n",
    "        print(handle_max)\n",
    "        # Check if file already exists\n",
    "        if os.path.isfile(f\"Result_Sz_{handle_max}.dat\") == False:\n",
    "            utils.runcmd(f'file.exe {params} {handle_max}')\n",
    "        else:\n",
    "            print(\"File exits, skipping simulation\")\n",
    "        # utils.runcmd(f'file.exe {params} {handle_max}')\n",
    "        result = utils.read_results(handle_max)\n",
    "        cor = np.corrcoef(result[1][:,0],result[1][:,1])[0][1]\n",
    "        \n",
    "        if np.abs(cor-cor_cri) < tol: # delta_max is the critical detuning for crit1\n",
    "            delta_crit.append(delta_max)\n",
    "            found1 = True\n",
    "            delta_cur = delta_max\n",
    "            print(f\"delta_crit1 has been found at boundary {delta_max}, {cor}\")\n",
    "            break\n",
    "        elif cor < cor_cri:\n",
    "            break\n",
    "        elif cor > cor_cri: # delta_max is smaller than critical detuning for crit1\n",
    "            delta_max += 100\n",
    "            print(f\"delta_max smaller than critical, increase by 100 to {delta_max}\")\n",
    "        # break (auto) delta_max is larger than critical detuning for crit 1\n",
    "    \n",
    "    # Start searching by binary\n",
    "    while((found1== False) and run<max_run and delta_max-delta_min>5):\n",
    "        run += 1\n",
    "        delta_mid = int((delta_max + delta_min)/2)\n",
    "        detuning_mid = [shift, -delta_mid + shift, delta_mid + shift]\n",
    "        np.savetxt(\"Detuning.dat\", detuning_mid, delimiter=\"\\t\")   \n",
    "        handle_mid = f'k{num_ens}N{N_tot}det{delta_mid}D{shift}_{theta_0}_{coup_a_0}_{kappa_c_0}_test3' # Should be test 5 instead\n",
    "        handle_list.append(handle_mid)\n",
    "        det_dict[handle_mid] = detuning_mid\n",
    "        print(f\"************************* {N_tot} Run {run} Detuning {delta_mid} *************************\")\n",
    "        print(f\"Handle: {handle_mid}\")\n",
    "        if os.path.isfile(f\"Result_Sz_{handle_mid}.dat\") == False:\n",
    "            utils.runcmd(f'file.exe {params} {handle_mid}')\n",
    "        else:\n",
    "            print(\"File exits, skipping simulation\")\n",
    "        # utils.runcmd(f'file.exe {params} {handle_mid}')\n",
    "        result = utils.read_results(handle_mid)\n",
    "        cor = np.corrcoef(result[1][:,0],result[1][:,1])[0][1]\n",
    "        if np.abs(cor - cor_cri) < tol:\n",
    "            delta_crit.append(delta_mid)\n",
    "            found1 = True\n",
    "            delta_cur = delta_mid\n",
    "            print(f\"delta_crit1 has been found at run {run}: {delta_mid}, {cor}\")\n",
    "            break\n",
    "        elif cor < cor_cri:\n",
    "            delta_max = delta_mid\n",
    "            print(f\"Detuning {delta_mid} too large, {cor}, next round\")\n",
    "        elif cor > cor_cri:\n",
    "            delta_min = delta_mid\n",
    "            print(f\"Detuning {delta_mid} too small, {cor}, next round\")\n",
    "    \n",
    "    if found1 == False:\n",
    "        delta_mid = int((delta_min + delta_max)/2)\n",
    "        delta_crit.append(delta_mid)\n",
    "        found1 = True\n",
    "        delta_cur = delta_mid\n",
    "        print(f\"Unable to resolve within max_iter, settle at {delta_mid} with cor ~{cor}\")"
   ]
  },
  {
   "cell_type": "code",
   "execution_count": 15,
   "metadata": {},
   "outputs": [],
   "source": [
    "delta_crit = [239,254,276,305,328,\n",
    "                360,402,454,519,619,\n",
    "                179,156,136,119,111,\n",
    "                104,104,91,91,91, \n",
    "                325, 325, 325, 325, 243, \n",
    "                243, 243, 243, 243, 182]\n",
    "shifts = np.concatenate((np.linspace(20,800,20).astype(int), np.linspace(380,410,10).astype(int)))\n",
    "# shifts_manual = [ 20,  61, 102, 143, 184, 225, 266, 307, 348, 389, 430, 471, 512,\n",
    "#        553, 594, 635, 676, 717, 758, 800, 380, 383, 386, 390, 393, 396,\n",
    "#        400, 403, 406, 410]"
   ]
  },
  {
   "cell_type": "code",
   "execution_count": 12,
   "metadata": {},
   "outputs": [
    {
     "data": {
      "text/plain": [
       "<matplotlib.collections.PathCollection at 0x28a18a91a00>"
      ]
     },
     "execution_count": 12,
     "metadata": {},
     "output_type": "execute_result"
    },
    {
     "data": {
      "image/png": "[encoded data removed]",
      "text/plain": [
       "<Figure size 640x480 with 1 Axes>"
      ]
     },
     "metadata": {},
     "output_type": "display_data"
    }
   ],
   "source": [
    "plt.scatter(shifts, delta_crit, label=\"Data\")"
   ]
  },
  {
   "cell_type": "code",
   "execution_count": 17,
   "metadata": {},
   "outputs": [
    {
     "name": "stdout",
     "output_type": "stream",
     "text": [
      "************************* D348 Detuning 519 *************************\n",
      "Handle: k3N300000det519D348_1_1.0_100.0_test5\n",
      "File exits, skipping simulation\n",
      "************************* D389 Detuning 619 *************************\n",
      "Handle: k3N300000det619D389_1_1.0_100.0_test5\n",
      "File exits, skipping simulation\n",
      "************************* D383 Detuning 325 *************************\n",
      "Handle: k3N300000det325D383_1_1.0_100.0_test5\n",
      "File exits, skipping simulation\n",
      "************************* D396 Detuning 243 *************************\n",
      "Handle: k3N300000det243D396_1_1.0_100.0_test5\n",
      "File exits, skipping simulation\n",
      "************************* D410 Detuning 182 *************************\n",
      "Handle: k3N300000det182D410_1_1.0_100.0_test5\n",
      "num_ens:\t\t\t3\n",
      "N_total:\t\t\t300000\n",
      "theta_0:\t\t\t1\n",
      "phi_0:\t\t\t\t0.0\n",
      "coup_a_0:\t\t\t1.0\n",
      "gamma_a_0 (atom decay):\t\t0.0\n",
      "chi_a_0 (atom dephase):\t\t0.0\n",
      "kappa_c_0 (cavity decay):\t100.0\n",
      "t_max:\t\t\t\t0.2\n",
      "t_num:\t\t\t\t60000\n",
      "\n",
      "\n"
     ]
    },
    {
     "name": "stderr",
     "output_type": "stream",
     "text": [
      "100% [\u001b[32m██████████\u001b[0m ]"
     ]
    },
    {
     "name": "stdout",
     "output_type": "stream",
     "text": [
      "Program takes about 27.57 s\n"
     ]
    },
    {
     "name": "stderr",
     "output_type": "stream",
     "text": [
      "\n"
     ]
    }
   ],
   "source": [
    "# Closer look at 300-400\n",
    "inv_ind = [8,9,21,25,29] # Index of cases to investigate\n",
    "det_dict = {}\n",
    "handle_list = []\n",
    "\n",
    "for i in inv_ind:\n",
    "    shift = shifts[i]\n",
    "    delta = delta_crit[i]\n",
    "    detuning = [shift, -delta + shift, delta + shift]\n",
    "    np.savetxt(\"Detuning.dat\", detuning, delimiter=\"\\t\")   \n",
    "    handle = f'k{num_ens}N{N_tot}det{delta}D{shift}_{theta_0}_{coup_a_0}_{kappa_c_0}_test5' # Should be test 5 instead\n",
    "    handle_list.append(handle)\n",
    "    det_dict[handle] = detuning\n",
    "    print(f\"************************* D{shift} Detuning {delta} *************************\")\n",
    "    print(f\"Handle: {handle}\")\n",
    "    if os.path.isfile(f\"Result_Sz_{handle}.dat\") == False:\n",
    "        utils.runcmd(f'file.exe {params} {handle}')\n",
    "    else:\n",
    "        print(\"File exits, skipping simulation\")\n",
    "    # utils.runcmd(f'file.exe {params} {handle_mid}')\n"
   ]
  },
  {
   "cell_type": "code",
   "execution_count": 18,
   "metadata": {},
   "outputs": [],
   "source": [
    "#############################################################\n",
    "# Read outputs\n",
    "#############################################################\n",
    "n_tests = len(handle_list) # Number of tests\n",
    "results = [utils.read_results(handle) for handle in handle_list]\n",
    "time_list = [results[i][0] for i in range(n_tests)]\n",
    "sz_list = [results[i][1] for i in range(n_tests)] # Population inversion\n",
    "coherence_list = [results[i][2] for i in range(n_tests)] # Coherence with class 0\n",
    "photon_list = [results[i][3] for i in range(n_tests)] # Intracavity photon number"
   ]
  },
  {
   "cell_type": "code",
   "execution_count": 31,
   "metadata": {},
   "outputs": [
    {
     "data": {
      "text/plain": [
       "Text(0.5, 1.0, 'Shift 383 critical detuning 325')"
      ]
     },
     "execution_count": 31,
     "metadata": {},
     "output_type": "execute_result"
    },
    {
     "data": {
      "image/png": "[encoded data removed]",
      "text/plain": [
       "<Figure size 640x480 with 1 Axes>"
      ]
     },
     "metadata": {},
     "output_type": "display_data"
    }
   ],
   "source": [
    "i = 2\n",
    "shift = shifts[inv_ind[i]]\n",
    "delt = delta_crit[inv_ind[i]]\n",
    "plt.plot(time_list[i], sz_list[i][:,0], label=f\"{shift}\")\n",
    "plt.plot(time_list[i], sz_list[i][:,1], label=f\"{shift-delt}\")\n",
    "plt.plot(time_list[i], sz_list[i][:,2], label=f\"{shift+delt}\")\n",
    "plt.legend()\n",
    "plt.title(f\"Shift {shift} critical detuning {delt}\")"
   ]
  },
  {
   "cell_type": "code",
   "execution_count": null,
   "metadata": {},
   "outputs": [],
   "source": []
  }
 ],
 "metadata": {
  "kernelspec": {
   "display_name": "Python 3",
   "language": "python",
   "name": "python3"
  },
  "language_info": {
   "codemirror_mode": {
    "name": "ipython",
    "version": 3
   },
   "file_extension": ".py",
   "mimetype": "text/x-python",
   "name": "python",
   "nbconvert_exporter": "python",
   "pygments_lexer": "ipython3",
   "version": "3.9.16"
  },
  "orig_nbformat": 4,
  "vscode": {
   "interpreter": {
    "hash": "4b94adeba7b713340ea8cbbda1aef534457fb8d68974eb0981e7dc62d87dea46"
   }
  }
 },
 "nbformat": 4,
 "nbformat_minor": 2
}
