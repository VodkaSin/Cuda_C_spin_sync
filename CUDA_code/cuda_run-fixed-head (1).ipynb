{
 "cells": [
  {
   "cell_type": "code",
   "execution_count": null,
   "metadata": {},
   "outputs": [],
   "source": [
    "#############################################################\n",
    "# Compile `main.cu` to `file.exe`\n",
    "# Commented out because we don't want to run it all the time\n",
    "#############################################################\n",
    "!nvcc -w functions.cu main.cu -o file"
   ]
  },
  {
   "cell_type": "code",
   "execution_count": 1,
   "metadata": {},
   "outputs": [],
   "source": [
    "#############################################################\n",
    "# Load python dependencies\n",
    "# If package cannot be resolved from pylance, reload the interpreter\n",
    "#############################################################\n",
    "import numpy as np\n",
    "import matplotlib.pyplot as plt\n",
    "import utils\n",
    "import os.path"
   ]
  },
  {
   "attachments": {},
   "cell_type": "markdown",
   "metadata": {},
   "source": [
    "# Generate detuning\n",
    "todo: distribution functions\n",
    "read into detuning.dat"
   ]
  },
  {
   "cell_type": "code",
   "execution_count": null,
   "metadata": {},
   "outputs": [],
   "source": [
    "#############################################################\n",
    "# Generate and write detuning data to file\n",
    "#############################################################\n",
    "# Write 1D numpy array to file\n",
    "detuning_values_1d = utils.gen_same_pop(2, 1000, None)\n",
    "print(\"Detuning data:\", detuning_values_1d)\n",
    "np.savetxt(\"Detuning.dat\", detuning_values_1d, delimiter=\"\\t\")\n",
    "\n",
    "# Example: write 2D numpy array to file\n",
    "# values_2d = np.array([\n",
    "#     [10.0, 20.0, 40.0],\n",
    "#     [10.0, 20.0, 50.0],\n",
    "#     [10.0, 20.0, 60.0]\n",
    "# ])\n",
    "# np.savetxt(\"values_2d.dat\", values_2d, delimiter=\"\\t\")"
   ]
  },
  {
   "attachments": {},
   "cell_type": "markdown",
   "metadata": {},
   "source": [
    "# Run simulation\n",
    "\n",
    "To run a single system, use terminal: \n",
    "\n",
    "         k  n_tot theta,phi g gamma chi kap t_end t_num handle\n",
    "\n",
    "file.exe 20 100000 0.5 0.0 1.6 0.0 0.0 160 0.5 600000 k20N5_0.5_0_kappa160\n",
    "\n",
    "## Suggested file naming convention:\n",
    "k{num_ens}N{order of magnitude of n_total}_{theta_phi}_{other params}\n",
    "\n",
    "E.g., k5N5_1_0_kappa160\n",
    "\n",
    "The below block of code is useful for running multiple jobs"
   ]
  },
  {
   "cell_type": "code",
   "execution_count": 3,
   "metadata": {},
   "outputs": [
    {
     "name": "stdout",
     "output_type": "stream",
     "text": [
      "(0, -3.1499999999999844e-05)\n",
      "0.9652889866672122\n"
     ]
    },
    {
     "data": {
      "text/plain": [
       "0.00823"
      ]
     },
     "execution_count": 3,
     "metadata": {},
     "output_type": "execute_result"
    }
   ],
   "source": [
    "#############################################################\n",
    "# Test 3: for initial cases, \"single use\", tested utils.crit1\n",
    "#############################################################\n",
    "N_tot = 1000000\n",
    "num_ens = 3\n",
    "theta_0 = 1\n",
    "phi_0 = 0.0\n",
    "coup_a_0 = 1.0\n",
    "gamma_a_0 = 0.0\n",
    "chi_a_0 = 0.0\n",
    "kappa_c_0 = 100.0\n",
    "t_max = 0.2\n",
    "t_num = 60000\n",
    "run = 0\n",
    "det_dict = {}\n",
    "handle_list = []\n",
    "delta_min = 0\n",
    "delta_crit = delta_min\n",
    "delta_max = 600\n",
    "detuning_max = [0, -delta_max, delta_max]\n",
    "\n",
    "# Run\n",
    "np.savetxt(\"Detuning.dat\", detuning_max, delimiter=\"\\t\")\n",
    "params = f'{num_ens} {N_tot} {theta_0} {phi_0} {coup_a_0} {gamma_a_0} {chi_a_0} {kappa_c_0} {t_max} {t_num}'\n",
    "handle_max = f'k{num_ens}N{N_tot}det{delta_max}_{theta_0}_{coup_a_0}_{kappa_c_0}_test3'\n",
    "handle_list.append(handle_max)\n",
    "det_dict[handle_max] = detuning_max\n",
    "# if os.path.isfile(f\"Result_Sz_{handle_max}.dat\") == False:\n",
    "#     utils.runcmd(f'file.exe {params} {handle_max}')\n",
    "# else:\n",
    "#     print(\"File exits, skipping simulation\")\n",
    "# utils.runcmd(f'file.exe {params} {handle_max}')\n",
    "result = utils.read_results(handle_max)\n",
    "print(utils.crit_1(handle_max, 1e-4))\n",
    "print(np.corrcoef(result[1][:,0],result[1][:,1])[0][1])\n",
    "utils.findTd(result[1][:,0], result[0])\n"
   ]
  },
  {
   "cell_type": "code",
   "execution_count": null,
   "metadata": {},
   "outputs": [],
   "source": [
    "plt.plot(result[0], result[1][:,0], label=\"0\")\n",
    "plt.plot(result[0], result[1][:,1], label=f\"$\\delta$ = {delta_max}\")\n",
    "plt.title(f\"Atomic inversion (N={N_tot})\", fontsize=12)\n",
    "plt.xlabel(r\"Time ($\\mu$s)\", fontsize=12)\n",
    "plt.ylabel(r\"$\\langle \\sigma_Z \\rangle$\", fontsize=12)\n",
    "plt.legend()"
   ]
  },
  {
   "cell_type": "code",
   "execution_count": null,
   "metadata": {},
   "outputs": [],
   "source": [
    "a = np.linspace(1,10, 20)\n",
    "print(a[::-1])"
   ]
  },
  {
   "cell_type": "code",
   "execution_count": null,
   "metadata": {},
   "outputs": [],
   "source": [
    "print(os.path.isfile(f\"Result_Sz_{handle_max}.dat\"))\n",
    "2e-2"
   ]
  },
  {
   "cell_type": "code",
   "execution_count": 2,
   "metadata": {},
   "outputs": [
    {
     "name": "stdout",
     "output_type": "stream",
     "text": [
      "375\n",
      "k3N800000det375_1_1.0_100.0_test3\n",
      "File exits, skipping simulation\n",
      "delta_crit1 has been found at boundary 375\n",
      "375\n",
      "k3N780000det375_1_1.0_100.0_test3\n",
      "File exits, skipping simulation\n",
      "delta_crit1 has been found at boundary 375\n",
      "375\n",
      "k3N760000det375_1_1.0_100.0_test3\n",
      "File exits, skipping simulation\n",
      "************************* 760000 Run 1 Detuning 187 *************************\n",
      "Handle: k3N760000det187_1_1.0_100.0_test3\n",
      "File exits, skipping simulation\n",
      "Detuning 187 too small, 0.9987014459553126, next round\n",
      "************************* 760000 Run 2 Detuning 281 *************************\n",
      "Handle: k3N760000det281_1_1.0_100.0_test3\n",
      "File exits, skipping simulation\n",
      "Detuning 281 too small, 0.995524916637658, next round\n",
      "************************* 760000 Run 3 Detuning 328 *************************\n",
      "Handle: k3N760000det328_1_1.0_100.0_test3\n",
      "File exits, skipping simulation\n",
      "Detuning 328 too small, 0.9926473867296693, next round\n",
      "************************* 760000 Run 4 Detuning 351 *************************\n",
      "Handle: k3N760000det351_1_1.0_100.0_test3\n",
      "File exits, skipping simulation\n",
      "delta_crit1 has been found at run 4: 351, 0.9908383756259683\n",
      "351\n",
      "k3N740000det351_1_1.0_100.0_test3\n",
      "File exits, skipping simulation\n",
      "delta_crit1 has been found at boundary 351\n",
      "351\n",
      "k3N720000det351_1_1.0_100.0_test3\n",
      "File exits, skipping simulation\n",
      "delta_crit1 has been found at boundary 351\n",
      "351\n",
      "k3N700000det351_1_1.0_100.0_test3\n",
      "File exits, skipping simulation\n",
      "delta_crit1 has been found at boundary 351\n",
      "351\n",
      "k3N680000det351_1_1.0_100.0_test3\n",
      "File exits, skipping simulation\n",
      "delta_crit1 has been found at boundary 351\n",
      "351\n",
      "k3N660000det351_1_1.0_100.0_test3\n",
      "File exits, skipping simulation\n",
      "************************* 660000 Run 1 Detuning 175 *************************\n",
      "Handle: k3N660000det175_1_1.0_100.0_test3\n",
      "File exits, skipping simulation\n",
      "Detuning 175 too small, 0.998682735238951, next round\n",
      "************************* 660000 Run 2 Detuning 263 *************************\n",
      "Handle: k3N660000det263_1_1.0_100.0_test3\n",
      "File exits, skipping simulation\n",
      "Detuning 263 too small, 0.9955328126163691, next round\n",
      "************************* 660000 Run 3 Detuning 307 *************************\n",
      "Handle: k3N660000det307_1_1.0_100.0_test3\n",
      "File exits, skipping simulation\n",
      "Detuning 307 too small, 0.9926639926072012, next round\n",
      "************************* 660000 Run 4 Detuning 329 *************************\n",
      "Handle: k3N660000det329_1_1.0_100.0_test3\n",
      "File exits, skipping simulation\n",
      "delta_crit1 has been found at run 4: 329, 0.9908097116466725\n",
      "329\n",
      "k3N640000det329_1_1.0_100.0_test3\n",
      "File exits, skipping simulation\n",
      "delta_crit1 has been found at boundary 329\n",
      "329\n",
      "k3N620000det329_1_1.0_100.0_test3\n",
      "File exits, skipping simulation\n",
      "delta_crit1 has been found at boundary 329\n",
      "329\n",
      "k3N600000det329_1_1.0_100.0_test3\n",
      "File exits, skipping simulation\n",
      "delta_crit1 has been found at boundary 329\n",
      "329\n",
      "k3N580000det329_1_1.0_100.0_test3\n",
      "File exits, skipping simulation\n",
      "************************* 580000 Run 1 Detuning 164 *************************\n",
      "Handle: k3N580000det164_1_1.0_100.0_test3\n",
      "File exits, skipping simulation\n",
      "Detuning 164 too small, 0.9986650132773816, next round\n",
      "************************* 580000 Run 2 Detuning 246 *************************\n",
      "Handle: k3N580000det246_1_1.0_100.0_test3\n",
      "File exits, skipping simulation\n",
      "Detuning 246 too small, 0.9955701712289329, next round\n",
      "************************* 580000 Run 3 Detuning 287 *************************\n",
      "Handle: k3N580000det287_1_1.0_100.0_test3\n",
      "File exits, skipping simulation\n",
      "Detuning 287 too small, 0.9927581189966439, next round\n",
      "************************* 580000 Run 4 Detuning 308 *************************\n",
      "Handle: k3N580000det308_1_1.0_100.0_test3\n",
      "File exits, skipping simulation\n",
      "delta_crit1 has been found at run 4: 308, 0.9908827461985517\n",
      "308\n",
      "k3N560000det308_1_1.0_100.0_test3\n",
      "File exits, skipping simulation\n",
      "delta_crit1 has been found at boundary 308\n",
      "308\n",
      "k3N540000det308_1_1.0_100.0_test3\n",
      "File exits, skipping simulation\n",
      "delta_crit1 has been found at boundary 308\n",
      "308\n",
      "k3N520000det308_1_1.0_100.0_test3\n",
      "File exits, skipping simulation\n",
      "delta_crit1 has been found at boundary 308\n",
      "308\n",
      "k3N500000det308_1_1.0_100.0_test3\n",
      "File exits, skipping simulation\n",
      "************************* 500000 Run 1 Detuning 154 *************************\n",
      "Handle: k3N500000det154_1_1.0_100.0_test3\n",
      "File exits, skipping simulation\n",
      "Detuning 154 too small, 0.9985956155309216, next round\n",
      "************************* 500000 Run 2 Detuning 231 *************************\n",
      "Handle: k3N500000det231_1_1.0_100.0_test3\n",
      "File exits, skipping simulation\n",
      "Detuning 231 too small, 0.9953622494115101, next round\n",
      "************************* 500000 Run 3 Detuning 269 *************************\n",
      "Handle: k3N500000det269_1_1.0_100.0_test3\n",
      "File exits, skipping simulation\n",
      "Detuning 269 too small, 0.9924988071582274, next round\n",
      "************************* 500000 Run 4 Detuning 288 *************************\n",
      "Handle: k3N500000det288_1_1.0_100.0_test3\n",
      "File exits, skipping simulation\n",
      "delta_crit1 has been found at run 4: 288, 0.9906617376651127\n",
      "288\n",
      "k3N480000det288_1_1.0_100.0_test3\n",
      "File exits, skipping simulation\n",
      "delta_crit1 has been found at boundary 288\n",
      "288\n",
      "k3N460000det288_1_1.0_100.0_test3\n",
      "File exits, skipping simulation\n",
      "delta_crit1 has been found at boundary 288\n",
      "288\n",
      "k3N440000det288_1_1.0_100.0_test3\n",
      "File exits, skipping simulation\n",
      "************************* 440000 Run 1 Detuning 144 *************************\n",
      "Handle: k3N440000det144_1_1.0_100.0_test3\n",
      "File exits, skipping simulation\n",
      "Detuning 144 too small, 0.9985836880573544, next round\n",
      "************************* 440000 Run 2 Detuning 216 *************************\n",
      "Handle: k3N440000det216_1_1.0_100.0_test3\n",
      "File exits, skipping simulation\n",
      "Detuning 216 too small, 0.9953551172866565, next round\n",
      "************************* 440000 Run 3 Detuning 252 *************************\n",
      "Handle: k3N440000det252_1_1.0_100.0_test3\n",
      "File exits, skipping simulation\n",
      "Detuning 252 too small, 0.9924806802675792, next round\n",
      "************************* 440000 Run 4 Detuning 270 *************************\n",
      "Handle: k3N440000det270_1_1.0_100.0_test3\n",
      "File exits, skipping simulation\n",
      "delta_crit1 has been found at run 4: 270, 0.9906161480811526\n",
      "270\n",
      "k3N420000det270_1_1.0_100.0_test3\n",
      "File exits, skipping simulation\n",
      "delta_crit1 has been found at boundary 270\n",
      "270\n",
      "k3N400000det270_1_1.0_100.0_test3\n",
      "File exits, skipping simulation\n",
      "************************* 400000 Run 1 Detuning 135 *************************\n",
      "Handle: k3N400000det135_1_1.0_100.0_test3\n",
      "File exits, skipping simulation\n",
      "Detuning 135 too small, 0.9986246585168504, next round\n",
      "************************* 400000 Run 2 Detuning 202 *************************\n",
      "Handle: k3N400000det202_1_1.0_100.0_test3\n",
      "File exits, skipping simulation\n",
      "Detuning 202 too small, 0.9955647590509876, next round\n",
      "************************* 400000 Run 3 Detuning 236 *************************\n",
      "Handle: k3N400000det236_1_1.0_100.0_test3\n",
      "File exits, skipping simulation\n",
      "Detuning 236 too small, 0.9928250055999656, next round\n",
      "************************* 400000 Run 4 Detuning 253 *************************\n",
      "Handle: k3N400000det253_1_1.0_100.0_test3\n",
      "File exits, skipping simulation\n",
      "Detuning 253 too small, 0.9910728284240137, next round\n",
      "************************* 400000 Run 5 Detuning 261 *************************\n",
      "Handle: k3N400000det261_1_1.0_100.0_test3\n",
      "File exits, skipping simulation\n",
      "delta_crit1 has been found at run 5: 261, 0.9901370695378983\n",
      "261\n",
      "k3N380000det261_1_1.0_100.0_test3\n",
      "File exits, skipping simulation\n",
      "delta_crit1 has been found at boundary 261\n",
      "261\n",
      "k3N360000det261_1_1.0_100.0_test3\n",
      "File exits, skipping simulation\n",
      "************************* 360000 Run 1 Detuning 130 *************************\n",
      "Handle: k3N360000det130_1_1.0_100.0_test3\n",
      "File exits, skipping simulation\n",
      "Detuning 130 too small, 0.9985363591275093, next round\n",
      "************************* 360000 Run 2 Detuning 195 *************************\n",
      "Handle: k3N360000det195_1_1.0_100.0_test3\n",
      "File exits, skipping simulation\n",
      "Detuning 195 too small, 0.9952503984472287, next round\n",
      "************************* 360000 Run 3 Detuning 228 *************************\n",
      "Handle: k3N360000det228_1_1.0_100.0_test3\n",
      "File exits, skipping simulation\n",
      "Detuning 228 too small, 0.9923179052656611, next round\n",
      "************************* 360000 Run 4 Detuning 244 *************************\n",
      "Handle: k3N360000det244_1_1.0_100.0_test3\n",
      "File exits, skipping simulation\n",
      "delta_crit1 has been found at run 4: 244, 0.9905017758243317\n",
      "244\n",
      "k3N340000det244_1_1.0_100.0_test3\n",
      "File exits, skipping simulation\n",
      "delta_crit1 has been found at boundary 244\n",
      "244\n",
      "k3N320000det244_1_1.0_100.0_test3\n",
      "File exits, skipping simulation\n",
      "************************* 320000 Run 1 Detuning 122 *************************\n",
      "Handle: k3N320000det122_1_1.0_100.0_test3\n",
      "File exits, skipping simulation\n",
      "Detuning 122 too small, 0.9985201772255805, next round\n",
      "************************* 320000 Run 2 Detuning 183 *************************\n",
      "Handle: k3N320000det183_1_1.0_100.0_test3\n",
      "File exits, skipping simulation\n",
      "Detuning 183 too small, 0.9952335113517281, next round\n",
      "************************* 320000 Run 3 Detuning 213 *************************\n",
      "Handle: k3N320000det213_1_1.0_100.0_test3\n",
      "File exits, skipping simulation\n",
      "Detuning 213 too small, 0.9924331352784157, next round\n",
      "************************* 320000 Run 4 Detuning 228 *************************\n",
      "Handle: k3N320000det228_1_1.0_100.0_test3\n",
      "File exits, skipping simulation\n",
      "delta_crit1 has been found at run 4: 228, 0.9906447806799019\n",
      "228\n",
      "k3N300000det228_1_1.0_100.0_test3\n",
      "File exits, skipping simulation\n",
      "delta_crit1 has been found at boundary 228\n",
      "228\n",
      "k3N280000det228_1_1.0_100.0_test3\n",
      "File exits, skipping simulation\n",
      "************************* 280000 Run 1 Detuning 114 *************************\n",
      "Handle: k3N280000det114_1_1.0_100.0_test3\n",
      "File exits, skipping simulation\n",
      "Detuning 114 too small, 0.9984840483658324, next round\n",
      "************************* 280000 Run 2 Detuning 171 *************************\n",
      "Handle: k3N280000det171_1_1.0_100.0_test3\n",
      "File exits, skipping simulation\n",
      "Detuning 171 too small, 0.995128968023699, next round\n",
      "************************* 280000 Run 3 Detuning 199 *************************\n",
      "Handle: k3N280000det199_1_1.0_100.0_test3\n",
      "File exits, skipping simulation\n",
      "Detuning 199 too small, 0.9923041989651551, next round\n",
      "************************* 280000 Run 4 Detuning 213 *************************\n",
      "Handle: k3N280000det213_1_1.0_100.0_test3\n",
      "File exits, skipping simulation\n",
      "delta_crit1 has been found at run 4: 213, 0.9905352348748161\n",
      "213\n",
      "k3N260000det213_1_1.0_100.0_test3\n",
      "File exits, skipping simulation\n",
      "delta_crit1 has been found at boundary 213\n",
      "213\n",
      "k3N240000det213_1_1.0_100.0_test3\n",
      "num_ens:\t\t\t3\n",
      "N_total:\t\t\t240000\n",
      "theta_0:\t\t\t1\n",
      "phi_0:\t\t\t\t0.0\n",
      "coup_a_0:\t\t\t1.0\n",
      "gamma_a_0 (atom decay):\t\t0.0\n",
      "chi_a_0 (atom dephase):\t\t0.0\n",
      "kappa_c_0 (cavity decay):\t100.0\n",
      "t_max:\t\t\t\t0.2\n",
      "t_num:\t\t\t\t60000\n",
      "\n",
      "\n"
     ]
    },
    {
     "name": "stderr",
     "output_type": "stream",
     "text": [
      "100% [\u001b[32m██████████\u001b[0m ]"
     ]
    },
    {
     "name": "stdout",
     "output_type": "stream",
     "text": [
      "Program takes about 27.15 s\n",
      "************************* 240000 Run 1 Detuning 106 *************************\n",
      "Handle: k3N240000det106_1_1.0_100.0_test3\n"
     ]
    },
    {
     "name": "stderr",
     "output_type": "stream",
     "text": [
      "\n"
     ]
    },
    {
     "name": "stdout",
     "output_type": "stream",
     "text": [
      "num_ens:\t\t\t3\n",
      "N_total:\t\t\t240000\n",
      "theta_0:\t\t\t1\n",
      "phi_0:\t\t\t\t0.0\n",
      "coup_a_0:\t\t\t1.0\n",
      "gamma_a_0 (atom decay):\t\t0.0\n",
      "chi_a_0 (atom dephase):\t\t0.0\n",
      "kappa_c_0 (cavity decay):\t100.0\n",
      "t_max:\t\t\t\t0.2\n",
      "t_num:\t\t\t\t60000\n",
      "\n",
      "\n"
     ]
    },
    {
     "name": "stderr",
     "output_type": "stream",
     "text": [
      "100% [\u001b[32m██████████\u001b[0m ]"
     ]
    },
    {
     "name": "stdout",
     "output_type": "stream",
     "text": [
      "Program takes about 27.84 s\n",
      "Detuning 106 too small, 0.9984090289988803, next round\n",
      "************************* 240000 Run 2 Detuning 159 *************************\n",
      "Handle: k3N240000det159_1_1.0_100.0_test3\n"
     ]
    },
    {
     "name": "stderr",
     "output_type": "stream",
     "text": [
      "\n"
     ]
    },
    {
     "name": "stdout",
     "output_type": "stream",
     "text": [
      "num_ens:\t\t\t3\n",
      "N_total:\t\t\t240000\n",
      "theta_0:\t\t\t1\n",
      "phi_0:\t\t\t\t0.0\n",
      "coup_a_0:\t\t\t1.0\n",
      "gamma_a_0 (atom decay):\t\t0.0\n",
      "chi_a_0 (atom dephase):\t\t0.0\n",
      "kappa_c_0 (cavity decay):\t100.0\n",
      "t_max:\t\t\t\t0.2\n",
      "t_num:\t\t\t\t60000\n",
      "\n",
      "\n"
     ]
    },
    {
     "name": "stderr",
     "output_type": "stream",
     "text": [
      "100% [\u001b[32m██████████\u001b[0m ]"
     ]
    },
    {
     "name": "stdout",
     "output_type": "stream",
     "text": [
      "Program takes about 28.04 s\n",
      "Detuning 159 too small, 0.9949062937170621, next round\n",
      "************************* 240000 Run 3 Detuning 186 *************************\n",
      "Handle: k3N240000det186_1_1.0_100.0_test3\n"
     ]
    },
    {
     "name": "stderr",
     "output_type": "stream",
     "text": [
      "\n"
     ]
    },
    {
     "name": "stdout",
     "output_type": "stream",
     "text": [
      "num_ens:\t\t\t3\n",
      "N_total:\t\t\t240000\n",
      "theta_0:\t\t\t1\n",
      "phi_0:\t\t\t\t0.0\n",
      "coup_a_0:\t\t\t1.0\n",
      "gamma_a_0 (atom decay):\t\t0.0\n",
      "chi_a_0 (atom dephase):\t\t0.0\n",
      "kappa_c_0 (cavity decay):\t100.0\n",
      "t_max:\t\t\t\t0.2\n",
      "t_num:\t\t\t\t60000\n",
      "\n",
      "\n"
     ]
    },
    {
     "name": "stderr",
     "output_type": "stream",
     "text": [
      "100% [\u001b[32m██████████\u001b[0m ]"
     ]
    },
    {
     "name": "stdout",
     "output_type": "stream",
     "text": [
      "Program takes about 27.48 s\n",
      "Detuning 186 too small, 0.9918867517697944, next round\n",
      "************************* 240000 Run 4 Detuning 199 *************************\n",
      "Handle: k3N240000det199_1_1.0_100.0_test3\n"
     ]
    },
    {
     "name": "stderr",
     "output_type": "stream",
     "text": [
      "\n"
     ]
    },
    {
     "name": "stdout",
     "output_type": "stream",
     "text": [
      "num_ens:\t\t\t3\n",
      "N_total:\t\t\t240000\n",
      "theta_0:\t\t\t1\n",
      "phi_0:\t\t\t\t0.0\n",
      "coup_a_0:\t\t\t1.0\n",
      "gamma_a_0 (atom decay):\t\t0.0\n",
      "chi_a_0 (atom dephase):\t\t0.0\n",
      "kappa_c_0 (cavity decay):\t100.0\n",
      "t_max:\t\t\t\t0.2\n",
      "t_num:\t\t\t\t60000\n",
      "\n",
      "\n"
     ]
    },
    {
     "name": "stderr",
     "output_type": "stream",
     "text": [
      "100% [\u001b[32m██████████\u001b[0m ]"
     ]
    },
    {
     "name": "stdout",
     "output_type": "stream",
     "text": [
      "Program takes about 27.86 s\n",
      "delta_crit1 has been found at run 4: 199, 0.990033687611666\n",
      "199\n",
      "k3N220000det199_1_1.0_100.0_test3\n"
     ]
    },
    {
     "name": "stderr",
     "output_type": "stream",
     "text": [
      "\n"
     ]
    },
    {
     "name": "stdout",
     "output_type": "stream",
     "text": [
      "num_ens:\t\t\t3\n",
      "N_total:\t\t\t220000\n",
      "theta_0:\t\t\t1\n",
      "phi_0:\t\t\t\t0.0\n",
      "coup_a_0:\t\t\t1.0\n",
      "gamma_a_0 (atom decay):\t\t0.0\n",
      "chi_a_0 (atom dephase):\t\t0.0\n",
      "kappa_c_0 (cavity decay):\t100.0\n",
      "t_max:\t\t\t\t0.2\n",
      "t_num:\t\t\t\t60000\n",
      "\n",
      "\n"
     ]
    },
    {
     "name": "stderr",
     "output_type": "stream",
     "text": [
      "100% [\u001b[32m██████████\u001b[0m ]"
     ]
    },
    {
     "name": "stdout",
     "output_type": "stream",
     "text": [
      "Program takes about 25.78 s\n",
      "************************* 220000 Run 1 Detuning 99 *************************\n",
      "Handle: k3N220000det99_1_1.0_100.0_test3\n"
     ]
    },
    {
     "name": "stderr",
     "output_type": "stream",
     "text": [
      "\n"
     ]
    },
    {
     "name": "stdout",
     "output_type": "stream",
     "text": [
      "num_ens:\t\t\t3\n",
      "N_total:\t\t\t220000\n",
      "theta_0:\t\t\t1\n",
      "phi_0:\t\t\t\t0.0\n",
      "coup_a_0:\t\t\t1.0\n",
      "gamma_a_0 (atom decay):\t\t0.0\n",
      "chi_a_0 (atom dephase):\t\t0.0\n",
      "kappa_c_0 (cavity decay):\t100.0\n",
      "t_max:\t\t\t\t0.2\n",
      "t_num:\t\t\t\t60000\n",
      "\n",
      "\n"
     ]
    },
    {
     "name": "stderr",
     "output_type": "stream",
     "text": [
      "100% [\u001b[32m██████████\u001b[0m ]"
     ]
    },
    {
     "name": "stdout",
     "output_type": "stream",
     "text": [
      "Program takes about 25.04 s\n",
      "Detuning 99 too small, 0.9984803563450677, next round\n",
      "************************* 220000 Run 2 Detuning 149 *************************\n",
      "Handle: k3N220000det149_1_1.0_100.0_test3\n"
     ]
    },
    {
     "name": "stderr",
     "output_type": "stream",
     "text": [
      "\n"
     ]
    },
    {
     "name": "stdout",
     "output_type": "stream",
     "text": [
      "num_ens:\t\t\t3\n",
      "N_total:\t\t\t220000\n",
      "theta_0:\t\t\t1\n",
      "phi_0:\t\t\t\t0.0\n",
      "coup_a_0:\t\t\t1.0\n",
      "gamma_a_0 (atom decay):\t\t0.0\n",
      "chi_a_0 (atom dephase):\t\t0.0\n",
      "kappa_c_0 (cavity decay):\t100.0\n",
      "t_max:\t\t\t\t0.2\n",
      "t_num:\t\t\t\t60000\n",
      "\n",
      "\n"
     ]
    },
    {
     "name": "stderr",
     "output_type": "stream",
     "text": [
      "100% [\u001b[32m██████████\u001b[0m ]"
     ]
    },
    {
     "name": "stdout",
     "output_type": "stream",
     "text": [
      "Program takes about 26.13 s\n",
      "Detuning 149 too small, 0.9951350922064017, next round\n",
      "************************* 220000 Run 3 Detuning 174 *************************\n",
      "Handle: k3N220000det174_1_1.0_100.0_test3\n"
     ]
    },
    {
     "name": "stderr",
     "output_type": "stream",
     "text": [
      "\n"
     ]
    },
    {
     "name": "stdout",
     "output_type": "stream",
     "text": [
      "num_ens:\t\t\t3\n",
      "N_total:\t\t\t220000\n",
      "theta_0:\t\t\t1\n",
      "phi_0:\t\t\t\t0.0\n",
      "coup_a_0:\t\t\t1.0\n",
      "gamma_a_0 (atom decay):\t\t0.0\n",
      "chi_a_0 (atom dephase):\t\t0.0\n",
      "kappa_c_0 (cavity decay):\t100.0\n",
      "t_max:\t\t\t\t0.2\n",
      "t_num:\t\t\t\t60000\n",
      "\n",
      "\n"
     ]
    },
    {
     "name": "stderr",
     "output_type": "stream",
     "text": [
      "100% [\u001b[32m██████████\u001b[0m ]"
     ]
    },
    {
     "name": "stdout",
     "output_type": "stream",
     "text": [
      "Program takes about 26.40 s\n",
      "Detuning 174 too small, 0.9923069557643281, next round\n",
      "************************* 220000 Run 4 Detuning 186 *************************\n",
      "Handle: k3N220000det186_1_1.0_100.0_test3\n"
     ]
    },
    {
     "name": "stderr",
     "output_type": "stream",
     "text": [
      "\n"
     ]
    },
    {
     "name": "stdout",
     "output_type": "stream",
     "text": [
      "num_ens:\t\t\t3\n",
      "N_total:\t\t\t220000\n",
      "theta_0:\t\t\t1\n",
      "phi_0:\t\t\t\t0.0\n",
      "coup_a_0:\t\t\t1.0\n",
      "gamma_a_0 (atom decay):\t\t0.0\n",
      "chi_a_0 (atom dephase):\t\t0.0\n",
      "kappa_c_0 (cavity decay):\t100.0\n",
      "t_max:\t\t\t\t0.2\n",
      "t_num:\t\t\t\t60000\n",
      "\n",
      "\n"
     ]
    },
    {
     "name": "stderr",
     "output_type": "stream",
     "text": [
      "100% [\u001b[32m██████████\u001b[0m ]"
     ]
    },
    {
     "name": "stdout",
     "output_type": "stream",
     "text": [
      "Program takes about 26.03 s\n",
      "delta_crit1 has been found at run 4: 186, 0.9906175606936076\n",
      "186\n",
      "k3N200000det186_1_1.0_100.0_test3\n"
     ]
    },
    {
     "name": "stderr",
     "output_type": "stream",
     "text": [
      "\n"
     ]
    },
    {
     "name": "stdout",
     "output_type": "stream",
     "text": [
      "num_ens:\t\t\t3\n",
      "N_total:\t\t\t200000\n",
      "theta_0:\t\t\t1\n",
      "phi_0:\t\t\t\t0.0\n",
      "coup_a_0:\t\t\t1.0\n",
      "gamma_a_0 (atom decay):\t\t0.0\n",
      "chi_a_0 (atom dephase):\t\t0.0\n",
      "kappa_c_0 (cavity decay):\t100.0\n",
      "t_max:\t\t\t\t0.2\n",
      "t_num:\t\t\t\t60000\n",
      "\n",
      "\n"
     ]
    },
    {
     "name": "stderr",
     "output_type": "stream",
     "text": [
      "100% [\u001b[32m██████████\u001b[0m ]"
     ]
    },
    {
     "name": "stdout",
     "output_type": "stream",
     "text": [
      "Program takes about 26.32 s\n",
      "************************* 200000 Run 1 Detuning 93 *************************\n",
      "Handle: k3N200000det93_1_1.0_100.0_test3\n"
     ]
    },
    {
     "name": "stderr",
     "output_type": "stream",
     "text": [
      "\n"
     ]
    },
    {
     "name": "stdout",
     "output_type": "stream",
     "text": [
      "num_ens:\t\t\t3\n",
      "N_total:\t\t\t200000\n",
      "theta_0:\t\t\t1\n",
      "phi_0:\t\t\t\t0.0\n",
      "coup_a_0:\t\t\t1.0\n",
      "gamma_a_0 (atom decay):\t\t0.0\n",
      "chi_a_0 (atom dephase):\t\t0.0\n",
      "kappa_c_0 (cavity decay):\t100.0\n",
      "t_max:\t\t\t\t0.2\n",
      "t_num:\t\t\t\t60000\n",
      "\n",
      "\n"
     ]
    },
    {
     "name": "stderr",
     "output_type": "stream",
     "text": [
      "100% [\u001b[32m██████████\u001b[0m ]"
     ]
    },
    {
     "name": "stdout",
     "output_type": "stream",
     "text": [
      "Program takes about 22.03 s\n",
      "Detuning 93 too small, 0.998504879172003, next round\n",
      "************************* 200000 Run 2 Detuning 139 *************************\n",
      "Handle: k3N200000det139_1_1.0_100.0_test3\n"
     ]
    },
    {
     "name": "stderr",
     "output_type": "stream",
     "text": [
      "\n"
     ]
    },
    {
     "name": "stdout",
     "output_type": "stream",
     "text": [
      "num_ens:\t\t\t3\n",
      "N_total:\t\t\t200000\n",
      "theta_0:\t\t\t1\n",
      "phi_0:\t\t\t\t0.0\n",
      "coup_a_0:\t\t\t1.0\n",
      "gamma_a_0 (atom decay):\t\t0.0\n",
      "chi_a_0 (atom dephase):\t\t0.0\n",
      "kappa_c_0 (cavity decay):\t100.0\n",
      "t_max:\t\t\t\t0.2\n",
      "t_num:\t\t\t\t60000\n",
      "\n",
      "\n"
     ]
    },
    {
     "name": "stderr",
     "output_type": "stream",
     "text": [
      "100% [\u001b[32m██████████\u001b[0m ]"
     ]
    },
    {
     "name": "stdout",
     "output_type": "stream",
     "text": [
      "Program takes about 25.92 s\n",
      "Detuning 139 too small, 0.9953221277527415, next round\n",
      "************************* 200000 Run 3 Detuning 162 *************************\n",
      "Handle: k3N200000det162_1_1.0_100.0_test3\n"
     ]
    },
    {
     "name": "stderr",
     "output_type": "stream",
     "text": [
      "\n"
     ]
    },
    {
     "name": "stdout",
     "output_type": "stream",
     "text": [
      "num_ens:\t\t\t3\n",
      "N_total:\t\t\t200000\n",
      "theta_0:\t\t\t1\n",
      "phi_0:\t\t\t\t0.0\n",
      "coup_a_0:\t\t\t1.0\n",
      "gamma_a_0 (atom decay):\t\t0.0\n",
      "chi_a_0 (atom dephase):\t\t0.0\n",
      "kappa_c_0 (cavity decay):\t100.0\n",
      "t_max:\t\t\t\t0.2\n",
      "t_num:\t\t\t\t60000\n",
      "\n",
      "\n"
     ]
    },
    {
     "name": "stderr",
     "output_type": "stream",
     "text": [
      "100% [\u001b[32m██████████\u001b[0m ]"
     ]
    },
    {
     "name": "stdout",
     "output_type": "stream",
     "text": [
      "Program takes about 26.30 s\n",
      "Detuning 162 too small, 0.9926755834149622, next round\n",
      "************************* 200000 Run 4 Detuning 174 *************************\n",
      "Handle: k3N200000det174_1_1.0_100.0_test3\n"
     ]
    },
    {
     "name": "stderr",
     "output_type": "stream",
     "text": [
      "\n"
     ]
    },
    {
     "name": "stdout",
     "output_type": "stream",
     "text": [
      "num_ens:\t\t\t3\n",
      "N_total:\t\t\t200000\n",
      "theta_0:\t\t\t1\n",
      "phi_0:\t\t\t\t0.0\n",
      "coup_a_0:\t\t\t1.0\n",
      "gamma_a_0 (atom decay):\t\t0.0\n",
      "chi_a_0 (atom dephase):\t\t0.0\n",
      "kappa_c_0 (cavity decay):\t100.0\n",
      "t_max:\t\t\t\t0.2\n",
      "t_num:\t\t\t\t60000\n",
      "\n",
      "\n"
     ]
    },
    {
     "name": "stderr",
     "output_type": "stream",
     "text": [
      "100% [\u001b[32m██████████\u001b[0m ]"
     ]
    },
    {
     "name": "stdout",
     "output_type": "stream",
     "text": [
      "Program takes about 26.89 s\n",
      "delta_crit1 has been found at run 4: 174, 0.9909639302663105\n",
      "174\n",
      "k3N180000det174_1_1.0_100.0_test3\n"
     ]
    },
    {
     "name": "stderr",
     "output_type": "stream",
     "text": [
      "\n"
     ]
    },
    {
     "name": "stdout",
     "output_type": "stream",
     "text": [
      "num_ens:\t\t\t3\n",
      "N_total:\t\t\t180000\n",
      "theta_0:\t\t\t1\n",
      "phi_0:\t\t\t\t0.0\n",
      "coup_a_0:\t\t\t1.0\n",
      "gamma_a_0 (atom decay):\t\t0.0\n",
      "chi_a_0 (atom dephase):\t\t0.0\n",
      "kappa_c_0 (cavity decay):\t100.0\n",
      "t_max:\t\t\t\t0.2\n",
      "t_num:\t\t\t\t60000\n",
      "\n",
      "\n"
     ]
    },
    {
     "name": "stderr",
     "output_type": "stream",
     "text": [
      "100% [\u001b[32m██████████\u001b[0m ]"
     ]
    },
    {
     "name": "stdout",
     "output_type": "stream",
     "text": [
      "Program takes about 27.26 s\n",
      "delta_crit1 has been found at boundary 174\n",
      "174\n",
      "k3N160000det174_1_1.0_100.0_test3\n"
     ]
    },
    {
     "name": "stderr",
     "output_type": "stream",
     "text": [
      "\n"
     ]
    },
    {
     "name": "stdout",
     "output_type": "stream",
     "text": [
      "num_ens:\t\t\t3\n",
      "N_total:\t\t\t160000\n",
      "theta_0:\t\t\t1\n",
      "phi_0:\t\t\t\t0.0\n",
      "coup_a_0:\t\t\t1.0\n",
      "gamma_a_0 (atom decay):\t\t0.0\n",
      "chi_a_0 (atom dephase):\t\t0.0\n",
      "kappa_c_0 (cavity decay):\t100.0\n",
      "t_max:\t\t\t\t0.2\n",
      "t_num:\t\t\t\t60000\n",
      "\n",
      "\n"
     ]
    },
    {
     "name": "stderr",
     "output_type": "stream",
     "text": [
      "100% [\u001b[32m██████████\u001b[0m ]"
     ]
    },
    {
     "name": "stdout",
     "output_type": "stream",
     "text": [
      "Program takes about 26.76 s\n",
      "************************* 160000 Run 1 Detuning 87 *************************\n",
      "Handle: k3N160000det87_1_1.0_100.0_test3\n"
     ]
    },
    {
     "name": "stderr",
     "output_type": "stream",
     "text": [
      "\n"
     ]
    },
    {
     "name": "stdout",
     "output_type": "stream",
     "text": [
      "num_ens:\t\t\t3\n",
      "N_total:\t\t\t160000\n",
      "theta_0:\t\t\t1\n",
      "phi_0:\t\t\t\t0.0\n",
      "coup_a_0:\t\t\t1.0\n",
      "gamma_a_0 (atom decay):\t\t0.0\n",
      "chi_a_0 (atom dephase):\t\t0.0\n",
      "kappa_c_0 (cavity decay):\t100.0\n",
      "t_max:\t\t\t\t0.2\n",
      "t_num:\t\t\t\t60000\n",
      "\n",
      "\n"
     ]
    },
    {
     "name": "stderr",
     "output_type": "stream",
     "text": [
      "100% [\u001b[32m██████████\u001b[0m ]"
     ]
    },
    {
     "name": "stdout",
     "output_type": "stream",
     "text": [
      "Program takes about 27.10 s\n",
      "Detuning 87 too small, 0.9981983607716872, next round\n",
      "************************* 160000 Run 2 Detuning 130 *************************\n",
      "Handle: k3N160000det130_1_1.0_100.0_test3\n"
     ]
    },
    {
     "name": "stderr",
     "output_type": "stream",
     "text": [
      "\n"
     ]
    },
    {
     "name": "stdout",
     "output_type": "stream",
     "text": [
      "num_ens:\t\t\t3\n",
      "N_total:\t\t\t160000\n",
      "theta_0:\t\t\t1\n",
      "phi_0:\t\t\t\t0.0\n",
      "coup_a_0:\t\t\t1.0\n",
      "gamma_a_0 (atom decay):\t\t0.0\n",
      "chi_a_0 (atom dephase):\t\t0.0\n",
      "kappa_c_0 (cavity decay):\t100.0\n",
      "t_max:\t\t\t\t0.2\n",
      "t_num:\t\t\t\t60000\n",
      "\n",
      "\n"
     ]
    },
    {
     "name": "stderr",
     "output_type": "stream",
     "text": [
      "100% [\u001b[32m██████████\u001b[0m ]"
     ]
    },
    {
     "name": "stdout",
     "output_type": "stream",
     "text": [
      "Program takes about 27.14 s\n",
      "Detuning 130 too small, 0.9943510659276629, next round\n",
      "************************* 160000 Run 3 Detuning 152 *************************\n",
      "Handle: k3N160000det152_1_1.0_100.0_test3\n"
     ]
    },
    {
     "name": "stderr",
     "output_type": "stream",
     "text": [
      "\n"
     ]
    },
    {
     "name": "stdout",
     "output_type": "stream",
     "text": [
      "num_ens:\t\t\t3\n",
      "N_total:\t\t\t160000\n",
      "theta_0:\t\t\t1\n",
      "phi_0:\t\t\t\t0.0\n",
      "coup_a_0:\t\t\t1.0\n",
      "gamma_a_0 (atom decay):\t\t0.0\n",
      "chi_a_0 (atom dephase):\t\t0.0\n",
      "kappa_c_0 (cavity decay):\t100.0\n",
      "t_max:\t\t\t\t0.2\n",
      "t_num:\t\t\t\t60000\n",
      "\n",
      "\n"
     ]
    },
    {
     "name": "stderr",
     "output_type": "stream",
     "text": [
      "100% [\u001b[32m██████████\u001b[0m ]"
     ]
    },
    {
     "name": "stdout",
     "output_type": "stream",
     "text": [
      "Program takes about 27.81 s\n",
      "Detuning 152 too small, 0.9911620889149598, next round\n",
      "************************* 160000 Run 4 Detuning 163 *************************\n",
      "Handle: k3N160000det163_1_1.0_100.0_test3\n"
     ]
    },
    {
     "name": "stderr",
     "output_type": "stream",
     "text": [
      "\n"
     ]
    },
    {
     "name": "stdout",
     "output_type": "stream",
     "text": [
      "num_ens:\t\t\t3\n",
      "N_total:\t\t\t160000\n",
      "theta_0:\t\t\t1\n",
      "phi_0:\t\t\t\t0.0\n",
      "coup_a_0:\t\t\t1.0\n",
      "gamma_a_0 (atom decay):\t\t0.0\n",
      "chi_a_0 (atom dephase):\t\t0.0\n",
      "kappa_c_0 (cavity decay):\t100.0\n",
      "t_max:\t\t\t\t0.2\n",
      "t_num:\t\t\t\t60000\n",
      "\n",
      "\n"
     ]
    },
    {
     "name": "stderr",
     "output_type": "stream",
     "text": [
      "100% [\u001b[32m██████████\u001b[0m ]"
     ]
    },
    {
     "name": "stdout",
     "output_type": "stream",
     "text": [
      "Program takes about 28.02 s\n",
      "delta_crit1 has been found at run 4: 163, 0.9891432196620255\n",
      "163\n",
      "k3N140000det163_1_1.0_100.0_test3\n"
     ]
    },
    {
     "name": "stderr",
     "output_type": "stream",
     "text": [
      "\n"
     ]
    },
    {
     "name": "stdout",
     "output_type": "stream",
     "text": [
      "num_ens:\t\t\t3\n",
      "N_total:\t\t\t140000\n",
      "theta_0:\t\t\t1\n",
      "phi_0:\t\t\t\t0.0\n",
      "coup_a_0:\t\t\t1.0\n",
      "gamma_a_0 (atom decay):\t\t0.0\n",
      "chi_a_0 (atom dephase):\t\t0.0\n",
      "kappa_c_0 (cavity decay):\t100.0\n",
      "t_max:\t\t\t\t0.2\n",
      "t_num:\t\t\t\t60000\n",
      "\n",
      "\n"
     ]
    },
    {
     "name": "stderr",
     "output_type": "stream",
     "text": [
      "100% [\u001b[32m██████████\u001b[0m ]"
     ]
    },
    {
     "name": "stdout",
     "output_type": "stream",
     "text": [
      "Program takes about 28.54 s\n",
      "************************* 140000 Run 1 Detuning 81 *************************\n",
      "Handle: k3N140000det81_1_1.0_100.0_test3\n"
     ]
    },
    {
     "name": "stderr",
     "output_type": "stream",
     "text": [
      "\n"
     ]
    },
    {
     "name": "stdout",
     "output_type": "stream",
     "text": [
      "num_ens:\t\t\t3\n",
      "N_total:\t\t\t140000\n",
      "theta_0:\t\t\t1\n",
      "phi_0:\t\t\t\t0.0\n",
      "coup_a_0:\t\t\t1.0\n",
      "gamma_a_0 (atom decay):\t\t0.0\n",
      "chi_a_0 (atom dephase):\t\t0.0\n",
      "kappa_c_0 (cavity decay):\t100.0\n",
      "t_max:\t\t\t\t0.2\n",
      "t_num:\t\t\t\t60000\n",
      "\n",
      "\n"
     ]
    },
    {
     "name": "stderr",
     "output_type": "stream",
     "text": [
      "100% [\u001b[32m██████████\u001b[0m ]"
     ]
    },
    {
     "name": "stdout",
     "output_type": "stream",
     "text": [
      "Program takes about 28.27 s\n",
      "Detuning 81 too small, 0.998160086681643, next round\n",
      "************************* 140000 Run 2 Detuning 122 *************************\n",
      "Handle: k3N140000det122_1_1.0_100.0_test3\n"
     ]
    },
    {
     "name": "stderr",
     "output_type": "stream",
     "text": [
      "\n"
     ]
    },
    {
     "name": "stdout",
     "output_type": "stream",
     "text": [
      "num_ens:\t\t\t3\n",
      "N_total:\t\t\t140000\n",
      "theta_0:\t\t\t1\n",
      "phi_0:\t\t\t\t0.0\n",
      "coup_a_0:\t\t\t1.0\n",
      "gamma_a_0 (atom decay):\t\t0.0\n",
      "chi_a_0 (atom dephase):\t\t0.0\n",
      "kappa_c_0 (cavity decay):\t100.0\n",
      "t_max:\t\t\t\t0.2\n",
      "t_num:\t\t\t\t60000\n",
      "\n",
      "\n"
     ]
    },
    {
     "name": "stderr",
     "output_type": "stream",
     "text": [
      "100% [\u001b[32m██████████\u001b[0m ]"
     ]
    },
    {
     "name": "stdout",
     "output_type": "stream",
     "text": [
      "Program takes about 27.99 s\n",
      "Detuning 122 too small, 0.9940877841608813, next round\n",
      "************************* 140000 Run 3 Detuning 142 *************************\n",
      "Handle: k3N140000det142_1_1.0_100.0_test3\n"
     ]
    },
    {
     "name": "stderr",
     "output_type": "stream",
     "text": [
      "\n"
     ]
    },
    {
     "name": "stdout",
     "output_type": "stream",
     "text": [
      "num_ens:\t\t\t3\n",
      "N_total:\t\t\t140000\n",
      "theta_0:\t\t\t1\n",
      "phi_0:\t\t\t\t0.0\n",
      "coup_a_0:\t\t\t1.0\n",
      "gamma_a_0 (atom decay):\t\t0.0\n",
      "chi_a_0 (atom dephase):\t\t0.0\n",
      "kappa_c_0 (cavity decay):\t100.0\n",
      "t_max:\t\t\t\t0.2\n",
      "t_num:\t\t\t\t60000\n",
      "\n",
      "\n"
     ]
    },
    {
     "name": "stderr",
     "output_type": "stream",
     "text": [
      "100% [\u001b[32m██████████\u001b[0m ]"
     ]
    },
    {
     "name": "stdout",
     "output_type": "stream",
     "text": [
      "Program takes about 27.70 s\n",
      "delta_crit1 has been found at run 3: 142, 0.9908733946790451\n",
      "142\n",
      "k3N120000det142_1_1.0_100.0_test3\n"
     ]
    },
    {
     "name": "stderr",
     "output_type": "stream",
     "text": [
      "\n"
     ]
    },
    {
     "name": "stdout",
     "output_type": "stream",
     "text": [
      "num_ens:\t\t\t3\n",
      "N_total:\t\t\t120000\n",
      "theta_0:\t\t\t1\n",
      "phi_0:\t\t\t\t0.0\n",
      "coup_a_0:\t\t\t1.0\n",
      "gamma_a_0 (atom decay):\t\t0.0\n",
      "chi_a_0 (atom dephase):\t\t0.0\n",
      "kappa_c_0 (cavity decay):\t100.0\n",
      "t_max:\t\t\t\t0.2\n",
      "t_num:\t\t\t\t60000\n",
      "\n",
      "\n"
     ]
    },
    {
     "name": "stderr",
     "output_type": "stream",
     "text": [
      "100% [\u001b[32m██████████\u001b[0m ]"
     ]
    },
    {
     "name": "stdout",
     "output_type": "stream",
     "text": [
      "Program takes about 26.12 s\n",
      "************************* 120000 Run 1 Detuning 71 *************************\n",
      "Handle: k3N120000det71_1_1.0_100.0_test3\n"
     ]
    },
    {
     "name": "stderr",
     "output_type": "stream",
     "text": [
      "\n"
     ]
    },
    {
     "name": "stdout",
     "output_type": "stream",
     "text": [
      "num_ens:\t\t\t3\n",
      "N_total:\t\t\t120000\n",
      "theta_0:\t\t\t1\n",
      "phi_0:\t\t\t\t0.0\n",
      "coup_a_0:\t\t\t1.0\n",
      "gamma_a_0 (atom decay):\t\t0.0\n",
      "chi_a_0 (atom dephase):\t\t0.0\n",
      "kappa_c_0 (cavity decay):\t100.0\n",
      "t_max:\t\t\t\t0.2\n",
      "t_num:\t\t\t\t60000\n",
      "\n",
      "\n"
     ]
    },
    {
     "name": "stderr",
     "output_type": "stream",
     "text": [
      "100% [\u001b[32m██████████\u001b[0m ]"
     ]
    },
    {
     "name": "stdout",
     "output_type": "stream",
     "text": [
      "Program takes about 25.83 s\n",
      "Detuning 71 too small, 0.9983539423314585, next round\n",
      "************************* 120000 Run 2 Detuning 106 *************************\n",
      "Handle: k3N120000det106_1_1.0_100.0_test3\n"
     ]
    },
    {
     "name": "stderr",
     "output_type": "stream",
     "text": [
      "\n"
     ]
    },
    {
     "name": "stdout",
     "output_type": "stream",
     "text": [
      "num_ens:\t\t\t3\n",
      "N_total:\t\t\t120000\n",
      "theta_0:\t\t\t1\n",
      "phi_0:\t\t\t\t0.0\n",
      "coup_a_0:\t\t\t1.0\n",
      "gamma_a_0 (atom decay):\t\t0.0\n",
      "chi_a_0 (atom dephase):\t\t0.0\n",
      "kappa_c_0 (cavity decay):\t100.0\n",
      "t_max:\t\t\t\t0.2\n",
      "t_num:\t\t\t\t60000\n",
      "\n",
      "\n"
     ]
    },
    {
     "name": "stderr",
     "output_type": "stream",
     "text": [
      "100% [\u001b[32m██████████\u001b[0m ]"
     ]
    },
    {
     "name": "stdout",
     "output_type": "stream",
     "text": [
      "Program takes about 26.53 s\n",
      "Detuning 106 too small, 0.9948341678682046, next round\n",
      "************************* 120000 Run 3 Detuning 124 *************************\n",
      "Handle: k3N120000det124_1_1.0_100.0_test3\n"
     ]
    },
    {
     "name": "stderr",
     "output_type": "stream",
     "text": [
      "\n"
     ]
    },
    {
     "name": "stdout",
     "output_type": "stream",
     "text": [
      "num_ens:\t\t\t3\n",
      "N_total:\t\t\t120000\n",
      "theta_0:\t\t\t1\n",
      "phi_0:\t\t\t\t0.0\n",
      "coup_a_0:\t\t\t1.0\n",
      "gamma_a_0 (atom decay):\t\t0.0\n",
      "chi_a_0 (atom dephase):\t\t0.0\n",
      "kappa_c_0 (cavity decay):\t100.0\n",
      "t_max:\t\t\t\t0.2\n",
      "t_num:\t\t\t\t60000\n",
      "\n",
      "\n"
     ]
    },
    {
     "name": "stderr",
     "output_type": "stream",
     "text": [
      "100% [\u001b[32m██████████\u001b[0m ]"
     ]
    },
    {
     "name": "stdout",
     "output_type": "stream",
     "text": [
      "Program takes about 26.62 s\n",
      "Detuning 124 too small, 0.9919307532698951, next round\n",
      "************************* 120000 Run 4 Detuning 133 *************************\n",
      "Handle: k3N120000det133_1_1.0_100.0_test3\n"
     ]
    },
    {
     "name": "stderr",
     "output_type": "stream",
     "text": [
      "\n"
     ]
    },
    {
     "name": "stdout",
     "output_type": "stream",
     "text": [
      "num_ens:\t\t\t3\n",
      "N_total:\t\t\t120000\n",
      "theta_0:\t\t\t1\n",
      "phi_0:\t\t\t\t0.0\n",
      "coup_a_0:\t\t\t1.0\n",
      "gamma_a_0 (atom decay):\t\t0.0\n",
      "chi_a_0 (atom dephase):\t\t0.0\n",
      "kappa_c_0 (cavity decay):\t100.0\n",
      "t_max:\t\t\t\t0.2\n",
      "t_num:\t\t\t\t60000\n",
      "\n",
      "\n"
     ]
    },
    {
     "name": "stderr",
     "output_type": "stream",
     "text": [
      "100% [\u001b[32m██████████\u001b[0m ]"
     ]
    },
    {
     "name": "stdout",
     "output_type": "stream",
     "text": [
      "Program takes about 26.60 s\n",
      "delta_crit1 has been found at run 4: 133, 0.9901301977148066\n",
      "133\n",
      "k3N100000det133_1_1.0_100.0_test3\n"
     ]
    },
    {
     "name": "stderr",
     "output_type": "stream",
     "text": [
      "\n"
     ]
    },
    {
     "name": "stdout",
     "output_type": "stream",
     "text": [
      "num_ens:\t\t\t3\n",
      "N_total:\t\t\t100000\n",
      "theta_0:\t\t\t1\n",
      "phi_0:\t\t\t\t0.0\n",
      "coup_a_0:\t\t\t1.0\n",
      "gamma_a_0 (atom decay):\t\t0.0\n",
      "chi_a_0 (atom dephase):\t\t0.0\n",
      "kappa_c_0 (cavity decay):\t100.0\n",
      "t_max:\t\t\t\t0.2\n",
      "t_num:\t\t\t\t60000\n",
      "\n",
      "\n"
     ]
    },
    {
     "name": "stderr",
     "output_type": "stream",
     "text": [
      "100% [\u001b[32m██████████\u001b[0m ]"
     ]
    },
    {
     "name": "stdout",
     "output_type": "stream",
     "text": [
      "Program takes about 26.50 s\n",
      "************************* 100000 Run 1 Detuning 66 *************************\n",
      "Handle: k3N100000det66_1_1.0_100.0_test3\n"
     ]
    },
    {
     "name": "stderr",
     "output_type": "stream",
     "text": [
      "\n"
     ]
    },
    {
     "name": "stdout",
     "output_type": "stream",
     "text": [
      "num_ens:\t\t\t3\n",
      "N_total:\t\t\t100000\n",
      "theta_0:\t\t\t1\n",
      "phi_0:\t\t\t\t0.0\n",
      "coup_a_0:\t\t\t1.0\n",
      "gamma_a_0 (atom decay):\t\t0.0\n",
      "chi_a_0 (atom dephase):\t\t0.0\n",
      "kappa_c_0 (cavity decay):\t100.0\n",
      "t_max:\t\t\t\t0.2\n",
      "t_num:\t\t\t\t60000\n",
      "\n",
      "\n"
     ]
    },
    {
     "name": "stderr",
     "output_type": "stream",
     "text": [
      "100% [\u001b[32m██████████\u001b[0m ]"
     ]
    },
    {
     "name": "stdout",
     "output_type": "stream",
     "text": [
      "Program takes about 26.75 s\n",
      "Detuning 66 too small, 0.998166109477888, next round\n",
      "************************* 100000 Run 2 Detuning 99 *************************\n",
      "Handle: k3N100000det99_1_1.0_100.0_test3\n"
     ]
    },
    {
     "name": "stderr",
     "output_type": "stream",
     "text": [
      "\n"
     ]
    },
    {
     "name": "stdout",
     "output_type": "stream",
     "text": [
      "num_ens:\t\t\t3\n",
      "N_total:\t\t\t100000\n",
      "theta_0:\t\t\t1\n",
      "phi_0:\t\t\t\t0.0\n",
      "coup_a_0:\t\t\t1.0\n",
      "gamma_a_0 (atom decay):\t\t0.0\n",
      "chi_a_0 (atom dephase):\t\t0.0\n",
      "kappa_c_0 (cavity decay):\t100.0\n",
      "t_max:\t\t\t\t0.2\n",
      "t_num:\t\t\t\t60000\n",
      "\n",
      "\n"
     ]
    },
    {
     "name": "stderr",
     "output_type": "stream",
     "text": [
      "100% [\u001b[32m██████████\u001b[0m ]"
     ]
    },
    {
     "name": "stdout",
     "output_type": "stream",
     "text": [
      "Program takes about 26.84 s\n",
      "Detuning 99 too small, 0.9941328346290375, next round\n",
      "************************* 100000 Run 3 Detuning 116 *************************\n",
      "Handle: k3N100000det116_1_1.0_100.0_test3\n"
     ]
    },
    {
     "name": "stderr",
     "output_type": "stream",
     "text": [
      "\n"
     ]
    },
    {
     "name": "stdout",
     "output_type": "stream",
     "text": [
      "num_ens:\t\t\t3\n",
      "N_total:\t\t\t100000\n",
      "theta_0:\t\t\t1\n",
      "phi_0:\t\t\t\t0.0\n",
      "coup_a_0:\t\t\t1.0\n",
      "gamma_a_0 (atom decay):\t\t0.0\n",
      "chi_a_0 (atom dephase):\t\t0.0\n",
      "kappa_c_0 (cavity decay):\t100.0\n",
      "t_max:\t\t\t\t0.2\n",
      "t_num:\t\t\t\t60000\n",
      "\n",
      "\n"
     ]
    },
    {
     "name": "stderr",
     "output_type": "stream",
     "text": [
      "100% [\u001b[32m██████████\u001b[0m ]"
     ]
    },
    {
     "name": "stdout",
     "output_type": "stream",
     "text": [
      "Program takes about 27.10 s\n",
      "delta_crit1 has been found at run 3: 116, 0.9908621013553319\n",
      "116\n",
      "k3N80000det116_1_1.0_100.0_test3\n"
     ]
    },
    {
     "name": "stderr",
     "output_type": "stream",
     "text": [
      "\n"
     ]
    },
    {
     "name": "stdout",
     "output_type": "stream",
     "text": [
      "num_ens:\t\t\t3\n",
      "N_total:\t\t\t80000\n",
      "theta_0:\t\t\t1\n",
      "phi_0:\t\t\t\t0.0\n",
      "coup_a_0:\t\t\t1.0\n",
      "gamma_a_0 (atom decay):\t\t0.0\n",
      "chi_a_0 (atom dephase):\t\t0.0\n",
      "kappa_c_0 (cavity decay):\t100.0\n",
      "t_max:\t\t\t\t0.2\n",
      "t_num:\t\t\t\t60000\n",
      "\n",
      "\n"
     ]
    },
    {
     "name": "stderr",
     "output_type": "stream",
     "text": [
      "100% [\u001b[32m██████████\u001b[0m ]"
     ]
    },
    {
     "name": "stdout",
     "output_type": "stream",
     "text": [
      "Program takes about 26.77 s\n",
      "************************* 80000 Run 1 Detuning 58 *************************\n",
      "Handle: k3N80000det58_1_1.0_100.0_test3\n"
     ]
    },
    {
     "name": "stderr",
     "output_type": "stream",
     "text": [
      "\n"
     ]
    },
    {
     "name": "stdout",
     "output_type": "stream",
     "text": [
      "num_ens:\t\t\t3\n",
      "N_total:\t\t\t80000\n",
      "theta_0:\t\t\t1\n",
      "phi_0:\t\t\t\t0.0\n",
      "coup_a_0:\t\t\t1.0\n",
      "gamma_a_0 (atom decay):\t\t0.0\n",
      "chi_a_0 (atom dephase):\t\t0.0\n",
      "kappa_c_0 (cavity decay):\t100.0\n",
      "t_max:\t\t\t\t0.2\n",
      "t_num:\t\t\t\t60000\n",
      "\n",
      "\n"
     ]
    },
    {
     "name": "stderr",
     "output_type": "stream",
     "text": [
      "100% [\u001b[32m██████████\u001b[0m ]"
     ]
    },
    {
     "name": "stdout",
     "output_type": "stream",
     "text": [
      "Program takes about 26.63 s\n",
      "Detuning 58 too small, 0.998139805066281, next round\n",
      "************************* 80000 Run 2 Detuning 87 *************************\n",
      "Handle: k3N80000det87_1_1.0_100.0_test3\n"
     ]
    },
    {
     "name": "stderr",
     "output_type": "stream",
     "text": [
      "\n"
     ]
    },
    {
     "name": "stdout",
     "output_type": "stream",
     "text": [
      "num_ens:\t\t\t3\n",
      "N_total:\t\t\t80000\n",
      "theta_0:\t\t\t1\n",
      "phi_0:\t\t\t\t0.0\n",
      "coup_a_0:\t\t\t1.0\n",
      "gamma_a_0 (atom decay):\t\t0.0\n",
      "chi_a_0 (atom dephase):\t\t0.0\n",
      "kappa_c_0 (cavity decay):\t100.0\n",
      "t_max:\t\t\t\t0.2\n",
      "t_num:\t\t\t\t60000\n",
      "\n",
      "\n"
     ]
    },
    {
     "name": "stderr",
     "output_type": "stream",
     "text": [
      "100% [\u001b[32m██████████\u001b[0m ]"
     ]
    },
    {
     "name": "stdout",
     "output_type": "stream",
     "text": [
      "Program takes about 27.02 s\n",
      "Detuning 87 too small, 0.9939894606350852, next round\n",
      "************************* 80000 Run 3 Detuning 101 *************************\n",
      "Handle: k3N80000det101_1_1.0_100.0_test3\n"
     ]
    },
    {
     "name": "stderr",
     "output_type": "stream",
     "text": [
      "\n"
     ]
    },
    {
     "name": "stdout",
     "output_type": "stream",
     "text": [
      "num_ens:\t\t\t3\n",
      "N_total:\t\t\t80000\n",
      "theta_0:\t\t\t1\n",
      "phi_0:\t\t\t\t0.0\n",
      "coup_a_0:\t\t\t1.0\n",
      "gamma_a_0 (atom decay):\t\t0.0\n",
      "chi_a_0 (atom dephase):\t\t0.0\n",
      "kappa_c_0 (cavity decay):\t100.0\n",
      "t_max:\t\t\t\t0.2\n",
      "t_num:\t\t\t\t60000\n",
      "\n",
      "\n"
     ]
    },
    {
     "name": "stderr",
     "output_type": "stream",
     "text": [
      "100% [\u001b[32m██████████\u001b[0m ]"
     ]
    },
    {
     "name": "stdout",
     "output_type": "stream",
     "text": [
      "Program takes about 27.57 s\n",
      "delta_crit1 has been found at run 3: 101, 0.9907884944972585\n",
      "101\n",
      "k3N60000det101_1_1.0_100.0_test3\n"
     ]
    },
    {
     "name": "stderr",
     "output_type": "stream",
     "text": [
      "\n"
     ]
    },
    {
     "name": "stdout",
     "output_type": "stream",
     "text": [
      "num_ens:\t\t\t3\n",
      "N_total:\t\t\t60000\n",
      "theta_0:\t\t\t1\n",
      "phi_0:\t\t\t\t0.0\n",
      "coup_a_0:\t\t\t1.0\n",
      "gamma_a_0 (atom decay):\t\t0.0\n",
      "chi_a_0 (atom dephase):\t\t0.0\n",
      "kappa_c_0 (cavity decay):\t100.0\n",
      "t_max:\t\t\t\t0.2\n",
      "t_num:\t\t\t\t60000\n",
      "\n",
      "\n"
     ]
    },
    {
     "name": "stderr",
     "output_type": "stream",
     "text": [
      "100% [\u001b[32m██████████\u001b[0m ]"
     ]
    },
    {
     "name": "stdout",
     "output_type": "stream",
     "text": [
      "Program takes about 28.26 s\n",
      "************************* 60000 Run 1 Detuning 50 *************************\n",
      "Handle: k3N60000det50_1_1.0_100.0_test3\n"
     ]
    },
    {
     "name": "stderr",
     "output_type": "stream",
     "text": [
      "\n"
     ]
    },
    {
     "name": "stdout",
     "output_type": "stream",
     "text": [
      "num_ens:\t\t\t3\n",
      "N_total:\t\t\t60000\n",
      "theta_0:\t\t\t1\n",
      "phi_0:\t\t\t\t0.0\n",
      "coup_a_0:\t\t\t1.0\n",
      "gamma_a_0 (atom decay):\t\t0.0\n",
      "chi_a_0 (atom dephase):\t\t0.0\n",
      "kappa_c_0 (cavity decay):\t100.0\n",
      "t_max:\t\t\t\t0.2\n",
      "t_num:\t\t\t\t60000\n",
      "\n",
      "\n"
     ]
    },
    {
     "name": "stderr",
     "output_type": "stream",
     "text": [
      "100% [\u001b[32m██████████\u001b[0m ]"
     ]
    },
    {
     "name": "stdout",
     "output_type": "stream",
     "text": [
      "Program takes about 28.05 s\n",
      "Detuning 50 too small, 0.9980286210235835, next round\n",
      "************************* 60000 Run 2 Detuning 75 *************************\n",
      "Handle: k3N60000det75_1_1.0_100.0_test3\n"
     ]
    },
    {
     "name": "stderr",
     "output_type": "stream",
     "text": [
      "\n"
     ]
    },
    {
     "name": "stdout",
     "output_type": "stream",
     "text": [
      "num_ens:\t\t\t3\n",
      "N_total:\t\t\t60000\n",
      "theta_0:\t\t\t1\n",
      "phi_0:\t\t\t\t0.0\n",
      "coup_a_0:\t\t\t1.0\n",
      "gamma_a_0 (atom decay):\t\t0.0\n",
      "chi_a_0 (atom dephase):\t\t0.0\n",
      "kappa_c_0 (cavity decay):\t100.0\n",
      "t_max:\t\t\t\t0.2\n",
      "t_num:\t\t\t\t60000\n",
      "\n",
      "\n"
     ]
    },
    {
     "name": "stderr",
     "output_type": "stream",
     "text": [
      "100% [\u001b[32m██████████\u001b[0m ]"
     ]
    },
    {
     "name": "stdout",
     "output_type": "stream",
     "text": [
      "Program takes about 27.89 s\n",
      "Detuning 75 too small, 0.9933938185466564, next round\n",
      "************************* 60000 Run 3 Detuning 88 *************************\n",
      "Handle: k3N60000det88_1_1.0_100.0_test3\n"
     ]
    },
    {
     "name": "stderr",
     "output_type": "stream",
     "text": [
      "\n"
     ]
    },
    {
     "name": "stdout",
     "output_type": "stream",
     "text": [
      "num_ens:\t\t\t3\n",
      "N_total:\t\t\t60000\n",
      "theta_0:\t\t\t1\n",
      "phi_0:\t\t\t\t0.0\n",
      "coup_a_0:\t\t\t1.0\n",
      "gamma_a_0 (atom decay):\t\t0.0\n",
      "chi_a_0 (atom dephase):\t\t0.0\n",
      "kappa_c_0 (cavity decay):\t100.0\n",
      "t_max:\t\t\t\t0.2\n",
      "t_num:\t\t\t\t60000\n",
      "\n",
      "\n"
     ]
    },
    {
     "name": "stderr",
     "output_type": "stream",
     "text": [
      "100% [\u001b[32m██████████\u001b[0m ]"
     ]
    },
    {
     "name": "stdout",
     "output_type": "stream",
     "text": [
      "Program takes about 28.48 s\n",
      "delta_crit1 has been found at run 3: 88, 0.9895716123842733\n",
      "88\n",
      "k3N40000det88_1_1.0_100.0_test3\n"
     ]
    },
    {
     "name": "stderr",
     "output_type": "stream",
     "text": [
      "\n"
     ]
    },
    {
     "name": "stdout",
     "output_type": "stream",
     "text": [
      "num_ens:\t\t\t3\n",
      "N_total:\t\t\t40000\n",
      "theta_0:\t\t\t1\n",
      "phi_0:\t\t\t\t0.0\n",
      "coup_a_0:\t\t\t1.0\n",
      "gamma_a_0 (atom decay):\t\t0.0\n",
      "chi_a_0 (atom dephase):\t\t0.0\n",
      "kappa_c_0 (cavity decay):\t100.0\n",
      "t_max:\t\t\t\t0.2\n",
      "t_num:\t\t\t\t60000\n",
      "\n",
      "\n"
     ]
    },
    {
     "name": "stderr",
     "output_type": "stream",
     "text": [
      "100% [\u001b[32m██████████\u001b[0m ]"
     ]
    },
    {
     "name": "stdout",
     "output_type": "stream",
     "text": [
      "Program takes about 28.16 s\n",
      "************************* 40000 Run 1 Detuning 44 *************************\n",
      "Handle: k3N40000det44_1_1.0_100.0_test3\n"
     ]
    },
    {
     "name": "stderr",
     "output_type": "stream",
     "text": [
      "\n"
     ]
    },
    {
     "name": "stdout",
     "output_type": "stream",
     "text": [
      "num_ens:\t\t\t3\n",
      "N_total:\t\t\t40000\n",
      "theta_0:\t\t\t1\n",
      "phi_0:\t\t\t\t0.0\n",
      "coup_a_0:\t\t\t1.0\n",
      "gamma_a_0 (atom decay):\t\t0.0\n",
      "chi_a_0 (atom dephase):\t\t0.0\n",
      "kappa_c_0 (cavity decay):\t100.0\n",
      "t_max:\t\t\t\t0.2\n",
      "t_num:\t\t\t\t60000\n",
      "\n",
      "\n"
     ]
    },
    {
     "name": "stderr",
     "output_type": "stream",
     "text": [
      "100% [\u001b[32m██████████\u001b[0m ]"
     ]
    },
    {
     "name": "stdout",
     "output_type": "stream",
     "text": [
      "Program takes about 26.98 s\n",
      "Detuning 44 too small, 0.9972264767157301, next round\n",
      "************************* 40000 Run 2 Detuning 66 *************************\n",
      "Handle: k3N40000det66_1_1.0_100.0_test3\n"
     ]
    },
    {
     "name": "stderr",
     "output_type": "stream",
     "text": [
      "\n"
     ]
    },
    {
     "name": "stdout",
     "output_type": "stream",
     "text": [
      "num_ens:\t\t\t3\n",
      "N_total:\t\t\t40000\n",
      "theta_0:\t\t\t1\n",
      "phi_0:\t\t\t\t0.0\n",
      "coup_a_0:\t\t\t1.0\n",
      "gamma_a_0 (atom decay):\t\t0.0\n",
      "chi_a_0 (atom dephase):\t\t0.0\n",
      "kappa_c_0 (cavity decay):\t100.0\n",
      "t_max:\t\t\t\t0.2\n",
      "t_num:\t\t\t\t60000\n",
      "\n",
      "\n"
     ]
    },
    {
     "name": "stderr",
     "output_type": "stream",
     "text": [
      "100% [\u001b[32m██████████\u001b[0m ]"
     ]
    },
    {
     "name": "stdout",
     "output_type": "stream",
     "text": [
      "Program takes about 25.39 s\n",
      "delta_crit1 has been found at run 2: 66, 0.990166243823119\n",
      "66\n",
      "k3N20000det66_1_1.0_100.0_test3\n"
     ]
    },
    {
     "name": "stderr",
     "output_type": "stream",
     "text": [
      "\n"
     ]
    },
    {
     "name": "stdout",
     "output_type": "stream",
     "text": [
      "num_ens:\t\t\t3\n",
      "N_total:\t\t\t20000\n",
      "theta_0:\t\t\t1\n",
      "phi_0:\t\t\t\t0.0\n",
      "coup_a_0:\t\t\t1.0\n",
      "gamma_a_0 (atom decay):\t\t0.0\n",
      "chi_a_0 (atom dephase):\t\t0.0\n",
      "kappa_c_0 (cavity decay):\t100.0\n",
      "t_max:\t\t\t\t0.2\n",
      "t_num:\t\t\t\t60000\n",
      "\n",
      "\n"
     ]
    },
    {
     "name": "stderr",
     "output_type": "stream",
     "text": [
      "100% [\u001b[32m██████████\u001b[0m ]"
     ]
    },
    {
     "name": "stdout",
     "output_type": "stream",
     "text": [
      "Program takes about 25.72 s\n",
      "************************* 20000 Run 1 Detuning 33 *************************\n",
      "Handle: k3N20000det33_1_1.0_100.0_test3\n"
     ]
    },
    {
     "name": "stderr",
     "output_type": "stream",
     "text": [
      "\n"
     ]
    },
    {
     "name": "stdout",
     "output_type": "stream",
     "text": [
      "num_ens:\t\t\t3\n",
      "N_total:\t\t\t20000\n",
      "theta_0:\t\t\t1\n",
      "phi_0:\t\t\t\t0.0\n",
      "coup_a_0:\t\t\t1.0\n",
      "gamma_a_0 (atom decay):\t\t0.0\n",
      "chi_a_0 (atom dephase):\t\t0.0\n",
      "kappa_c_0 (cavity decay):\t100.0\n",
      "t_max:\t\t\t\t0.2\n",
      "t_num:\t\t\t\t60000\n",
      "\n",
      "\n"
     ]
    },
    {
     "name": "stderr",
     "output_type": "stream",
     "text": [
      "100% [\u001b[32m██████████\u001b[0m ]"
     ]
    },
    {
     "name": "stdout",
     "output_type": "stream",
     "text": [
      "Program takes about 25.72 s\n",
      "Detuning 33 too small, 0.9956788351445228, next round\n",
      "************************* 20000 Run 2 Detuning 49 *************************\n",
      "Handle: k3N20000det49_1_1.0_100.0_test3\n"
     ]
    },
    {
     "name": "stderr",
     "output_type": "stream",
     "text": [
      "\n"
     ]
    },
    {
     "name": "stdout",
     "output_type": "stream",
     "text": [
      "num_ens:\t\t\t3\n",
      "N_total:\t\t\t20000\n",
      "theta_0:\t\t\t1\n",
      "phi_0:\t\t\t\t0.0\n",
      "coup_a_0:\t\t\t1.0\n",
      "gamma_a_0 (atom decay):\t\t0.0\n",
      "chi_a_0 (atom dephase):\t\t0.0\n",
      "kappa_c_0 (cavity decay):\t100.0\n",
      "t_max:\t\t\t\t0.2\n",
      "t_num:\t\t\t\t60000\n",
      "\n",
      "\n"
     ]
    },
    {
     "name": "stderr",
     "output_type": "stream",
     "text": [
      "100% [\u001b[32m██████████\u001b[0m ]"
     ]
    },
    {
     "name": "stdout",
     "output_type": "stream",
     "text": [
      "Program takes about 26.05 s\n",
      "Detuning 49 too large, 0.9837396479203261, next round\n",
      "************************* 20000 Run 3 Detuning 41 *************************\n",
      "Handle: k3N20000det41_1_1.0_100.0_test3\n"
     ]
    },
    {
     "name": "stderr",
     "output_type": "stream",
     "text": [
      "\n"
     ]
    },
    {
     "name": "stdout",
     "output_type": "stream",
     "text": [
      "num_ens:\t\t\t3\n",
      "N_total:\t\t\t20000\n",
      "theta_0:\t\t\t1\n",
      "phi_0:\t\t\t\t0.0\n",
      "coup_a_0:\t\t\t1.0\n",
      "gamma_a_0 (atom decay):\t\t0.0\n",
      "chi_a_0 (atom dephase):\t\t0.0\n",
      "kappa_c_0 (cavity decay):\t100.0\n",
      "t_max:\t\t\t\t0.2\n",
      "t_num:\t\t\t\t60000\n",
      "\n",
      "\n"
     ]
    },
    {
     "name": "stderr",
     "output_type": "stream",
     "text": [
      "100% [\u001b[32m██████████\u001b[0m ]"
     ]
    },
    {
     "name": "stdout",
     "output_type": "stream",
     "text": [
      "Program takes about 25.97 s\n",
      "delta_crit1 has been found at run 3: 41, 0.9909893113666401\n"
     ]
    },
    {
     "name": "stderr",
     "output_type": "stream",
     "text": [
      "\n"
     ]
    }
   ],
   "source": [
    "#############################################################\n",
    "# Test 3: Find critical detuning\n",
    "# Criterion 1: Td <1.05 Td(0)\n",
    "# Criterion 2: sz_delta < -0.8\n",
    "# System {-d, 0, d}\n",
    "#############################################################\n",
    "N_tot_range = np.linspace(20000, 800000, 40)[::-1].astype(int) # Start with the largest ensemble\n",
    "num_ens = 3\n",
    "theta_0 = 1\n",
    "phi_0 = 0.0\n",
    "coup_a_0 = 1.0\n",
    "gamma_a_0 = 0.0\n",
    "chi_a_0 = 0.0\n",
    "kappa_c_0 = 100.0\n",
    "t_max = 0.2\n",
    "t_num = 60000\n",
    "det_dict = {}\n",
    "handle_list = []\n",
    "delta_min = 0\n",
    "delta_max = 375\n",
    "delta_cur = delta_max # Temporary variable\n",
    "cor_cri = 0.99\n",
    "tol = 1e-3 # Tolerance 0.001\n",
    "delta_crit = [] # Storing critical detunings satisfying crit\n",
    "\n",
    "for N_tot in N_tot_range:\n",
    "    # Run initial test to see if the current range is ok\n",
    "    crit1 = 0\n",
    "    found1 = False\n",
    "    run = 0\n",
    "    max_run = 10\n",
    "    delta_min = 0\n",
    "    delta_max = delta_cur # Smaller ensembles have smaller critical detuning\n",
    "    \n",
    "    # Initial check: crit1 fails at delta_max\n",
    "    while(True):\n",
    "        print(delta_max)\n",
    "        detuning_max = [0, -delta_max, delta_max]\n",
    "        np.savetxt(\"Detuning.dat\", detuning_max, delimiter=\"\\t\")\n",
    "        params = f'{num_ens} {N_tot} {theta_0} {phi_0} {coup_a_0} {gamma_a_0} {chi_a_0} {kappa_c_0} {t_max} {t_num}'\n",
    "        handle_max = f'k{num_ens}N{N_tot}det{delta_max}_{theta_0}_{coup_a_0}_{kappa_c_0}_test3'\n",
    "        print(handle_max)\n",
    "        # Check if file already exists\n",
    "        if os.path.isfile(f\"Result_Sz_{handle_max}.dat\") == False:\n",
    "            utils.runcmd(f'file.exe {params} {handle_max}')\n",
    "        else:\n",
    "            print(\"File exits, skipping simulation\")\n",
    "        # utils.runcmd(f'file.exe {params} {handle_max}')\n",
    "        result = utils.read_results(handle_max)\n",
    "        cor = np.corrcoef(result[1][:,0],result[1][:,1])[0][1]\n",
    "        \n",
    "        if np.abs(cor-cor_cri) < tol: # delta_max is the critical detuning for crit1\n",
    "            delta_crit.append(delta_max)\n",
    "            found1 = True\n",
    "            delta_cur = delta_max\n",
    "            print(f\"delta_crit1 has been found at boundary {delta_max}\")\n",
    "            break\n",
    "        elif cor < cor_cri:\n",
    "            break\n",
    "        elif cor > cor_cri: # delta_max is smaller than critical detuning for crit1\n",
    "            delta_max += 100\n",
    "            print(f\"delta_max smaller than critical, increase by 100 to {delta_max}\")\n",
    "        # break (auto) delta_max is larger than critical detuning for crit 1\n",
    "    \n",
    "    # Start searching by binary\n",
    "    while((found1== False) and run<max_run and delta_max-delta_min>5):\n",
    "        run += 1\n",
    "        delta_mid = int((delta_max + delta_min)/2)\n",
    "        detuning_mid = [0, -delta_mid, delta_mid]\n",
    "        np.savetxt(\"Detuning.dat\", detuning_mid, delimiter=\"\\t\")   \n",
    "        handle_mid = f'k{num_ens}N{N_tot}det{delta_mid}_{theta_0}_{coup_a_0}_{kappa_c_0}_test3' # Add extra notes as needed\n",
    "        handle_list.append(handle_mid)\n",
    "        det_dict[handle_mid] = detuning_mid\n",
    "        print(f\"************************* {N_tot} Run {run} Detuning {delta_mid} *************************\")\n",
    "        print(f\"Handle: {handle_mid}\")\n",
    "        if os.path.isfile(f\"Result_Sz_{handle_mid}.dat\") == False:\n",
    "            utils.runcmd(f'file.exe {params} {handle_mid}')\n",
    "        else:\n",
    "            print(\"File exits, skipping simulation\")\n",
    "        # utils.runcmd(f'file.exe {params} {handle_mid}')\n",
    "        result = utils.read_results(handle_mid)\n",
    "        cor = np.corrcoef(result[1][:,0],result[1][:,1])[0][1]\n",
    "        if np.abs(cor - cor_cri) < tol:\n",
    "            delta_crit.append(delta_mid)\n",
    "            found1 = True\n",
    "            delta_cur = delta_mid\n",
    "            print(f\"delta_crit1 has been found at run {run}: {delta_mid}, {cor}\")\n",
    "            break\n",
    "        elif cor < cor_cri:\n",
    "            delta_max = delta_mid\n",
    "            print(f\"Detuning {delta_mid} too large, {cor}, next round\")\n",
    "        elif cor > cor_cri:\n",
    "            delta_min = delta_mid\n",
    "            print(f\"Detuning {delta_mid} too small, {cor}, next round\")\n",
    "    \n",
    "    if found1 == False:\n",
    "        delta_mid = int((delta_min + delta_max)/2)\n",
    "        delta_crit.append(delta_mid)\n",
    "        found1 = True\n",
    "        delta_cur = delta_mid\n",
    "        print(f\"Unable to resolve within max_iter, settle at {delta_mid} with cor ~{cor}\")"
   ]
  },
  {
   "cell_type": "code",
   "execution_count": 25,
   "metadata": {},
   "outputs": [
    {
     "data": {
      "text/plain": [
       "<matplotlib.legend.Legend at 0x211c3637eb0>"
      ]
     },
     "execution_count": 25,
     "metadata": {},
     "output_type": "execute_result"
    },
    {
     "data": {
      "image/png": "[encoded data removed]",
      "text/plain": [
       "<Figure size 640x480 with 1 Axes>"
      ]
     },
     "metadata": {},
     "output_type": "display_data"
    }
   ],
   "source": [
    "plt.scatter(N_tot_range, delta_crit, label=\"Data\")\n",
    "# plt.plot(N_tot_range, predict_Y_log(N_tot_range))\n",
    "# plt.plot(N_tot_range, predict_Y_quad(N_tot_range))\n",
    "plt.plot(N_tot_range, predict_Y_hyp(N_tot_range),label=\"Hyperbolic fit\", color=\"#ff7f0e\")\n",
    "plt.ylabel(\"Critical detuning (kHz)\")\n",
    "plt.xlabel(\"N_tot\")\n",
    "plt.legend()\n",
    "# delta_crit\n",
    "# plt.scatter(N_tot_range, delta_crit)\n",
    "# plt.plot(N_tot_range, predict_Y(N_tot_range))"
   ]
  },
  {
   "cell_type": "code",
   "execution_count": 26,
   "metadata": {},
   "outputs": [
    {
     "data": {
      "text/plain": [
       "37.42552693695268"
      ]
     },
     "execution_count": 26,
     "metadata": {},
     "output_type": "execute_result"
    }
   ],
   "source": [
    "predict_Y_hyp(5000)"
   ]
  },
  {
   "cell_type": "code",
   "execution_count": 18,
   "metadata": {},
   "outputs": [
    {
     "name": "stdout",
     "output_type": "stream",
     "text": [
      "Optimized parameters (log): [  101.74139845 -1039.89907725]\n",
      "Optimized parameters (quad): [-3.61048609e-10  6.77617082e-04  5.04131583e+01]\n",
      "Optimized parameters (hyper): [-3.70265609e+08 -6.24089004e+05  6.25999809e+02]\n"
     ]
    }
   ],
   "source": [
    "import numpy as np\n",
    "#from sklearn.metrics import r2_score\n",
    "from scipy.optimize import curve_fit\n",
    "\n",
    "X = np.array(N_tot_range)\n",
    "Y = np.array(delta_crit)\n",
    "\n",
    "def quadratic_function(X, a, b, c):\n",
    "    return a * X ** 2 + b * X + c\n",
    "\n",
    "def logarithmic_function(X, a, b) :\n",
    "    return a * np.log(X) + b\n",
    "\n",
    "def hyperbola_function(x, a, b, c):\n",
    "    return a / (x - b) + c\n",
    "\n",
    "log_co, _ = curve_fit(logarithmic_function, X, Y)\n",
    "quad_co, _ = curve_fit(quadratic_function, X, Y)\n",
    "hyp_co, _ = curve_fit(hyperbola_function, X, Y)\n",
    "\n",
    "print(\"Optimized parameters (log):\", log_co)\n",
    "print(\"Optimized parameters (quad):\", quad_co)\n",
    "print(\"Optimized parameters (hyper):\", hyp_co)\n",
    "\n",
    "def predict_Y_log(X):\n",
    "    return logarithmic_function(X, *log_co)\n",
    "\n",
    "def predict_Y_quad(X):\n",
    "    return quadratic_function(X, *quad_co)\n",
    "\n",
    "def predict_Y_hyp(X):\n",
    "    return hyperbola_function(X, *hyp_co)\n",
    "\n",
    "#print(\"R-squared:\", r2_score(Y, predict_Y(X)))\n"
   ]
  },
  {
   "attachments": {},
   "cell_type": "markdown",
   "metadata": {},
   "source": [
    "# Analyze & Plot\n",
    "todo:  import util functions return predict Td\n",
    "write block to plot with Td and found Td"
   ]
  },
  {
   "cell_type": "code",
   "execution_count": null,
   "metadata": {},
   "outputs": [],
   "source": [
    "#############################################################\n",
    "# Read in the results file\n",
    "# Returns: \n",
    "#         [0]: time steps\n",
    "#         [1]: sz\n",
    "#         [2]: coherence\n",
    "#         [3]: photons\n",
    "#############################################################\n",
    "results = []\n",
    "detunings = []\n",
    "for i in range(np.size(handle_list)):\n",
    "    results.append(utils.read_results(handle_list[i])) # Input: file handle\n",
    "    detunings.append(det_dict[handle_list[i]])\n",
    "# results = utils.read_results(handle_list[0]) # Input: file handle\n",
    "print(detunings)"
   ]
  },
  {
   "cell_type": "code",
   "execution_count": null,
   "metadata": {},
   "outputs": [],
   "source": [
    "#############################################################\n",
    "# Plots intracavity field\n",
    "#############################################################\n",
    "for i in [0,6,7]:\n",
    "    end_ind = utils.cut_time(results[0][0], -1)\n",
    "    print(end_ind)\n",
    "    plt.plot(results[i][0], results[i][3], label=[int(k) for k in detunings[i]])\n",
    "plt.title(\"Intracavity photon\", fontsize=12)\n",
    "plt.xlabel(r\"Time ($\\mu$s)\", fontsize=12)\n",
    "plt.ylabel(r\"$\\langle a^\\dagger a\\rangle$\", fontsize=12)\n",
    "plt.legend()"
   ]
  },
  {
   "cell_type": "code",
   "execution_count": null,
   "metadata": {},
   "outputs": [],
   "source": [
    "# More code on diff photons\n",
    "ada_03 = (results[3][3]-results[1][3])/results[1][3]*100\n",
    "ada_13 = (results[5][3]-results[4][3])/results[4][3]*100\n",
    "ada_23 = (results[7][3]-results[6][3])/results[6][3]*100\n",
    "plt.plot(results[0][0], ada_13, label=r\"[0,$\\delta/3$, $\\delta$]-[0,$\\delta/2$]\")\n",
    "plt.plot(results[0][0], ada_03, label=r\"[0,$\\delta/2$, $\\delta$]-[0,$\\delta/3$]\")\n",
    "plt.plot(results[0][0], ada_23, label=r\"[0,$2\\delta/3$, $\\delta$]-[0,$2\\delta/3$]\")\n",
    "plt.title(\"Intracavity photon difference\", fontsize=12)\n",
    "plt.xlabel(r\"Time ($\\mu$s)\", fontsize=12)\n",
    "plt.ylabel(r\"$\\Delta\\langle a^\\dagger a\\rangle (\\%)$\", fontsize=12)\n",
    "plt.legend()"
   ]
  },
  {
   "cell_type": "code",
   "execution_count": null,
   "metadata": {},
   "outputs": [],
   "source": [
    "#############################################################\n",
    "# Line plots for inversion and coherence\n",
    "#############################################################\n",
    "for i in [0,4,5]:\n",
    "    if len(detunings[i])<2:\n",
    "        plt.plot(results[i][0], results[i][1], label=int(detunings[i]))\n",
    "    else:\n",
    "        plt.plot(results[i][0], results[i][1][:,0], label=[int(k) for k in detunings[i]])\n",
    "\n",
    "# Td = utils.findTd(results[0][1], results[0][0])\n",
    "# print(Td)\n",
    "plt.title(\"Atomic inversion (1st class)\", fontsize=12)\n",
    "plt.xlabel(r\"Time ($\\mu$s)\", fontsize=12)\n",
    "plt.ylabel(r\"$\\langle \\sigma_Z \\rangle$\", fontsize=12)\n",
    "plt.legend()"
   ]
  },
  {
   "cell_type": "code",
   "execution_count": null,
   "metadata": {},
   "outputs": [],
   "source": [
    "# The main emission part\n",
    "sz_03 = results[0][1][:,0]\n",
    "sz_13 = results[4][1][:,0]\n",
    "sz_23 = results[5][1][:,0]\n",
    "plt.plot(results[0][0], sz_03, label=r\"[0,$\\delta$]\")\n",
    "plt.plot(results[0][0], sz_13, label=r\"[0,$\\delta/3$]\")\n",
    "plt.plot(results[0][0], sz_23, label=r\"[0,$\\delta/3$, $\\delta$]\")\n",
    "\n",
    "# Td = utils.findTd(results[0][1], results[0][0])\n",
    "# print(Td)\n",
    "plt.title(\"Atomic inversion (1st class)\", fontsize=12)\n",
    "plt.xlabel(r\"Time ($\\mu$s)\", fontsize=12)\n",
    "plt.ylabel(r\"$\\langle \\sigma_Z \\rangle$\", fontsize=12)\n",
    "plt.legend()"
   ]
  },
  {
   "cell_type": "code",
   "execution_count": null,
   "metadata": {},
   "outputs": [],
   "source": [
    "sz_03 = (results[3][1][:,0]-results[1][1][:,0])\n",
    "sz_13 = (results[5][1][:,0]-results[4][1][:,0])\n",
    "sz_23 = (results[7][1][:,0]-results[6][1][:,0])\n",
    "plt.plot(results[0][0], sz_13, label=r\"[0,$\\delta/3$, $\\delta$]-[0,$\\delta/3$]\")\n",
    "plt.plot(results[0][0], sz_03, label=r\"[0,$\\delta/2$, $\\delta$]-[0,$\\delta/2$]\")\n",
    "plt.plot(results[0][0], sz_23, label=r\"[0,$2\\delta/3$, $\\delta$]-[0,$2\\delta/3$]\")\n",
    "\n",
    "# Td = utils.findTd(results[0][1], results[0][0])\n",
    "# print(Td)\n",
    "plt.title(\"Atomic inversion (1st class)\", fontsize=12)\n",
    "plt.xlabel(r\"Time ($\\mu$s)\", fontsize=12)\n",
    "plt.ylabel(r\"$\\Delta\\langle \\sigma_Z \\rangle$\", fontsize=12)\n",
    "plt.legend()"
   ]
  },
  {
   "cell_type": "code",
   "execution_count": null,
   "metadata": {},
   "outputs": [],
   "source": [
    "#############################################################\n",
    "# Line plots for coherence\n",
    "#############################################################\n",
    "for i in [5,3,7]:\n",
    "    if len(detunings[i])<3:\n",
    "        plt.plot(results[i][0], results[i][2], label=int(detunings[i]))\n",
    "    else:\n",
    "        plt.plot(results[i][0], results[i][2][:,2], label=[int(k) for k in detunings[i]])\n",
    "\n",
    "plt.title(\"Coherence\", fontsize=12)\n",
    "plt.xlabel(r\"Time ($\\mu$s)\", fontsize=12)\n",
    "plt.ylabel(r\"$\\langle \\sigma_+^k\\sigma_-^0 \\rangle$\", fontsize=12)\n",
    "plt.legend()"
   ]
  },
  {
   "cell_type": "code",
   "execution_count": null,
   "metadata": {},
   "outputs": [],
   "source": [
    "utils.plot_heat(results[0],detuning_values_1d[:20], np.rot90(results[1]), -1.0,1.0, \n",
    "                \"Atom inversion $\\langle\\sigma_Z\\\\rangle$\", \"Time ($\\mu$s)\", \"Detuning (kHz)\")"
   ]
  },
  {
   "cell_type": "code",
   "execution_count": null,
   "metadata": {},
   "outputs": [],
   "source": [
    "utils.plot_heat(results[0],detuning_values_1d, np.rot90(results[2]), 0,0.25, \n",
    "                \"Coherences\", \"Time ($\\mu$s)\", \"$\\langle\\sigma_+\\sigma_-\\\\rangle$\")"
   ]
  },
  {
   "cell_type": "code",
   "execution_count": null,
   "metadata": {},
   "outputs": [],
   "source": [
    "\n",
    "a = np.rot90(np.asarray([[0,1,2],[3,4,5]]))\n",
    "print(a)\n",
    "utils.plot_heat([0,1], [3,2,1], a, 0,6, \"na\", \"na\", \"na\")"
   ]
  },
  {
   "cell_type": "code",
   "execution_count": null,
   "metadata": {},
   "outputs": [],
   "source": []
  }
 ],
 "metadata": {
  "kernelspec": {
   "display_name": "Python 3",
   "language": "python",
   "name": "python3"
  },
  "language_info": {
   "codemirror_mode": {
    "name": "ipython",
    "version": 3
   },
   "file_extension": ".py",
   "mimetype": "text/x-python",
   "name": "python",
   "nbconvert_exporter": "python",
   "pygments_lexer": "ipython3",
   "version": "3.9.16"
  },
  "orig_nbformat": 4,
  "vscode": {
   "interpreter": {
    "hash": "4b94adeba7b713340ea8cbbda1aef534457fb8d68974eb0981e7dc62d87dea46"
   }
  }
 },
 "nbformat": 4,
 "nbformat_minor": 2
}
