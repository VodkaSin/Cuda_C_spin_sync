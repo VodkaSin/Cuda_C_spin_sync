{
  "nbformat": 4,
  "nbformat_minor": 0,
  "metadata": {
    "colab": {
      "provenance": [],
      "private_outputs": true,
      "collapsed_sections": [
        "E8ypBpUipJEk",
        "ipuwN71gjP9P"
      ],
      "mount_file_id": "1zMS1jtjQ7DGyykSi8tuj0-mOA0tt8nDk",
      "authorship_tag": "ABX9TyMHSzY0goI8dSCHoOgatq9w",
      "include_colab_link": true
    },
    "kernelspec": {
      "name": "python3",
      "display_name": "Python 3"
    },
    "language_info": {
      "name": "python"
    },
    "accelerator": "GPU",
    "gpuClass": "standard"
  },
  "cells": [
    {
      "cell_type": "markdown",
      "metadata": {
        "id": "view-in-github",
        "colab_type": "text"
      },
      "source": [
        "<a href=\"https://colab.research.google.com/github/VodkaSin/Cuda_C_spin_sync/blob/main/CUDA_code/CUDA_spin_cyn_COLAB.ipynb\" target=\"_parent\"><img src=\"https://colab.research.google.com/assets/colab-badge.svg\" alt=\"Open In Colab\"/></a>"
      ]
    },
    {
      "cell_type": "code",
      "execution_count": null,
      "metadata": {
        "id": "C7sFgH4Mh-ef"
      },
      "outputs": [],
      "source": [
        "# Mount google drive\n",
        "from google.colab import drive\n",
        "drive.mount('/content/gdrive', force_remount=True)"
      ]
    },
    {
      "cell_type": "code",
      "source": [
        "import os\n",
        "os.chdir(\"/content/gdrive/MyDrive/FYP/Cuda_C_spin_sync/CUDA_code\")"
      ],
      "metadata": {
        "id": "9nmqskmxjZ39"
      },
      "execution_count": null,
      "outputs": []
    },
    {
      "cell_type": "code",
      "source": [
        "# Clone repo and test\n",
        "# !git clone https://github.com/VodkaSin/Cuda_C_spin_sync.git\n",
        "!ls"
      ],
      "metadata": {
        "id": "ihH2RSdKlfVE"
      },
      "execution_count": null,
      "outputs": []
    },
    {
      "cell_type": "code",
      "source": [
        "#############################################################\n",
        "# Compile `main.cu` to `file.exe`\n",
        "# Commented out because we don't want to run it all the time\n",
        "#############################################################\n",
        "# !nvcc -w functions.cu main.cu -o file\n",
        "!nvcc -w functions.cu main_sz.cu -o file"
      ],
      "metadata": {
        "id": "FabfR-dumNcY"
      },
      "execution_count": null,
      "outputs": []
    },
    {
      "cell_type": "code",
      "source": [
        "#############################################################\n",
        "# Load python dependencies\n",
        "# If package cannot be resolved from pylance, reload the interpreter\n",
        "#############################################################\n",
        "import numpy as np\n",
        "import matplotlib.pyplot as plt\n",
        "import utils\n",
        "import os.path\n",
        "import scipy.stats as stats\n",
        "from matplotlib import rc\n",
        "!chmod 755 ./file"
      ],
      "metadata": {
        "id": "nVtEnsDcoYEm"
      },
      "execution_count": null,
      "outputs": []
    },
    {
      "cell_type": "code",
      "source": [
        "#############################################################\n",
        "# Figure settings\n",
        "#############################################################\n",
        "plt.rcParams.update({'font.size': 16})\n",
        "# plt.rcParams[\"font.family\"] = \"Arial\""
      ],
      "metadata": {
        "id": "cXO7FQLgNl4F"
      },
      "execution_count": null,
      "outputs": []
    },
    {
      "cell_type": "markdown",
      "source": [
        "# Test run"
      ],
      "metadata": {
        "id": "E8ypBpUipJEk"
      }
    },
    {
      "cell_type": "code",
      "source": [
        "#############################################################\n",
        "# Sample input\n",
        "#############################################################\n",
        "detunings = [[50,10]]\n",
        "thetas = [[0.5,0.5]] # Value between 0 and 1 for ground and excited\n",
        "# Generate a list of detuning profile with k = 10,20,30,40,50\n",
        "N_tot = 50000\n",
        "theta_0 = 1.0\n",
        "phi_0 = 0.0\n",
        "coup_a_0 = 1.0\n",
        "gamma_a_0 = 0.0\n",
        "chi_a_0 = 0.0\n",
        "kappa_c_0 = 100.0\n",
        "t_max = 0.2\n",
        "t_num = 40000\n",
        "det_dict = {}\n",
        "handle_list = []\n",
        "\n",
        "for i in range(len(detunings)):\n",
        "    np.savetxt(f\"Detuning.dat\", detunings[i], delimiter=\"\\t\")\n",
        "    np.savetxt(f\"Sz_init.dat\", thetas[i], delimiter=\"\\t\")\n",
        "    num_ens = len(detunings[i])\n",
        "    params = str((f'{num_ens} {N_tot} {theta_0} {phi_0} {coup_a_0} ')\n",
        "                +(f'{gamma_a_0} {chi_a_0} {kappa_c_0} {t_max} {t_num}'))\n",
        "    handle = f'k{num_ens}N{N_tot}det{500}_{theta_0}_{coup_a_0}_{kappa_c_0}_{i+1}'\n",
        "    det_dict[handle] = detunings[i]\n",
        "    handle_list.append(handle)\n",
        "    print(f\"************************* Run {i+1} *************************\")\n",
        "    print(f\"Handle: {handle} \")\n",
        "    if os.path.isfile(f\"Result_Sz_{handle}.dat\") == False:\n",
        "        !./file {params} {handle}\n",
        "    else:\n",
        "        print(\"File exits, skipping simulation\")\n",
        "    # Uncomment below if you wish to overwrite files\n",
        "    # !./file {params} {handle}\n",
        "    print(\"\\n\")"
      ],
      "metadata": {
        "id": "8lvlZXZcow3U"
      },
      "execution_count": null,
      "outputs": []
    },
    {
      "cell_type": "code",
      "source": [
        "#############################################################\n",
        "# Read outputs\n",
        "#############################################################\n",
        "n_tests = len(handle_list) # Number of tests\n",
        "results = [utils.read_results(handle) for handle in handle_list]\n",
        "time_list = [results[i][0] for i in range(n_tests)]\n",
        "sz_list = [results[i][1] for i in range(n_tests)] # Population inversion\n",
        "coherence_list = [results[i][2] for i in range(n_tests)] # Coherence with class 0\n",
        "photon_list = [results[i][3] for i in range(n_tests)] # Intracavity photon number"
      ],
      "metadata": {
        "id": "w4W2PcpTJLdr"
      },
      "execution_count": null,
      "outputs": []
    },
    {
      "cell_type": "code",
      "source": [
        "sz_list[0]"
      ],
      "metadata": {
        "id": "AP9LhRCOJMx3"
      },
      "execution_count": null,
      "outputs": []
    },
    {
      "cell_type": "markdown",
      "source": [
        "# Test 5"
      ],
      "metadata": {
        "id": "crSJOfvcCD9h"
      }
    },
    {
      "cell_type": "code",
      "source": [
        "#############################################################\n",
        "# Test 5: Find critical detuning\n",
        "# Criteria: - clas 0.99 + class 0.99\n",
        "#############################################################\n",
        "N_tot = 300000\n",
        "shifts = np.linspace(20,800,20).astype(int) # General run\n",
        "# shifts = np.linspace(380,410,10).astype(int) # Special run 1\n",
        "# shifts = np.linspace(380,410,10).astype(int) # Special run 2\n",
        "# shifts = np.linspace(340,430,10).astype(int) # Special run 3\n",
        "num_ens = 3\n",
        "theta_0 = 1\n",
        "np.savetxt(f\"Sz_init.dat\", [theta_0 for i in range(num_ens)], delimiter=\"\\t\")\n",
        "phi_0 = 0.0\n",
        "coup_a_0 = 1.0\n",
        "gamma_a_0 = 0.0\n",
        "chi_a_0 = 0.0\n",
        "kappa_c_0 = 100.0\n",
        "t_max = 0.2\n",
        "t_num = 60000\n",
        "det_dict = {}\n",
        "handle_list = []\n",
        "delta_crit = []\n",
        "delta_min = 0\n",
        "delta_max = 650\n",
        "delta_cur = delta_max # Temporary variable\n",
        "cor_cri = 0.99\n",
        "tol = 1e-3 # Tolerance 0.001\n",
        "# delta_crit = [] # Storing critical detunings satisfying crit\n",
        "\n",
        "for shift in shifts:\n",
        "    # Run initial test to see if the current range is ok\n",
        "    crit1 = 0\n",
        "    found1 = False\n",
        "    run = 0\n",
        "    max_run = 10\n",
        "    delta_min = 0\n",
        "    delta_max = delta_cur # Larger shifts have smaller critical detuning\n",
        "    \n",
        "    # Initial check: crit1 fails at delta_max\n",
        "    while(True):\n",
        "        detuning_max = [shift, -delta_max + shift, delta_max + shift]\n",
        "        print(detuning_max)\n",
        "        np.savetxt(\"Detuning.dat\", detuning_max, delimiter=\"\\t\")\n",
        "        params = f'{num_ens} {N_tot} {theta_0} {phi_0} {coup_a_0} {gamma_a_0} {chi_a_0} {kappa_c_0} {t_max} {t_num}'\n",
        "        handle_max = f'k{num_ens}N{N_tot}det{delta_max}D{shift}_{theta_0}_{coup_a_0}_{kappa_c_0}_test5'\n",
        "        print(handle_max)\n",
        "        # Check if file already exists\n",
        "        if os.path.isfile(f\"Result_Sz_{handle_max}.dat\") == False:\n",
        "            !./file {params} {handle_max}\n",
        "        else:\n",
        "            print(\"File exits, skipping simulation\")\n",
        "        # !./file {params} {handle_max}\n",
        "        result = utils.read_results(handle_max)\n",
        "        cor1 = np.corrcoef(result[1][:,0],result[1][:,1])[0][1]\n",
        "        cor2 = np.corrcoef(result[1][:,0],result[1][:,2])[0][1]\n",
        "        \n",
        "        if np.abs(cor1-cor_cri) < tol and np.abs(cor2-cor_cri) < tol: # delta_max is the critical detuning for crit1\n",
        "            delta_crit.append(delta_max)\n",
        "            handle_list.append(handle_max)\n",
        "            det_dict[handle_max] = detuning_max\n",
        "            found1 = True\n",
        "            delta_cur = delta_max\n",
        "            print(f\"delta_crit1 has been found at boundary {delta_max}, {cor}\")\n",
        "            break\n",
        "        elif cor2 < cor_cri:\n",
        "            break\n",
        "        elif cor2 > cor_cri: # delta_max is smaller than critical detuning for crit1\n",
        "            delta_max += 100\n",
        "            print(f\"delta_max smaller than critical, increase by 100 to {delta_max}\")\n",
        "        # break (auto) delta_max is larger than critical detuning for crit 1\n",
        "    \n",
        "    # Start searching by binary\n",
        "    while((found1== False) and run<max_run and delta_max-delta_min>5):\n",
        "        run += 1\n",
        "        delta_mid = int((delta_max + delta_min)/2)\n",
        "        detuning_mid = [shift, -delta_mid + shift, delta_mid + shift]\n",
        "        np.savetxt(\"Detuning.dat\", detuning_mid, delimiter=\"\\t\")   \n",
        "        handle_mid = f'k{num_ens}N{N_tot}det{delta_mid}D{shift}_{theta_0}_{coup_a_0}_{kappa_c_0}_test3' # Should be test 5 instead\n",
        "        print(f\"************************* {N_tot} Run {run} Detuning {delta_mid} *************************\")\n",
        "        print(f\"Handle: {handle_mid}\")\n",
        "        if os.path.isfile(f\"Result_Sz_{handle_mid}.dat\") == False:\n",
        "            !./file {params} {handle_mid}\n",
        "        else:\n",
        "            print(\"File exits, skipping simulation\")\n",
        "        # !./file {params} {handle_mid}\n",
        "        result = utils.read_results(handle_mid)\n",
        "        cor1 = np.corrcoef(result[1][:,0],result[1][:,1])[0][1]\n",
        "        cor2 = np.corrcoef(result[1][:,0],result[1][:,2])[0][1]\n",
        "        if np.abs(cor1-cor_cri) < tol and np.abs(cor2-cor_cri) < tol:\n",
        "            delta_crit.append(delta_mid)\n",
        "            handle_list.append(handle_mid)\n",
        "            det_dict[handle_mid] = detuning_mid\n",
        "            found1 = True\n",
        "            delta_cur = delta_mid\n",
        "            print(f\"delta_crit1 has been found at run {run}: {delta_mid}, {cor1,cor2}\")\n",
        "            break\n",
        "        elif cor2 < cor_cri:\n",
        "            delta_max = delta_mid\n",
        "            print(f\"Detuning {delta_mid} too large, {cor1,cor2}, next round\")\n",
        "        elif cor2 > cor_cri:\n",
        "            delta_min = delta_mid\n",
        "            print(f\"Detuning {delta_mid} too small, {cor1,cor2}, next round\")\n",
        "    \n",
        "    if found1 == False:\n",
        "        delta_mid = int((delta_min + delta_max)/2)\n",
        "        delta_crit.append(delta_mid)\n",
        "        handle_list.append(handle_mid)\n",
        "        det_dict[handle_mid] = detuning_mid\n",
        "        found1 = True\n",
        "        delta_cur = delta_mid\n",
        "        print(f\"Unable to resolve within max_iter, settle at {delta_mid} with cor ~{cor1,cor2}\")"
      ],
      "metadata": {
        "id": "5b2QANbmUzoG"
      },
      "execution_count": null,
      "outputs": []
    },
    {
      "cell_type": "code",
      "source": [
        "\n",
        "#from sklearn.metrics import r2_score\n",
        "from scipy.optimize import curve_fit\n",
        "\n",
        "X = shifts\n",
        "Y = delta_crit\n",
        "\n",
        "def exp_func(X, a, b, c):\n",
        "    return a * np.exp(-b*X) + c\n",
        "\n",
        "def power_func(X, a, b) :\n",
        "    return a * (X) ** (-b)\n",
        "\n",
        "def sigmoid_func(X, a, b, c, d):\n",
        "    return a / (c + np.exp(b * X)) + d\n",
        "\n",
        "def log_func(X, a, b):\n",
        "    return a* np.log(X) + b\n",
        "\n",
        "funcs = [exp_func, power_func, sigmoid_func, log_func]\n",
        "coef_list = []\n",
        "# for i in range(len(funcs)):\n",
        "#   print(f\"Run{i}\")\n",
        "#   coef, _ = curve_fit(funcs[i], X, Y)\n",
        "#   coef_list.append(coef)\n",
        "#   print(f\"Optimal param: {coef}\")\n",
        "\n",
        "popt_exp, _ = curve_fit(exp_func, X, Y, (500, 1e-3, -200))\n",
        "print(popt_exp)\n",
        "\n",
        "def predict(func, X, coe):\n",
        "  return func(X, *coe)\n",
        "\n"
      ],
      "metadata": {
        "id": "sWlY1GdLhYDr"
      },
      "execution_count": null,
      "outputs": []
    },
    {
      "cell_type": "code",
      "source": [
        "plt.scatter(shifts, delta_crit, label=\"Data\")\n",
        "plt.plot(shifts, predict(funcs[0], shifts, popt_exp))\n",
        "print(shifts, delta_crit)"
      ],
      "metadata": {
        "id": "lKR6UKDGhT-w"
      },
      "execution_count": null,
      "outputs": []
    },
    {
      "cell_type": "code",
      "source": [
        "save_fig = True\n",
        "plt.figure(figsize=(8,6))\n",
        "plt.scatter(shifts, delta_crit, label=\"Data\")\n",
        "# plt.plot(N_tot_range, predict_Y_log(N_tot_range))\n",
        "# plt.plot(N_tot_range, predict_Y_quad(N_tot_range))\n",
        "plt.plot(shifts, predict(funcs[0], shifts, popt_exp), label=\"Best fit\", color=\"#ff7f0e\")\n",
        "plt.ylabel(r\"$\\delta^*$(kHz)\")\n",
        "plt.xlabel(\"$\\Delta$ (kHz)\")\n",
        "plt.legend()\n",
        "if save_fig:\n",
        "  os.chdir(\"/content/gdrive/MyDrive/FYP/Cuda_C_spin_sync/CUDA_code/plots\")\n",
        "  plt.savefig(f\"test5_fitcurve.pdf\", dpi=300, pad_inches=1)\n",
        "  os.chdir(\"/content/gdrive/MyDrive/FYP/Cuda_C_spin_sync/CUDA_code\")\n",
        "# delta_crit\n",
        "# plt.scatter(N_tot_range, delta_crit)\n",
        "# plt.plot(N_tot_range, predict_Y(N_tot_range))"
      ],
      "metadata": {
        "id": "EB6W-y9lmw_w"
      },
      "execution_count": null,
      "outputs": []
    },
    {
      "cell_type": "markdown",
      "source": [
        "## Special tests"
      ],
      "metadata": {
        "id": "ipuwN71gjP9P"
      }
    },
    {
      "cell_type": "code",
      "source": [
        "delta_crit = [239,254,276,305,328,\n",
        "                360,402,454,519,619,\n",
        "                179,156,136,119,111,\n",
        "                104,104,91,91,91, \n",
        "                325, 325, 325, 325, 243, \n",
        "                243, 243, 243, 243, 182,\n",
        "                507, 531, 552, 326, 326,\n",
        "                326, 244, 183, 183, 183]\n",
        "shifts = np.concatenate((np.linspace(20,800,20).astype(int), \n",
        "                         np.linspace(380,410,10).astype(int),\n",
        "                         np.linspace(340,430,10).astype(int)))\n",
        "sort_ind = np.argsort(shifts)\n",
        "shifts_sort = shifts[sort_ind]\n",
        "delta_sort = np.asarray(delta_crit)[sort_ind]\n",
        "print(shifts_sort.reshape(8,5))\n",
        "print(delta_sort.reshape(8,5))"
      ],
      "metadata": {
        "id": "hs_TzsG3CIbx"
      },
      "execution_count": null,
      "outputs": []
    },
    {
      "cell_type": "code",
      "source": [
        "# Closer look at 300-400\n",
        "inv_ind = [7,9,17,20,29,34] # Index of cases to investigate\n",
        "N_tot = 300000\n",
        "num_ens = 3\n",
        "theta_0 = 1\n",
        "np.savetxt(f\"Sz_init.dat\", [theta_0 for i in range(3)], delimiter=\"\\t\")\n",
        "phi_0 = 0.0\n",
        "coup_a_0 = 1.0\n",
        "gamma_a_0 = 0.0\n",
        "chi_a_0 = 0.0\n",
        "kappa_c_0 = 100.0\n",
        "t_max = 0.2\n",
        "t_num = 60000\n",
        "# det_dict = {}\n",
        "# handle_list = []\n",
        "cor_cri = 0.99\n",
        "tol = 1e-3 # Tolerance 0.001\n",
        "# delta_crit = [] # Storing critical detunings satisfying crit\n",
        "\n",
        "det_dict = {}\n",
        "handle_list = []\n",
        "\n",
        "for i in inv_ind:\n",
        "    shift = shifts_sort[i]\n",
        "    delta = delta_sort[i]\n",
        "    detuning = [shift, -delta + shift, delta + shift]\n",
        "    np.savetxt(\"Detuning.dat\", detuning, delimiter=\"\\t\") \n",
        "    print(np.loadtxt( 'Detuning.dat' ))\n",
        "    params = f'{num_ens} {N_tot} {theta_0} {phi_0} {coup_a_0} {gamma_a_0} {chi_a_0} {kappa_c_0} {t_max} {t_num}'  \n",
        "    handle = f'k{num_ens}N{N_tot}det{delta}D{shift}_{theta_0}_{coup_a_0}_{kappa_c_0}_test5' # Should be test 5 instead\n",
        "    handle_list.append(handle)\n",
        "    det_dict[handle] = detuning\n",
        "    print(f\"************************* D{shift} Detuning {delta} *************************\")\n",
        "    print(f\"Handle: {handle}\")\n",
        "    if os.path.isfile(f\"Result_Sz_{handle}.dat\") == False:\n",
        "        !./file {params} {handle}\n",
        "    else:\n",
        "        print(\"File exits, skipping simulation\")\n",
        "    # !./file {params} {handle}"
      ],
      "metadata": {
        "id": "qby7bKMRChfA"
      },
      "execution_count": null,
      "outputs": []
    },
    {
      "cell_type": "code",
      "source": [
        "#############################################################\n",
        "# Read outputs\n",
        "#############################################################\n",
        "n_tests = len(handle_list) # Number of tests\n",
        "results = [utils.read_results(handle) for handle in handle_list]\n",
        "time_list = [results[i][0] for i in range(n_tests)]\n",
        "sz_list = [results[i][1] for i in range(n_tests)] # Population inversion\n",
        "coherence_list = [results[i][2] for i in range(n_tests)] # Coherence with class 0\n",
        "photon_list = [results[i][3] for i in range(n_tests)] # Intracavity photon number"
      ],
      "metadata": {
        "id": "eOaJ1CMzDklC"
      },
      "execution_count": null,
      "outputs": []
    },
    {
      "cell_type": "code",
      "source": [
        "plot_save = True\n",
        "fig, ax = plt.subplots(2,3,sharex=True, sharey=True, figsize=(15,8), gridspec_kw = {'wspace':0.12, 'hspace':0.08})\n",
        "\n",
        "ax[0][0].set_ylabel(r\"$\\langle \\sigma_z\\rangle$\")\n",
        "ax[1][0].set_ylabel(r\"$\\langle \\sigma_z\\rangle$\")\n",
        "ax[1][0].set_xlabel(r\"Time ($\\mu$s)\")\n",
        "ax[1][1].set_xlabel(r\"Time ($\\mu$s)\")\n",
        "ax[1][2].set_xlabel(r\"Time ($\\mu$s)\")\n",
        "# ax[0][1].ticklabel_format(axis='y', style='sci', scilimits=(4,4))\n",
        "# ax[1][1].ticklabel_format(axis='y', style='sci', scilimits=(4,4))\n",
        "\n",
        "\n",
        "t_ind = utils.cut_time(time_list[0], 0.08)\n",
        "index = 0\n",
        "for i in range(2):\n",
        "    for j in range(3):\n",
        "        shift = shifts_sort[inv_ind[index]]\n",
        "        delt = delta_crit[inv_ind[index]]\n",
        "        labels = [f\"$\\delta_0=${shift}\", f\"$\\delta_-=${shift-delt}\",f\"$\\delta_+=${shift+delt}\"]  \n",
        "        ax[i][j].text(0,-0.8,f\"$\\Delta=${shift}\\n$\\delta=${delt}\")\n",
        "        for k in range (3):\n",
        "            ax[i][j].plot(time_list[index][:t_ind], sz_list[index][:,k][:t_ind], label=labels[k])\n",
        "        ax[i][j].legend()   \n",
        "        index += 1\n",
        "ax[0][1].set_title(\"Population inversion\")\n",
        "if plot_save:\n",
        "    fig.savefig(f\"test5_trend.pdf\", dpi=300, pad_inches=0.2)\n",
        "# i = 2\n",
        "# shift = shifts[inv_ind[i]]\n",
        "# delt = delta_crit[inv_ind[i]]\n",
        "# plt.plot(time_list[i], sz_list[i][:,0], label=f\"{shift}\")\n",
        "# plt.plot(time_list[i], sz_list[i][:,1], label=f\"{shift-delt}\")\n",
        "# plt.plot(time_list[i], sz_list[i][:,2], label=f\"{shift+delt}\")\n",
        "# plt.legend()\n",
        "# plt.title(f\"Shift {shift} critical detuning {delt}\")"
      ],
      "metadata": {
        "id": "wSMmgPgXECP6"
      },
      "execution_count": null,
      "outputs": []
    },
    {
      "cell_type": "code",
      "source": [],
      "metadata": {
        "id": "1G1SYeMxEEgn"
      },
      "execution_count": null,
      "outputs": []
    }
  ]
}