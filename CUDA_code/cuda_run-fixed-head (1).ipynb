{
 "cells": [
  {
   "cell_type": "code",
   "execution_count": null,
   "metadata": {},
   "outputs": [],
   "source": [
    "#############################################################\n",
    "# Compile `main.cu` to `file.exe`\n",
    "# Commented out because we don't want to run it all the time\n",
    "#############################################################\n",
    "!nvcc -w functions.cu main.cu -o file"
   ]
  },
  {
   "cell_type": "code",
   "execution_count": 1,
   "metadata": {},
   "outputs": [],
   "source": [
    "#############################################################\n",
    "# Load python dependencies\n",
    "# If package cannot be resolved from pylance, reload the interpreter\n",
    "#############################################################\n",
    "import numpy as np\n",
    "import matplotlib.pyplot as plt\n",
    "import utils"
   ]
  },
  {
   "attachments": {},
   "cell_type": "markdown",
   "metadata": {},
   "source": [
    "# Generate detuning\n",
    "todo: distribution functions\n",
    "read into detuning.dat"
   ]
  },
  {
   "cell_type": "code",
   "execution_count": null,
   "metadata": {},
   "outputs": [],
   "source": [
    "#############################################################\n",
    "# Generate and write detuning data to file\n",
    "#############################################################\n",
    "# Write 1D numpy array to file\n",
    "detuning_values_1d = utils.gen_same_pop(2, 1000, None)\n",
    "print(\"Detuning data:\", detuning_values_1d)\n",
    "np.savetxt(\"Detuning.dat\", detuning_values_1d, delimiter=\"\\t\")\n",
    "\n",
    "# Example: write 2D numpy array to file\n",
    "# values_2d = np.array([\n",
    "#     [10.0, 20.0, 40.0],\n",
    "#     [10.0, 20.0, 50.0],\n",
    "#     [10.0, 20.0, 60.0]\n",
    "# ])\n",
    "# np.savetxt(\"values_2d.dat\", values_2d, delimiter=\"\\t\")"
   ]
  },
  {
   "attachments": {},
   "cell_type": "markdown",
   "metadata": {},
   "source": [
    "# Run simulation\n",
    "\n",
    "To run a single system, use terminal: \n",
    "\n",
    "         k  n_tot theta,phi g gamma chi kap t_end t_num handle\n",
    "\n",
    "file.exe 20 100000 0.5 0.0 1.6 0.0 0.0 160 0.5 600000 k20N5_0.5_0_kappa160\n",
    "\n",
    "## Suggested file naming convention:\n",
    "k{num_ens}N{order of magnitude of n_total}_{theta_phi}_{other params}\n",
    "\n",
    "E.g., k5N5_1_0_kappa160\n",
    "\n",
    "The below block of code is useful for running multiple jobs"
   ]
  },
  {
   "cell_type": "code",
   "execution_count": 2,
   "metadata": {},
   "outputs": [
    {
     "name": "stdout",
     "output_type": "stream",
     "text": [
      "num_ens:\t\t\t3\n",
      "N_total:\t\t\t500000\n",
      "theta_0:\t\t\t1\n",
      "phi_0:\t\t\t\t0.0\n",
      "coup_a_0:\t\t\t1.0\n",
      "gamma_a_0 (atom decay):\t\t0.0\n",
      "chi_a_0 (atom dephase):\t\t0.0\n",
      "kappa_c_0 (cavity decay):\t100.0\n",
      "t_max:\t\t\t\t0.2\n",
      "t_num:\t\t\t\t60000\n",
      "\n",
      "\n"
     ]
    },
    {
     "name": "stderr",
     "output_type": "stream",
     "text": [
      "100% [\u001b[32m██████████\u001b[0m ]"
     ]
    },
    {
     "name": "stdout",
     "output_type": "stream",
     "text": [
      "Program takes about 26.47 s\n",
      "-1\n"
     ]
    },
    {
     "name": "stderr",
     "output_type": "stream",
     "text": [
      "\n"
     ]
    }
   ],
   "source": [
    "#############################################################\n",
    "# Test 3: for initial cases, \"single use\", tested utils.crit1\n",
    "#############################################################\n",
    "N_tot = 500000\n",
    "num_ens = 3\n",
    "theta_0 = 1\n",
    "phi_0 = 0.0\n",
    "coup_a_0 = 1.0\n",
    "gamma_a_0 = 0.0\n",
    "chi_a_0 = 0.0\n",
    "kappa_c_0 = 100.0\n",
    "t_max = 0.2\n",
    "t_num = 60000\n",
    "run = 0\n",
    "det_dict = {}\n",
    "handle_list = []\n",
    "delta_min = 0\n",
    "delta_crit = delta_min\n",
    "delta_max = 1000\n",
    "detuning_max = [0, -delta_max, delta_max]\n",
    "\n",
    "# Run\n",
    "np.savetxt(\"Detuning.dat\", detuning_max, delimiter=\"\\t\")\n",
    "params = f'{num_ens} {N_tot} {theta_0} {phi_0} {coup_a_0} {gamma_a_0} {chi_a_0} {kappa_c_0} {t_max} {t_num}'\n",
    "handle_max = f'k{num_ens}N{N_tot}det{delta_max}_{theta_0}_{coup_a_0}_{kappa_c_0}_test3_0'\n",
    "handle_list.append(handle_max)\n",
    "det_dict[handle_max] = detuning_max\n",
    "utils.runcmd(f'file.exe {params} {handle_max}')\n",
    "result = utils.read_results(handle_max)\n",
    "print(utils.crit_1(handle_max))\n",
    "plt.plot(result[0], result[1])\n",
    "utils.findTd(result[1][:,0], result[0])\n"
   ]
  },
  {
   "cell_type": "code",
   "execution_count": null,
   "metadata": {},
   "outputs": [],
   "source": [
    "#############################################################\n",
    "# Test 3: Find critical detuning\n",
    "# Criterion 1: Td <1.05 Td(0)\n",
    "# Criterion 2: sz_delta < -0.8\n",
    "# System {-d, 0, d}\n",
    "#############################################################\n",
    "N_tot_range = [500000, 100000, 50000, 10000] # Start with the largest ensemble\n",
    "num_ens = 3\n",
    "theta_0 = 1\n",
    "phi_0 = 0.0\n",
    "coup_a_0 = 1.0\n",
    "gamma_a_0 = 0.0\n",
    "chi_a_0 = 0.0\n",
    "kappa_c_0 = 100.0\n",
    "t_max = 0.2\n",
    "t_num = 60000\n",
    "det_dict = {}\n",
    "handle_list = []\n",
    "delta_min = 0\n",
    "delta_max = 1000\n",
    "delta_crit = delta_max # Temporary variable\n",
    "delta_crit_1 = [] # Storing critical detunings satisfying crit1\n",
    "delta_crit_2 = []\n",
    "\n",
    "for N_tot in N_tot_range:\n",
    "    # Run initial test to see if the current range is ok\n",
    "    crit1 = -1\n",
    "    crit2 = 0 # Criterion 2 default false\n",
    "    found1 = False\n",
    "    found2 = False\n",
    "    run = 0\n",
    "    max_run = 10\n",
    "    delta_max = delta_crit # Smaller ensembles have smaller critical detuning\n",
    "    \n",
    "    # Initial check: crit1 fails at delta_max\n",
    "    while(crit1 !=1):\n",
    "        detuning_max = [0, -delta_max, delta_max]\n",
    "        np.savetxt(\"Detuning.dat\", detuning_max, delimiter=\"\\t\")\n",
    "        params = f'{num_ens} {N_tot} {theta_0} {phi_0} {coup_a_0} {gamma_a_0} {chi_a_0} {kappa_c_0} {t_max} {t_num}'\n",
    "        handle_max = f'k{num_ens}N{N_tot}det{delta_max}_{theta_0}_{coup_a_0}_{kappa_c_0}_test3_{run}'\n",
    "        utils.runcmd(f'file.exe {params} {handle_max}')\n",
    "        crit1 = utils.crit_1(handle_max)\n",
    "        if crit1 == 0: # delta_max is the critical detuning for crit1\n",
    "            delta_crit_1.append(delta_max)\n",
    "            found1 = True\n",
    "            print(f\"delta_crit1 has been found at boundary {delta_max}\")\n",
    "        elif crit1 == 1: # delta_max is smaller than critical detuning for crit1\n",
    "            delta_max += 100\n",
    "            print(f\"delta_max smaller than critical, increase by 100 to {delta_max}\")\n",
    "        # break (auto) delta_max is larger than critical detuning for crit 1\n",
    "    \n",
    "    # Start searching by binary\n",
    "    while(run<max_run):\n",
    "        run += 1\n",
    "        delta_mid = delta_max/2\n",
    "        detuning_mid = [0, -delta_mid, delta_mid]\n",
    "        np.savetxt(\"Detuning.dat\", detuning_max, delimiter=\"\\t\")   \n",
    "        handle_mid = f'k{num_ens}N{N_tot}det{delta_mid}_{theta_0}_{coup_a_0}_{kappa_c_0}_test3_{run}' # Add extra notes as needed\n",
    "        handle_list.append(handle_mid)\n",
    "        det_dict[handle_mid] = detuning_mid\n",
    "        print(f\"************************* {N_tot} Run {run} *************************\")\n",
    "        print(f\"Handle: {handle_mid}\")\n",
    "        utils.runcmd(f'file.exe {params} {handle_mid}')\n",
    "        crit1 = utils.crit_1(handle_mid)\n",
    "        if crit1 == 0:\n",
    "            delta_crit_1.append(delta_mid)\n",
    "            found1 = True\n",
    "            print(f\"delta_crit1 has been found at run {run}: {delta_mid}\")\n",
    "            break\n",
    "    "
   ]
  },
  {
   "attachments": {},
   "cell_type": "markdown",
   "metadata": {},
   "source": [
    "# Analyze & Plot\n",
    "todo:  import util functions return predict Td\n",
    "write block to plot with Td and found Td"
   ]
  },
  {
   "cell_type": "code",
   "execution_count": null,
   "metadata": {},
   "outputs": [],
   "source": [
    "#############################################################\n",
    "# Read in the results file\n",
    "# Returns: \n",
    "#         [0]: time steps\n",
    "#         [1]: sz\n",
    "#         [2]: coherence\n",
    "#         [3]: photons\n",
    "#############################################################\n",
    "results = []\n",
    "detunings = []\n",
    "for i in range(np.size(handle_list)):\n",
    "    results.append(utils.read_results(handle_list[i])) # Input: file handle\n",
    "    detunings.append(det_dict[handle_list[i]])\n",
    "# results = utils.read_results(handle_list[0]) # Input: file handle\n",
    "print(detunings)"
   ]
  },
  {
   "cell_type": "code",
   "execution_count": null,
   "metadata": {},
   "outputs": [],
   "source": [
    "#############################################################\n",
    "# Plots intracavity field\n",
    "#############################################################\n",
    "for i in [0,6,7]:\n",
    "    end_ind = utils.cut_time(results[0][0], -1)\n",
    "    print(end_ind)\n",
    "    plt.plot(results[i][0], results[i][3], label=[int(k) for k in detunings[i]])\n",
    "plt.title(\"Intracavity photon\", fontsize=12)\n",
    "plt.xlabel(r\"Time ($\\mu$s)\", fontsize=12)\n",
    "plt.ylabel(r\"$\\langle a^\\dagger a\\rangle$\", fontsize=12)\n",
    "plt.legend()"
   ]
  },
  {
   "cell_type": "code",
   "execution_count": null,
   "metadata": {},
   "outputs": [],
   "source": [
    "# More code on diff photons\n",
    "ada_03 = (results[3][3]-results[1][3])/results[1][3]*100\n",
    "ada_13 = (results[5][3]-results[4][3])/results[4][3]*100\n",
    "ada_23 = (results[7][3]-results[6][3])/results[6][3]*100\n",
    "plt.plot(results[0][0], ada_13, label=r\"[0,$\\delta/3$, $\\delta$]-[0,$\\delta/2$]\")\n",
    "plt.plot(results[0][0], ada_03, label=r\"[0,$\\delta/2$, $\\delta$]-[0,$\\delta/3$]\")\n",
    "plt.plot(results[0][0], ada_23, label=r\"[0,$2\\delta/3$, $\\delta$]-[0,$2\\delta/3$]\")\n",
    "plt.title(\"Intracavity photon difference\", fontsize=12)\n",
    "plt.xlabel(r\"Time ($\\mu$s)\", fontsize=12)\n",
    "plt.ylabel(r\"$\\Delta\\langle a^\\dagger a\\rangle (\\%)$\", fontsize=12)\n",
    "plt.legend()"
   ]
  },
  {
   "cell_type": "code",
   "execution_count": null,
   "metadata": {},
   "outputs": [],
   "source": [
    "#############################################################\n",
    "# Line plots for inversion and coherence\n",
    "#############################################################\n",
    "for i in [0,4,5]:\n",
    "    if len(detunings[i])<2:\n",
    "        plt.plot(results[i][0], results[i][1], label=int(detunings[i]))\n",
    "    else:\n",
    "        plt.plot(results[i][0], results[i][1][:,0], label=[int(k) for k in detunings[i]])\n",
    "\n",
    "# Td = utils.findTd(results[0][1], results[0][0])\n",
    "# print(Td)\n",
    "plt.title(\"Atomic inversion (1st class)\", fontsize=12)\n",
    "plt.xlabel(r\"Time ($\\mu$s)\", fontsize=12)\n",
    "plt.ylabel(r\"$\\langle \\sigma_Z \\rangle$\", fontsize=12)\n",
    "plt.legend()"
   ]
  },
  {
   "cell_type": "code",
   "execution_count": null,
   "metadata": {},
   "outputs": [],
   "source": [
    "# The main emission part\n",
    "sz_03 = results[0][1][:,0]\n",
    "sz_13 = results[4][1][:,0]\n",
    "sz_23 = results[5][1][:,0]\n",
    "plt.plot(results[0][0], sz_03, label=r\"[0,$\\delta$]\")\n",
    "plt.plot(results[0][0], sz_13, label=r\"[0,$\\delta/3$]\")\n",
    "plt.plot(results[0][0], sz_23, label=r\"[0,$\\delta/3$, $\\delta$]\")\n",
    "\n",
    "# Td = utils.findTd(results[0][1], results[0][0])\n",
    "# print(Td)\n",
    "plt.title(\"Atomic inversion (1st class)\", fontsize=12)\n",
    "plt.xlabel(r\"Time ($\\mu$s)\", fontsize=12)\n",
    "plt.ylabel(r\"$\\langle \\sigma_Z \\rangle$\", fontsize=12)\n",
    "plt.legend()"
   ]
  },
  {
   "cell_type": "code",
   "execution_count": null,
   "metadata": {},
   "outputs": [],
   "source": [
    "sz_03 = (results[3][1][:,0]-results[1][1][:,0])\n",
    "sz_13 = (results[5][1][:,0]-results[4][1][:,0])\n",
    "sz_23 = (results[7][1][:,0]-results[6][1][:,0])\n",
    "plt.plot(results[0][0], sz_13, label=r\"[0,$\\delta/3$, $\\delta$]-[0,$\\delta/3$]\")\n",
    "plt.plot(results[0][0], sz_03, label=r\"[0,$\\delta/2$, $\\delta$]-[0,$\\delta/2$]\")\n",
    "plt.plot(results[0][0], sz_23, label=r\"[0,$2\\delta/3$, $\\delta$]-[0,$2\\delta/3$]\")\n",
    "\n",
    "# Td = utils.findTd(results[0][1], results[0][0])\n",
    "# print(Td)\n",
    "plt.title(\"Atomic inversion (1st class)\", fontsize=12)\n",
    "plt.xlabel(r\"Time ($\\mu$s)\", fontsize=12)\n",
    "plt.ylabel(r\"$\\Delta\\langle \\sigma_Z \\rangle$\", fontsize=12)\n",
    "plt.legend()"
   ]
  },
  {
   "cell_type": "code",
   "execution_count": null,
   "metadata": {},
   "outputs": [],
   "source": [
    "#############################################################\n",
    "# Line plots for coherence\n",
    "#############################################################\n",
    "for i in [5,3,7]:\n",
    "    if len(detunings[i])<3:\n",
    "        plt.plot(results[i][0], results[i][2], label=int(detunings[i]))\n",
    "    else:\n",
    "        plt.plot(results[i][0], results[i][2][:,2], label=[int(k) for k in detunings[i]])\n",
    "\n",
    "plt.title(\"Coherence\", fontsize=12)\n",
    "plt.xlabel(r\"Time ($\\mu$s)\", fontsize=12)\n",
    "plt.ylabel(r\"$\\langle \\sigma_+^k\\sigma_-^0 \\rangle$\", fontsize=12)\n",
    "plt.legend()"
   ]
  },
  {
   "cell_type": "code",
   "execution_count": null,
   "metadata": {},
   "outputs": [],
   "source": [
    "utils.plot_heat(results[0],detuning_values_1d[:20], np.rot90(results[1]), -1.0,1.0, \n",
    "                \"Atom inversion $\\langle\\sigma_Z\\\\rangle$\", \"Time ($\\mu$s)\", \"Detuning (kHz)\")"
   ]
  },
  {
   "cell_type": "code",
   "execution_count": null,
   "metadata": {},
   "outputs": [],
   "source": [
    "utils.plot_heat(results[0],detuning_values_1d, np.rot90(results[2]), 0,0.25, \n",
    "                \"Coherences\", \"Time ($\\mu$s)\", \"$\\langle\\sigma_+\\sigma_-\\\\rangle$\")"
   ]
  },
  {
   "cell_type": "code",
   "execution_count": null,
   "metadata": {},
   "outputs": [],
   "source": [
    "\n",
    "a = np.rot90(np.asarray([[0,1,2],[3,4,5]]))\n",
    "print(a)\n",
    "utils.plot_heat([0,1], [3,2,1], a, 0,6, \"na\", \"na\", \"na\")"
   ]
  },
  {
   "cell_type": "code",
   "execution_count": null,
   "metadata": {},
   "outputs": [],
   "source": []
  }
 ],
 "metadata": {
  "kernelspec": {
   "display_name": "Python 3",
   "language": "python",
   "name": "python3"
  },
  "language_info": {
   "codemirror_mode": {
    "name": "ipython",
    "version": 3
   },
   "file_extension": ".py",
   "mimetype": "text/x-python",
   "name": "python",
   "nbconvert_exporter": "python",
   "pygments_lexer": "ipython3",
   "version": "3.9.16"
  },
  "orig_nbformat": 4,
  "vscode": {
   "interpreter": {
    "hash": "4b94adeba7b713340ea8cbbda1aef534457fb8d68974eb0981e7dc62d87dea46"
   }
  }
 },
 "nbformat": 4,
 "nbformat_minor": 2
}
