{
 "cells": [
  {
   "cell_type": "code",
   "execution_count": 16,
   "metadata": {},
   "outputs": [
    {
     "name": "stdout",
     "output_type": "stream",
     "text": [
      "functions.cu\n",
      "tmpxft_00000e50_00000000-10_functions.cudafe1.cpp\n",
      "main_sz.cu\n",
      "tmpxft_00000e50_00000000-14_main_sz.cudafe1.cpp\n",
      "   Creating library file.lib and object file.exp\n"
     ]
    }
   ],
   "source": [
    "#############################################################\n",
    "# Compile `main.cu` to `file.exe`\n",
    "# Commented out because we don't want to run it all the time\n",
    "#############################################################\n",
    "# !nvcc -w functions.cu main.cu -o file\n",
    "!nvcc -w functions.cu main_sz.cu -o file"
   ]
  },
  {
   "cell_type": "code",
   "execution_count": 1,
   "metadata": {},
   "outputs": [],
   "source": [
    "#############################################################\n",
    "# Load python dependencies\n",
    "# If package cannot be resolved from pylance, reload the interpreter\n",
    "#############################################################\n",
    "import numpy as np\n",
    "import matplotlib.pyplot as plt\n",
    "import utils\n",
    "import os.path\n",
    "import scipy.stats as stats\n",
    "from matplotlib import rc"
   ]
  },
  {
   "cell_type": "code",
   "execution_count": 2,
   "metadata": {},
   "outputs": [],
   "source": [
    "#############################################################\n",
    "# Figure settings\n",
    "#############################################################\n",
    "plt.rcParams.update({'font.size': 13.2})\n",
    "plt.rcParams[\"font.family\"] = \"Arial\"\n",
    "# Format\n",
    "# fig = plt.figure()\n",
    "# ax = fig.subplots(1, 1)\n",
    "# plt.figure(figsize=(6.5,4.2))\n",
    "# ax.set_title(\"Total atomic decay rate\")\n",
    "# ax.set_ylabel(r\"dW/dt\")\n",
    "# ax.set_xlabel(r\"Time ($\\mu$s)\")\n",
    "# labels = [r\"[0,$\\delta$]\", r\"[0,$\\delta/2$]\", r\"[0,$\\delta/2$, $\\delta$]\"]\n",
    "# ax.plot(...)\n",
    "# ax.legend()\n",
    "# fig.savefig(f\"{}.pdf\", dpi=300, pad_inches=0.2)"
   ]
  },
  {
   "attachments": {},
   "cell_type": "markdown",
   "metadata": {},
   "source": [
    "# Run simulation\n",
    "\n",
    "To run a single system, use terminal: \n",
    "\n",
    "         k  n_tot theta,phi g gamma chi kap t_end t_num handle\n",
    "\n",
    "file.exe 20 100000 0.5 0.0 1.6 0.0 0.0 160 0.5 600000 k20N5_0.5_0_kappa160\n",
    "\n",
    "## Suggested file naming convention:\n",
    "k{num_ens}N{order of magnitude of n_total}_{theta_phi}_{other params}\n",
    "\n",
    "E.g., k5N5_1_0_kappa160\n",
    "\n",
    "The below block of code is useful for running multiple jobs"
   ]
  },
  {
   "attachments": {},
   "cell_type": "markdown",
   "metadata": {},
   "source": [
    "# Sample input"
   ]
  },
  {
   "cell_type": "code",
   "execution_count": 17,
   "metadata": {},
   "outputs": [
    {
     "name": "stdout",
     "output_type": "stream",
     "text": [
      "************************* Run 1 *************************\n",
      "Handle: k1N50000det500_1.0_1.0_100.0_1 \n",
      "num_ens:\t\t\t1\n",
      "N_total:\t\t\t50000\n",
      "theta_0:\t\t\t1.0\n",
      "phi_0:\t\t\t\t0.0\n",
      "coup_a_0:\t\t\t1.0\n",
      "gamma_a_0 (atom decay):\t\t0.0\n",
      "chi_a_0 (atom dephase):\t\t0.0\n",
      "kappa_c_0 (cavity decay):\t100.0\n",
      "t_max:\t\t\t\t0.2\n",
      "t_num:\t\t\t\t40000\n",
      "\n",
      "\n",
      "`theta` values:\n",
      "1.570796\n",
      "\n"
     ]
    },
    {
     "name": "stderr",
     "output_type": "stream",
     "text": [
      "100% [\u001b[32m██████████\u001b[0m ]"
     ]
    },
    {
     "name": "stdout",
     "output_type": "stream",
     "text": [
      "Program takes about 17.78 s\n",
      "\n",
      "\n"
     ]
    },
    {
     "name": "stderr",
     "output_type": "stream",
     "text": [
      "\n"
     ]
    }
   ],
   "source": [
    "#############################################################\n",
    "# Sample input\n",
    "#############################################################\n",
    "detunings = [[50]]\n",
    "thetas = [[0.5]] # Value between 0 and 1 for ground and excited\n",
    "# Generate a list of detuning profile with k = 10,20,30,40,50\n",
    "N_tot = 50000\n",
    "theta_0 = 1.0\n",
    "phi_0 = 0.0\n",
    "coup_a_0 = 1.0\n",
    "gamma_a_0 = 0.0\n",
    "chi_a_0 = 0.0\n",
    "kappa_c_0 = 100.0\n",
    "t_max = 0.2\n",
    "t_num = 40000\n",
    "det_dict = {}\n",
    "handle_list = []\n",
    "\n",
    "for i in range(len(detunings)):\n",
    "    np.savetxt(f\"Detuning.dat\", detunings[i], delimiter=\"\\t\")\n",
    "    np.savetxt(f\"Sz_init.dat\", thetas[i], delimiter=\"\\t\")\n",
    "    num_ens = len(detunings[i])\n",
    "    params = str((f'{num_ens} {N_tot} {theta_0} {phi_0} {coup_a_0} ')\n",
    "                +(f'{gamma_a_0} {chi_a_0} {kappa_c_0} {t_max} {t_num}'))\n",
    "    handle = f'k{num_ens}N{N_tot}det{500}_{theta_0}_{coup_a_0}_{kappa_c_0}_{i+1}'\n",
    "    det_dict[handle] = detunings[i]\n",
    "    handle_list.append(handle)\n",
    "    print(f\"************************* Run {i+1} *************************\")\n",
    "    print(f\"Handle: {handle} \")\n",
    "    # if os.path.isfile(f\"Result_Sz_{handle}.dat\") == False:\n",
    "    #     utils.runcmd(f'file.exe {params} {handle}')\n",
    "    # else:\n",
    "    #     print(\"File exits, skipping simulation\")\n",
    "    # Uncomment below if you wish to overwrite files\n",
    "    utils.runcmd(f'file.exe {params} {handle}')\n",
    "    print(\"\\n\")"
   ]
  },
  {
   "cell_type": "code",
   "execution_count": 18,
   "metadata": {},
   "outputs": [],
   "source": [
    "#############################################################\n",
    "# Read outputs\n",
    "#############################################################\n",
    "n_tests = len(handle_list) # Number of tests\n",
    "results = [utils.read_results(handle) for handle in handle_list]\n",
    "time_list = [results[i][0] for i in range(n_tests)]\n",
    "sz_list = [results[i][1] for i in range(n_tests)] # Population inversion\n",
    "coherence_list = [results[i][2] for i in range(n_tests)] # Coherence with class 0\n",
    "photon_list = [results[i][3] for i in range(n_tests)] # Intracavity photon number"
   ]
  },
  {
   "cell_type": "code",
   "execution_count": 19,
   "metadata": {},
   "outputs": [
    {
     "data": {
      "text/plain": [
       "[<matplotlib.lines.Line2D at 0x19d94723a90>]"
      ]
     },
     "execution_count": 19,
     "metadata": {},
     "output_type": "execute_result"
    },
    {
     "data": {
      "image/png": "[encoded data removed]",
      "text/plain": [
       "<Figure size 640x480 with 1 Axes>"
      ]
     },
     "metadata": {},
     "output_type": "display_data"
    }
   ],
   "source": [
    "plt.plot(time_list[0], sz_list[0])"
   ]
  },
  {
   "attachments": {},
   "cell_type": "markdown",
   "metadata": {},
   "source": [
    "# Test 1 Large detuning"
   ]
  },
  {
   "cell_type": "code",
   "execution_count": 4,
   "metadata": {},
   "outputs": [
    {
     "name": "stdout",
     "output_type": "stream",
     "text": [
      "[0, 0]\n",
      "k2N10000det0_1_1.0_100.0_1\n",
      "[0, 100]\n",
      "k2N10000det100_1_1.0_100.0_2\n",
      "[0, 1000]\n",
      "k2N10000det1000_1_1.0_100.0_3\n",
      "[0, 5000]\n",
      "k2N10000det5000_1_1.0_100.0_4\n",
      "************************* Run 5 *************************\n",
      "Handle: k1N5000det0_1_1.0_100.0_5 \n",
      "\n",
      "\n",
      "['k2N10000det0_1_1.0_100.0_1', 'k2N10000det100_1_1.0_100.0_2', 'k2N10000det1000_1_1.0_100.0_3', 'k2N10000det5000_1_1.0_100.0_4', 'k1N5000det0_1_1.0_100.0_5']\n"
     ]
    }
   ],
   "source": [
    "#############################################################\n",
    "# Test 1: effect of inhomogeneous broadening\n",
    "#############################################################\n",
    "\n",
    "detunings = [[0,0],[0,100], [0,1000], [0,5000]]\n",
    "num_ens = 2\n",
    "N_total = 10000\n",
    "theta_0 = 1\n",
    "phi_0 = 0.0\n",
    "coup_a_0 = 1.0\n",
    "gamma_a_0 = 0.0\n",
    "chi_a_0 = 0.0\n",
    "kappa_c_0 = 100.0\n",
    "t_max = 0.2\n",
    "t_num = 60000\n",
    "run = 0\n",
    "det_dict = {}\n",
    "handle_list = []\n",
    "for i in range(len(detunings)):\n",
    "    print(detunings[i])\n",
    "    params = f'{num_ens} {N_total} {theta_0} {phi_0} {coup_a_0} {gamma_a_0} {chi_a_0} {kappa_c_0} {t_max} {t_num}'\n",
    "    handle = f'k{num_ens}N{N_total}det{detunings[i][1]}_{theta_0}_{coup_a_0}_{kappa_c_0}_{i+1}' # Add extra notes as needed\n",
    "    det_dict[handle] = detunings[i]\n",
    "    handle_list.append(handle)\n",
    "    print(handle)\n",
    "\n",
    "\n",
    "detuning_0 = [0]\n",
    "num_ens = 1\n",
    "N_total = 5000\n",
    "params = f'{num_ens} {N_total} {theta_0} {phi_0} {coup_a_0} {gamma_a_0} {chi_a_0} {kappa_c_0} {t_max} {t_num}'\n",
    "handle = f'k{num_ens}N{N_total}det{0}_{theta_0}_{coup_a_0}_{kappa_c_0}_{5}' # Add extra notes as needed\n",
    "det_dict[handle] = detuning_0\n",
    "handle_list.append(handle)\n",
    "print(f\"************************* Run {5} *************************\")\n",
    "print(f\"Handle: {handle} \")\n",
    "print(\"\\n\")\n",
    "\n",
    "\n",
    "print(handle_list)"
   ]
  },
  {
   "cell_type": "code",
   "execution_count": 19,
   "metadata": {},
   "outputs": [
    {
     "data": {
      "image/png": "[encoded data removed]",
      "text/plain": [
       "<Figure size 1200x420 with 2 Axes>"
      ]
     },
     "metadata": {},
     "output_type": "display_data"
    }
   ],
   "source": [
    "plot_good = True # Change to 1 once sure the result is good\n",
    "results = [utils.read_results(handle) for handle in handle_list]\n",
    "\n",
    "fig = plt.figure(figsize=(12,4.2))\n",
    "ax = fig.subplots(1, 2)\n",
    "ax[0].set_title(\"Population inversion (0-class)\")\n",
    "ax[0].set_xlabel(r\"Time ($\\mu$s)\")\n",
    "ax[0].set_ylabel(r\"$\\langle \\sigma_z\\rangle$\")\n",
    "ax[1].set_title(\"Intracavity photons\")\n",
    "ax[1].set_xlabel(r\"Time ($\\mu$s)\")\n",
    "ax[1].set_ylabel(r\"$\\langle a^\\dagger a\\rangle$\")\n",
    "for i in range(len(handle_list)-1):\n",
    "    ax[0].plot(results[i][0], results[i][1][:,0], label=detunings[i])\n",
    "    ax[1].plot(results[i][0], results[i][3], label=detunings[i])\n",
    "ax[0].plot(results[0][0], results[-1][1], label=detunings[i])\n",
    "ax[1].plot(results[0][0], results[-1][3], label=detunings[i])\n",
    "\n",
    "ax[0].legend()\n",
    "ax[1].legend()\n",
    "if plot_good == True:\n",
    "    fig.savefig(\"test1.pdf\", dpi=300, pad_inches=0.2)"
   ]
  },
  {
   "attachments": {},
   "cell_type": "markdown",
   "metadata": {},
   "source": [
    "# Test 2: Propagation"
   ]
  },
  {
   "cell_type": "code",
   "execution_count": null,
   "metadata": {},
   "outputs": [],
   "source": [
    "#############################################################\n",
    "# Test 2: effect of inhomogeneous broadening (intermediate case)\n",
    "#############################################################\n",
    "max_det = 280\n",
    "detunings = [[0,max_det],[0,max_det/2],[0,2*max_det/3],[0,max_det/2,max_det],\n",
    "             [0,max_det/3], [0,max_det/3, max_det], \n",
    "             [0, 2*max_det/3], [0, 2*max_det/3, max_det]]\n",
    "num_ens = 3\n",
    "N_ens = 5000\n",
    "theta_0 = 1\n",
    "phi_0 = 0.0\n",
    "coup_a_0 = 1.0\n",
    "gamma_a_0 = 0.0\n",
    "chi_a_0 = 0.0\n",
    "kappa_c_0 = 100.0\n",
    "t_max = 0.2\n",
    "t_num = 60000\n",
    "run = 0\n",
    "det_dict = {}\n",
    "handle_list = []\n",
    "\n",
    "for i in range(len(detunings)):\n",
    "    # np.savetxt(f\"Detuning.dat\", detunings[i], delimiter=\"\\t\")\n",
    "    num_ens = len(detunings[i])\n",
    "    params = f'{num_ens} {N_ens*num_ens} {theta_0} {phi_0} {coup_a_0} {gamma_a_0} {chi_a_0} {kappa_c_0} {t_max} {t_num}'\n",
    "    handle = f'k{num_ens}N{N_ens*num_ens}det{max_det}_{theta_0}_{coup_a_0}_{kappa_c_0}_{i+1}' # Add extra notes as needed\n",
    "    det_dict[handle] = detunings[i]\n",
    "    handle_list.append(handle)\n",
    "    print(f\"************************* Run {i+1} *************************\")\n",
    "    print(f\"Handle: {handle} \")\n",
    "    if os.path.isfile(f\"Result_Sz_{handle}.dat\") == False:\n",
    "        utils.runcmd(f'file.exe {params} {handle}')\n",
    "    else:\n",
    "        print(\"File exits, skipping simulation\")\n",
    "    #utils.runcmd(f'file.exe {params} {handle}')\n",
    "    print(\"\\n\")"
   ]
  },
  {
   "cell_type": "code",
   "execution_count": null,
   "metadata": {},
   "outputs": [],
   "source": [
    "#############################################################\n",
    "# Test 2: plot dW/dt\n",
    "#############################################################\n",
    "plot_good = True # Change to 1 once sure the result is good\n",
    "results = [utils.read_results(handle) for handle in handle_list]\n",
    "sz_list = [results[i][1] for i in range(len(handle_list))]\n",
    "dt = results[0][0][-1]/np.size(results[0][0])\n",
    "fig = plt.figure()\n",
    "ax = fig.subplots(1, 1)\n",
    "plt.figure(figsize=(6.5,4.2))\n",
    "ax.set_title(\"Total atomic decay rate\")\n",
    "ax.set_ylabel(r\"dW/dt\")\n",
    "ax.set_xlabel(r\"Time ($\\mu$s)\")\n",
    "labels = [r\"[0,$\\delta$]\", r\"[0,$\\delta/3$]\", r\"[0,$\\delta/3$, $\\delta$]\"]\n",
    "run = 0\n",
    "for i in [0,4,5]:\n",
    "    W = utils.Wt(results[i][1])\n",
    "    I = -utils.diffentiate(dt, W)\n",
    "    print(detunings[i])\n",
    "    ax.plot(results[0][0][:-1], I, label=labels[run])\n",
    "    run += 1\n",
    "    # ax.set_yscale('log')\n",
    "ax.legend()\n",
    "if plot_good == True:\n",
    "    fig.savefig(\"test2_dwdt_3.pdf\", dpi=300, pad_inches=0.2)"
   ]
  },
  {
   "cell_type": "code",
   "execution_count": null,
   "metadata": {},
   "outputs": [],
   "source": [
    "#############################################################\n",
    "# Test 2: plot sz[0]\n",
    "#############################################################\n",
    "plot_good = True # Change to 1 once sure the result is good\n",
    "results = [utils.read_results(handle) for handle in handle_list]\n",
    "\n",
    "fig = plt.figure()\n",
    "ax = fig.subplots(1, 1)\n",
    "plt.figure(figsize=(6.5,4.2))\n",
    "ax.set_title(\"Population inversion (2nd class)\")\n",
    "ax.set_ylabel(r\"$\\Delta\\langle\\sigma_z\\rangle$\")\n",
    "ax.set_xlabel(r\"Time ($\\mu$s)\")\n",
    "labels = [r\"[0, $\\delta$]\",r\"[0,$\\delta/3$]\",  r\"[0,$\\delta/3, \\delta$]\",\n",
    "          r\"[0,$\\delta/2$]\", r\"[0,$\\delta/2$, $\\delta$]\",\n",
    "          r\"[0,$2\\delta/3$]\", r\"[0,$2\\delta/3$, $\\delta$]\"]\n",
    "run = 0\n",
    "for i in [0,3,4,1,2,5,6]:\n",
    "    ax.plot(results[0][0], results[i][1][:,1], label=labels[run])\n",
    "    run += 1\n",
    "    # ax.set_yscale('log')\n",
    "ax.legend()\n",
    "if plot_good == True:\n",
    "    fig.savefig(f\"test2_dsz2.pdf\", dpi=300, pad_inches=0.2)"
   ]
  },
  {
   "cell_type": "code",
   "execution_count": null,
   "metadata": {},
   "outputs": [],
   "source": [
    "#############################################################\n",
    "# Test 2: plot sz[1]\n",
    "#############################################################\n",
    "plot_good = False # Change to 1 once sure the result is good\n",
    "\n",
    "fig = plt.figure()\n",
    "ax = fig.subplots(1, 1)\n",
    "plt.figure(figsize=(6.5,4.2))\n",
    "ax.set_title(\"Population inversion (2nd class)\")\n",
    "ax.set_ylabel(r\"$\\langle\\sigma_z\\rangle$\")\n",
    "ax.set_xlabel(r\"Time ($\\mu$s)\")\n",
    "labels = [r\"[0,$\\delta$]\", r\"[0,$\\delta/3, \\delta$]-[0,$\\delta/3$]\", r\"[0,$\\delta/2$, $\\delta$]-[0, $\\delta/2$]\",\n",
    "          r\"[0,$2\\delta/3$, $\\delta$]-[0,$2\\delta/3$]\"]\n",
    "run = 0\n",
    "ax.plot(results[3][1][:,0]-results[1][1][:,0], label=labels[0])\n",
    "ax.plot(results[5][1][:,0]-results[4][1][:,0], label=labels[1])\n",
    "ax.plot(results[7][1][:,0]-results[6][1][:,0], label=labels[2])\n",
    "ax.legend()\n",
    "if plot_good == True:\n",
    "    fig.savefig(f\"test2_dsz.pdf\", dpi=300, pad_inches=0.2)"
   ]
  },
  {
   "attachments": {},
   "cell_type": "markdown",
   "metadata": {},
   "source": [
    "# Test 3: critical detuning vs number of spins"
   ]
  },
  {
   "cell_type": "code",
   "execution_count": null,
   "metadata": {},
   "outputs": [],
   "source": [
    "#############################################################\n",
    "# Test 3: Find critical detuning\n",
    "# Criterion 1: Td <1.05 Td(0)\n",
    "# Criterion 2: sz_delta < -0.8\n",
    "# System {-d, 0, d}\n",
    "#############################################################\n",
    "N_tot_range = np.linspace(20000, 800000, 40)[::-1].astype(int) # Start with the largest ensemble\n",
    "num_ens = 3\n",
    "theta_0 = 1\n",
    "phi_0 = 0.0\n",
    "coup_a_0 = 1.0\n",
    "gamma_a_0 = 0.0\n",
    "chi_a_0 = 0.0\n",
    "kappa_c_0 = 100.0\n",
    "t_max = 0.2\n",
    "t_num = 60000\n",
    "det_dict = {}\n",
    "handle_list = []\n",
    "delta_min = 0\n",
    "delta_max = 375\n",
    "delta_cur = delta_max # Temporary variable\n",
    "cor_cri = 0.99\n",
    "tol = 1e-3 # Tolerance 0.001\n",
    "delta_crit = [] # Storing critical detunings satisfying crit\n",
    "\n",
    "for N_tot in N_tot_range:\n",
    "    # Run initial test to see if the current range is ok\n",
    "    crit1 = 0\n",
    "    found1 = False\n",
    "    run = 0\n",
    "    max_run = 10\n",
    "    delta_min = 0\n",
    "    delta_max = delta_cur # Smaller ensembles have smaller critical detuning\n",
    "    \n",
    "    # Initial check: crit1 fails at delta_max\n",
    "    while(True):\n",
    "        print(delta_max)\n",
    "        detuning_max = [0, -delta_max, delta_max]\n",
    "        np.savetxt(\"Detuning.dat\", detuning_max, delimiter=\"\\t\")\n",
    "        params = f'{num_ens} {N_tot} {theta_0} {phi_0} {coup_a_0} {gamma_a_0} {chi_a_0} {kappa_c_0} {t_max} {t_num}'\n",
    "        handle_max = f'k{num_ens}N{N_tot}det{delta_max}_{theta_0}_{coup_a_0}_{kappa_c_0}_test3'\n",
    "        print(handle_max)\n",
    "        # Check if file already exists\n",
    "        if os.path.isfile(f\"Result_Sz_{handle_max}.dat\") == False:\n",
    "            utils.runcmd(f'file.exe {params} {handle_max}')\n",
    "        else:\n",
    "            print(\"File exits, skipping simulation\")\n",
    "        # utils.runcmd(f'file.exe {params} {handle_max}')\n",
    "        result = utils.read_results(handle_max)\n",
    "        cor = np.corrcoef(result[1][:,0],result[1][:,1])[0][1]\n",
    "        \n",
    "        if np.abs(cor-cor_cri) < tol: # delta_max is the critical detuning for crit1\n",
    "            delta_crit.append(delta_max)\n",
    "            found1 = True\n",
    "            delta_cur = delta_max\n",
    "            print(f\"delta_crit1 has been found at boundary {delta_max}\")\n",
    "            break\n",
    "        elif cor < cor_cri:\n",
    "            break\n",
    "        elif cor > cor_cri: # delta_max is smaller than critical detuning for crit1\n",
    "            delta_max += 100\n",
    "            print(f\"delta_max smaller than critical, increase by 100 to {delta_max}\")\n",
    "        # break (auto) delta_max is larger than critical detuning for crit 1\n",
    "    \n",
    "    # Start searching by binary\n",
    "    while((found1== False) and run<max_run and delta_max-delta_min>5):\n",
    "        run += 1\n",
    "        delta_mid = int((delta_max + delta_min)/2)\n",
    "        detuning_mid = [0, -delta_mid, delta_mid]\n",
    "        np.savetxt(\"Detuning.dat\", detuning_mid, delimiter=\"\\t\")   \n",
    "        handle_mid = f'k{num_ens}N{N_tot}det{delta_mid}_{theta_0}_{coup_a_0}_{kappa_c_0}_test3' # Add extra notes as needed\n",
    "        handle_list.append(handle_mid)\n",
    "        det_dict[handle_mid] = detuning_mid\n",
    "        print(f\"************************* {N_tot} Run {run} Detuning {delta_mid} *************************\")\n",
    "        print(f\"Handle: {handle_mid}\")\n",
    "        if os.path.isfile(f\"Result_Sz_{handle_mid}.dat\") == False:\n",
    "            utils.runcmd(f'file.exe {params} {handle_mid}')\n",
    "        else:\n",
    "            print(\"File exits, skipping simulation\")\n",
    "        # utils.runcmd(f'file.exe {params} {handle_mid}')\n",
    "        result = utils.read_results(handle_mid)\n",
    "        cor = np.corrcoef(result[1][:,0],result[1][:,1])[0][1]\n",
    "        if np.abs(cor - cor_cri) < tol:\n",
    "            delta_crit.append(delta_mid)\n",
    "            found1 = True\n",
    "            delta_cur = delta_mid\n",
    "            print(f\"delta_crit1 has been found at run {run}: {delta_mid}, {cor}\")\n",
    "            break\n",
    "        elif cor < cor_cri:\n",
    "            delta_max = delta_mid\n",
    "            print(f\"Detuning {delta_mid} too large, {cor}, next round\")\n",
    "        elif cor > cor_cri:\n",
    "            delta_min = delta_mid\n",
    "            print(f\"Detuning {delta_mid} too small, {cor}, next round\")\n",
    "    \n",
    "    if found1 == False:\n",
    "        delta_mid = int((delta_min + delta_max)/2)\n",
    "        delta_crit.append(delta_mid)\n",
    "        found1 = True\n",
    "        delta_cur = delta_mid\n",
    "        print(f\"Unable to resolve within max_iter, settle at {delta_mid} with cor ~{cor}\")"
   ]
  },
  {
   "cell_type": "code",
   "execution_count": null,
   "metadata": {},
   "outputs": [],
   "source": [
    "N_tot = 50000\n",
    "detuning_range = [50,100,200]\n",
    "num_ens = 3\n",
    "theta_0 = 1\n",
    "phi_0 = 0.0\n",
    "coup_a_0 = 1.0\n",
    "gamma_a_0 = 0.0\n",
    "chi_a_0 = 0.0\n",
    "kappa_c_0 = 100.0\n",
    "t_max = 0.15\n",
    "t_num = 60000\n",
    "handle_list1 = []\n",
    "\n",
    "for i in range(len(detuning_range)):\n",
    "    delta = detuning_range[i]\n",
    "    detuning_set = [0, -delta, delta]\n",
    "    np.savetxt(f\"Detuning.dat\", detuning_set, delimiter=\"\\t\")\n",
    "    params = f'{num_ens} {N_tot} {theta_0} {phi_0} {coup_a_0} {gamma_a_0} {chi_a_0} {kappa_c_0} {t_max} {t_num}'\n",
    "    handle = f'k{num_ens}N{N_tot}det{delta}_{theta_0}_{coup_a_0}_{kappa_c_0}__test3' # Add extra notes as needed\n",
    "    handle_list1.append(handle)\n",
    "    print(f\"************************* Run {i+1} *************************\")\n",
    "    print(f\"Handle: {handle} \")\n",
    "    if os.path.isfile(f\"Result_Sz_{handle}.dat\") == False:\n",
    "        utils.runcmd(f'file.exe {params} {handle}')\n",
    "    else:\n",
    "        print(\"File exits, skipping simulation\")\n",
    "    # utils.runcmd(f'file.exe {params} {handle}')\n",
    "    print(\"\\n\")"
   ]
  },
  {
   "cell_type": "code",
   "execution_count": null,
   "metadata": {},
   "outputs": [],
   "source": [
    "results1 = [utils.read_results(handle) for handle in handle_list1]"
   ]
  },
  {
   "cell_type": "code",
   "execution_count": null,
   "metadata": {},
   "outputs": [],
   "source": [
    "plot_save = True\n",
    "fig, ax = plt.subplots(1,3,sharey=True, figsize=(15,4), gridspec_kw = {'wspace':0, 'hspace':0.08})\n",
    "\n",
    "for i in range(3):\n",
    "    ax[i].plot(results1[0][0], results1[i][1][:,0], label=\"0\")\n",
    "    ax[i].plot(results1[0][0], results1[i][1][:,1], label=r\"$\\pm\\delta$\")\n",
    "    ax[i].set_xlabel(r\"Time ($\\mu$s)\")\n",
    "    ax[i].ticklabel_format(axis='x', style='sci', scilimits=(-2,-2))\n",
    "    ax[i].legend()\n",
    "ax[0].set_ylabel(r\"$\\langle \\sigma_z\\rangle$\")\n",
    "fig.subplots_adjust(bottom=0.2)\n",
    "if plot_save:\n",
    "    fig.savefig(f\"test3_sz.pdf\", dpi=300)\n",
    "# plt.text(0.12,0.1, f\"Correlation: {round(cor, 4)}\")"
   ]
  },
  {
   "cell_type": "code",
   "execution_count": null,
   "metadata": {},
   "outputs": [],
   "source": [
    "\n",
    "#from sklearn.metrics import r2_score\n",
    "from scipy.optimize import curve_fit\n",
    "\n",
    "X = np.array(N_tot_range)\n",
    "Y = np.array(delta_crit)\n",
    "\n",
    "def quadratic_function(X, a, b, c):\n",
    "    return a * X ** 2 + b * X + c\n",
    "\n",
    "def logarithmic_function(X, a, b) :\n",
    "    return a * np.log(X) + b\n",
    "\n",
    "def hyperbola_function(x, a, b, c):\n",
    "    return a / (x - b) + c\n",
    "\n",
    "log_co, _ = curve_fit(logarithmic_function, X, Y)\n",
    "quad_co, _ = curve_fit(quadratic_function, X, Y)\n",
    "hyp_co, _ = curve_fit(hyperbola_function, X, Y)\n",
    "\n",
    "print(\"Optimized parameters (log):\", log_co)\n",
    "print(\"Optimized parameters (quad):\", quad_co)\n",
    "print(\"Optimized parameters (hyper):\", hyp_co)\n",
    "\n",
    "def predict_Y_log(X):\n",
    "    return logarithmic_function(X, *log_co)\n",
    "\n",
    "def predict_Y_quad(X):\n",
    "    return quadratic_function(X, *quad_co)\n",
    "\n",
    "def predict_Y_hyp(X):\n",
    "    return hyperbola_function(X, *hyp_co)\n",
    "\n",
    "#print(\"R-squared:\", r2_score(Y, predict_Y(X)))\n"
   ]
  },
  {
   "cell_type": "code",
   "execution_count": null,
   "metadata": {},
   "outputs": [],
   "source": [
    "plt.scatter(N_tot_range, delta_crit, label=\"Data\")\n",
    "# plt.plot(N_tot_range, predict_Y_log(N_tot_range))\n",
    "# plt.plot(N_tot_range, predict_Y_quad(N_tot_range))\n",
    "plt.plot(N_tot_range, predict_Y_hyp(N_tot_range),label=\"Rational fit\", color=\"#ff7f0e\")\n",
    "plt.ylabel(r\"$\\delta^*$(kHz)\")\n",
    "plt.xlabel(\"N_tot\")\n",
    "plt.legend()\n",
    "plt.savefig(f\"test3_fit.pdf\", dpi=300, pad_inches=0.2)\n",
    "# delta_crit\n",
    "# plt.scatter(N_tot_range, delta_crit)\n",
    "# plt.plot(N_tot_range, predict_Y(N_tot_range))"
   ]
  },
  {
   "attachments": {},
   "cell_type": "markdown",
   "metadata": {},
   "source": [
    "# Test 4: Symmetry"
   ]
  },
  {
   "cell_type": "code",
   "execution_count": null,
   "metadata": {},
   "outputs": [],
   "source": [
    "#############################################################\n",
    "# Test 4: system preparation\n",
    "#############################################################\n",
    "max_det = 250\n",
    "detunings = [[0,-max_det, max_det], [0,max_det, max_det]]\n",
    "num_ens = 3\n",
    "N_tot = 50000 * num_ens\n",
    "theta_0 = 1\n",
    "phi_0 = 0.0\n",
    "coup_a_0 = 1.0\n",
    "gamma_a_0 = 0.0\n",
    "chi_a_0 = 0.0\n",
    "kappa_c_0 = 100.0\n",
    "t_max = 0.2\n",
    "t_num = 60000\n",
    "det_dict = {}\n",
    "handle_list = []\n",
    "\n",
    "for i in range(len(detunings)):\n",
    "    np.savetxt(f\"Detuning.dat\", detunings[i], delimiter=\"\\t\")\n",
    "    params = f'{num_ens} {N_tot} {theta_0} {phi_0} {coup_a_0} {gamma_a_0} {chi_a_0} {kappa_c_0} {t_max} {t_num}'\n",
    "    handle = f'k{num_ens}N{N_tot}det{max_det}_{theta_0}_{coup_a_0}_{kappa_c_0}__test2_{i+1}' # Add extra notes as needed\n",
    "    det_dict[handle] = detunings[i]\n",
    "    handle_list.append(handle)\n",
    "    print(f\"************************* Run {i+1} *************************\")\n",
    "    print(f\"Handle: {handle} \")\n",
    "    # if os.path.isfile(f\"Result_Sz_{handle}.dat\") == False:\n",
    "    #     utils.runcmd(f'file.exe {params} {handle}')\n",
    "    # else:\n",
    "    #     print(\"File exits, skipping simulation\")\n",
    "    utils.runcmd(f'file.exe {params} {handle}')\n",
    "    print(\"\\n\")"
   ]
  },
  {
   "cell_type": "code",
   "execution_count": null,
   "metadata": {},
   "outputs": [],
   "source": [
    "#############################################################\n",
    "# Test 4: read results\n",
    "#############################################################\n",
    "results = [utils.read_results(handle) for handle in handle_list]"
   ]
  },
  {
   "cell_type": "code",
   "execution_count": null,
   "metadata": {},
   "outputs": [],
   "source": [
    "#############################################################\n",
    "# Test 4: plot sz\n",
    "#############################################################\n",
    "plot_save = True\n",
    "fig, ax = plt.subplots(2,2,sharex=True, figsize=(15,8), gridspec_kw = {'wspace':0.12, 'hspace':0.08})\n",
    "\n",
    "ax[0][0].set_ylabel(r\"$\\langle \\sigma_z\\rangle$\")\n",
    "ax[1][0].set_ylabel(r\"$\\langle \\sigma_z\\rangle$\")\n",
    "ax[0][1].set_ylabel(r\"$\\langle a^\\dagger a\\rangle$\")\n",
    "ax[1][1].set_ylabel(r\"$\\langle a^\\dagger a\\rangle$\")\n",
    "ax[1][0].set_xlabel(r\"Time ($\\mu$s)\")\n",
    "ax[1][1].set_xlabel(r\"Time ($\\mu$s)\")\n",
    "ax[0][1].ticklabel_format(axis='y', style='sci', scilimits=(4,4))\n",
    "ax[1][1].ticklabel_format(axis='y', style='sci', scilimits=(4,4))\n",
    "\n",
    "\n",
    "t_ind = utils.cut_time(results[0][0], 0.08)\n",
    "ax[0][0].plot(results[0][0][:t_ind], results[0][1][:,0][:t_ind], label=r\"0\")\n",
    "ax[0][0].plot(results[0][0][:t_ind], results[0][1][:,1][:t_ind], label=r\"$\\pm\\delta$\")\n",
    "ax[1][0].plot(results[0][0][:t_ind], results[1][1][:,0][:t_ind], label=r\"0\")\n",
    "ax[1][0].plot(results[0][0][:t_ind], results[1][1][:,1][:t_ind], label=r\"$\\delta$\")\n",
    "\n",
    "ax[0][1].plot(results[0][0][:t_ind], results[0][3][:t_ind])\n",
    "ax[1][1].plot(results[0][0][:t_ind], results[1][3][:t_ind])\n",
    "\n",
    "ax[0][0].legend()\n",
    "ax[1][0].legend()\n",
    "ax[0][0].set_title(\"Population inversion\")\n",
    "ax[0][1].set_title(\"Intracavity photon\")\n",
    "if plot_save:\n",
    "    fig.savefig(f\"test4_sz.pdf\", dpi=300, pad_inches=0.2)"
   ]
  },
  {
   "attachments": {},
   "cell_type": "markdown",
   "metadata": {},
   "source": [
    "# Test 5: shift frequency (3-ensemble)"
   ]
  },
  {
   "cell_type": "code",
   "execution_count": 5,
   "metadata": {},
   "outputs": [
    {
     "name": "stdout",
     "output_type": "stream",
     "text": [
      "[0.0, -450.0, 450.0]\n",
      "k3N300000det450D0.0_1_1.0_100.0_test5\n",
      "File exits, skipping simulation\n",
      "************************* 300000 Run 1 Detuning 225 *************************\n",
      "Handle: k3N300000det225D0.0_1_1.0_100.0_test3\n",
      "19999\n",
      "File exits, skipping simulation\n",
      "delta_crit1 has been found at run 1: 225, 0.9900098519530041\n",
      "[31.57894736842105, -193.42105263157896, 256.57894736842104]\n",
      "k3N300000det225D31.57894736842105_1_1.0_100.0_test5\n",
      "File exits, skipping simulation\n",
      "delta_max smaller than critical, increase by 100 to 325\n",
      "[31.57894736842105, -293.42105263157896, 356.57894736842104]\n",
      "k3N300000det325D31.57894736842105_1_1.0_100.0_test5\n",
      "File exits, skipping simulation\n",
      "************************* 300000 Run 1 Detuning 162 *************************\n",
      "Handle: k3N300000det162D31.57894736842105_1_1.0_100.0_test3\n",
      "19999\n",
      "File exits, skipping simulation\n"
     ]
    },
    {
     "ename": "ValueError",
     "evalue": "the number of columns changed from 3 to 2 at row 15084; use `usecols` to select a subset and avoid this error",
     "output_type": "error",
     "traceback": [
      "\u001b[1;31m---------------------------------------------------------------------------\u001b[0m",
      "\u001b[1;31mValueError\u001b[0m                                Traceback (most recent call last)",
      "Cell \u001b[1;32mIn[5], line 88\u001b[0m\n\u001b[0;32m     86\u001b[0m     \u001b[39mprint\u001b[39m(\u001b[39m\"\u001b[39m\u001b[39mFile exits, skipping simulation\u001b[39m\u001b[39m\"\u001b[39m)\n\u001b[0;32m     87\u001b[0m \u001b[39m# utils.runcmd(f'file.exe {params} {handle_mid}')\u001b[39;00m\n\u001b[1;32m---> 88\u001b[0m result \u001b[39m=\u001b[39m utils\u001b[39m.\u001b[39;49mread_results(handle_mid)\n\u001b[0;32m     89\u001b[0m cor \u001b[39m=\u001b[39m np\u001b[39m.\u001b[39mcorrcoef(result[\u001b[39m1\u001b[39m][:,\u001b[39m0\u001b[39m],result[\u001b[39m1\u001b[39m][:,\u001b[39m1\u001b[39m])[\u001b[39m0\u001b[39m][\u001b[39m1\u001b[39m]\n\u001b[0;32m     90\u001b[0m \u001b[39mif\u001b[39;00m np\u001b[39m.\u001b[39mabs(cor \u001b[39m-\u001b[39m cor_cri) \u001b[39m<\u001b[39m tol:\n",
      "File \u001b[1;32mc:\\Users\\Admin\\Documents\\Sam\\Cuda_C_spin_sync\\CUDA_code\\utils.py:204\u001b[0m, in \u001b[0;36mread_results\u001b[1;34m(handle)\u001b[0m\n\u001b[0;32m    201\u001b[0m result_photon_filename \u001b[39m=\u001b[39m \u001b[39mf\u001b[39m\u001b[39m\"\u001b[39m\u001b[39mResult_photon_\u001b[39m\u001b[39m{\u001b[39;00mhandle\u001b[39m}\u001b[39;00m\u001b[39m.dat\u001b[39m\u001b[39m\"\u001b[39m\n\u001b[0;32m    202\u001b[0m result_time_filename \u001b[39m=\u001b[39m \u001b[39mf\u001b[39m\u001b[39m\"\u001b[39m\u001b[39mResult_time_\u001b[39m\u001b[39m{\u001b[39;00mhandle\u001b[39m}\u001b[39;00m\u001b[39m.dat\u001b[39m\u001b[39m\"\u001b[39m\n\u001b[1;32m--> 204\u001b[0m result_sz \u001b[39m=\u001b[39m np\u001b[39m.\u001b[39;49mloadtxt(result_sz_filename, dtype\u001b[39m=\u001b[39;49mnp\u001b[39m.\u001b[39;49mlongdouble)\n\u001b[0;32m    205\u001b[0m result_coherences \u001b[39m=\u001b[39m np\u001b[39m.\u001b[39mloadtxt(result_coherences_filename, dtype\u001b[39m=\u001b[39mnp\u001b[39m.\u001b[39mlongdouble)\n\u001b[0;32m    206\u001b[0m result_photon \u001b[39m=\u001b[39m np\u001b[39m.\u001b[39mloadtxt(result_photon_filename, dtype\u001b[39m=\u001b[39mnp\u001b[39m.\u001b[39mlongdouble)\n",
      "File \u001b[1;32mc:\\Users\\Admin\\Documents\\Sam\\CUDA_code\\.conda\\lib\\site-packages\\numpy\\lib\\npyio.py:1338\u001b[0m, in \u001b[0;36mloadtxt\u001b[1;34m(fname, dtype, comments, delimiter, converters, skiprows, usecols, unpack, ndmin, encoding, max_rows, quotechar, like)\u001b[0m\n\u001b[0;32m   1335\u001b[0m \u001b[39mif\u001b[39;00m \u001b[39misinstance\u001b[39m(delimiter, \u001b[39mbytes\u001b[39m):\n\u001b[0;32m   1336\u001b[0m     delimiter \u001b[39m=\u001b[39m delimiter\u001b[39m.\u001b[39mdecode(\u001b[39m'\u001b[39m\u001b[39mlatin1\u001b[39m\u001b[39m'\u001b[39m)\n\u001b[1;32m-> 1338\u001b[0m arr \u001b[39m=\u001b[39m _read(fname, dtype\u001b[39m=\u001b[39;49mdtype, comment\u001b[39m=\u001b[39;49mcomment, delimiter\u001b[39m=\u001b[39;49mdelimiter,\n\u001b[0;32m   1339\u001b[0m             converters\u001b[39m=\u001b[39;49mconverters, skiplines\u001b[39m=\u001b[39;49mskiprows, usecols\u001b[39m=\u001b[39;49musecols,\n\u001b[0;32m   1340\u001b[0m             unpack\u001b[39m=\u001b[39;49munpack, ndmin\u001b[39m=\u001b[39;49mndmin, encoding\u001b[39m=\u001b[39;49mencoding,\n\u001b[0;32m   1341\u001b[0m             max_rows\u001b[39m=\u001b[39;49mmax_rows, quote\u001b[39m=\u001b[39;49mquotechar)\n\u001b[0;32m   1343\u001b[0m \u001b[39mreturn\u001b[39;00m arr\n",
      "File \u001b[1;32mc:\\Users\\Admin\\Documents\\Sam\\CUDA_code\\.conda\\lib\\site-packages\\numpy\\lib\\npyio.py:999\u001b[0m, in \u001b[0;36m_read\u001b[1;34m(fname, delimiter, comment, quote, imaginary_unit, usecols, skiplines, max_rows, converters, ndmin, unpack, dtype, encoding)\u001b[0m\n\u001b[0;32m    996\u001b[0m     data \u001b[39m=\u001b[39m _preprocess_comments(data, comments, encoding)\n\u001b[0;32m    998\u001b[0m \u001b[39mif\u001b[39;00m read_dtype_via_object_chunks \u001b[39mis\u001b[39;00m \u001b[39mNone\u001b[39;00m:\n\u001b[1;32m--> 999\u001b[0m     arr \u001b[39m=\u001b[39m _load_from_filelike(\n\u001b[0;32m   1000\u001b[0m         data, delimiter\u001b[39m=\u001b[39;49mdelimiter, comment\u001b[39m=\u001b[39;49mcomment, quote\u001b[39m=\u001b[39;49mquote,\n\u001b[0;32m   1001\u001b[0m         imaginary_unit\u001b[39m=\u001b[39;49mimaginary_unit,\n\u001b[0;32m   1002\u001b[0m         usecols\u001b[39m=\u001b[39;49musecols, skiplines\u001b[39m=\u001b[39;49mskiplines, max_rows\u001b[39m=\u001b[39;49mmax_rows,\n\u001b[0;32m   1003\u001b[0m         converters\u001b[39m=\u001b[39;49mconverters, dtype\u001b[39m=\u001b[39;49mdtype,\n\u001b[0;32m   1004\u001b[0m         encoding\u001b[39m=\u001b[39;49mencoding, filelike\u001b[39m=\u001b[39;49mfilelike,\n\u001b[0;32m   1005\u001b[0m         byte_converters\u001b[39m=\u001b[39;49mbyte_converters)\n\u001b[0;32m   1007\u001b[0m \u001b[39melse\u001b[39;00m:\n\u001b[0;32m   1008\u001b[0m     \u001b[39m# This branch reads the file into chunks of object arrays and then\u001b[39;00m\n\u001b[0;32m   1009\u001b[0m     \u001b[39m# casts them to the desired actual dtype.  This ensures correct\u001b[39;00m\n\u001b[0;32m   1010\u001b[0m     \u001b[39m# string-length and datetime-unit discovery (like `arr.astype()`).\u001b[39;00m\n\u001b[0;32m   1011\u001b[0m     \u001b[39m# Due to chunking, certain error reports are less clear, currently.\u001b[39;00m\n\u001b[0;32m   1012\u001b[0m     \u001b[39mif\u001b[39;00m filelike:\n",
      "\u001b[1;31mValueError\u001b[0m: the number of columns changed from 3 to 2 at row 15084; use `usecols` to select a subset and avoid this error"
     ]
    }
   ],
   "source": [
    "#############################################################\n",
    "# Test 3: Find critical detuning\n",
    "# Criterion 1: Td <1.05 Td(0)\n",
    "# Criterion 2: sz_delta < -0.8\n",
    "# System {-d, 0, d}\n",
    "#############################################################\n",
    "N_tot = 300000\n",
    "shifts = np.linspace(0,600,20)\n",
    "# shifts = [300, 600]\n",
    "num_ens = 3\n",
    "theta_0 = 1\n",
    "phi_0 = 0.0\n",
    "coup_a_0 = 1.0\n",
    "gamma_a_0 = 0.0\n",
    "chi_a_0 = 0.0\n",
    "kappa_c_0 = 100.0\n",
    "t_max = 0.2\n",
    "t_num = 60000\n",
    "det_dict = {}\n",
    "handle_list = []\n",
    "delta_min = 100\n",
    "delta_max = 450\n",
    "delta_cur = delta_max # Temporary variable\n",
    "cor_cri = 0.99\n",
    "tol = 1e-3 # Tolerance 0.001\n",
    "delta_crit = [] # Storing critical detunings satisfying crit\n",
    "\n",
    "for shift in shifts:\n",
    "    # Run initial test to see if the current range is ok\n",
    "    crit1 = 0\n",
    "    found1 = False\n",
    "    run = 0\n",
    "    max_run = 10\n",
    "    delta_min = 0\n",
    "    delta_max = delta_cur # Larger shifts have smaller critical detuning\n",
    "    \n",
    "    # Initial check: crit1 fails at delta_max\n",
    "    while(True):\n",
    "        detuning_max = [shift, -delta_max + shift, delta_max + shift]\n",
    "        print(detuning_max)\n",
    "        np.savetxt(\"Detuning.dat\", detuning_max, delimiter=\"\\t\")\n",
    "        params = f'{num_ens} {N_tot} {theta_0} {phi_0} {coup_a_0} {gamma_a_0} {chi_a_0} {kappa_c_0} {t_max} {t_num}'\n",
    "        handle_max = f'k{num_ens}N{N_tot}det{delta_max}D{shift}_{theta_0}_{coup_a_0}_{kappa_c_0}_test5'\n",
    "        print(handle_max)\n",
    "        # Check if file already exists\n",
    "        if os.path.isfile(f\"Result_Sz_{handle_max}.dat\") == False:\n",
    "            utils.runcmd(f'file.exe {params} {handle_max}')\n",
    "        elif (np.size(np.loadtxt(f\"Result_Sz_{handle_max}.dat\", dtype=np.longdouble)[:,0])<19999):\n",
    "            utils.runcmd(f'file.exe {params} {handle_max}')\n",
    "        else:\n",
    "            print(\"File exits, skipping simulation\")\n",
    "        # utils.runcmd(f'file.exe {params} {handle_max}')\n",
    "        result = utils.read_results(handle_max)\n",
    "        cor = np.corrcoef(result[1][:,0],result[1][:,1])[0][1]\n",
    "        \n",
    "        if np.abs(cor-cor_cri) < tol: # delta_max is the critical detuning for crit1\n",
    "            delta_crit.append(delta_max)\n",
    "            found1 = True\n",
    "            delta_cur = delta_max\n",
    "            print(f\"delta_crit1 has been found at boundary {delta_max}, {cor}\")\n",
    "            break\n",
    "        elif cor < cor_cri:\n",
    "            break\n",
    "        elif cor > cor_cri: # delta_max is smaller than critical detuning for crit1\n",
    "            delta_max += 100\n",
    "            print(f\"delta_max smaller than critical, increase by 100 to {delta_max}\")\n",
    "        # break (auto) delta_max is larger than critical detuning for crit 1\n",
    "    \n",
    "    # Start searching by binary\n",
    "    while((found1== False) and run<max_run and delta_max-delta_min>5):\n",
    "        run += 1\n",
    "        delta_mid = int((delta_max + delta_min)/2)\n",
    "        detuning_mid = [shift, -delta_mid + shift, delta_mid + shift]\n",
    "        np.savetxt(\"Detuning.dat\", detuning_mid, delimiter=\"\\t\")   \n",
    "        handle_mid = f'k{num_ens}N{N_tot}det{delta_mid}D{shift}_{theta_0}_{coup_a_0}_{kappa_c_0}_test3' # Add extra notes as needed\n",
    "        handle_list.append(handle_mid)\n",
    "        det_dict[handle_mid] = detuning_mid\n",
    "        print(f\"************************* {N_tot} Run {run} Detuning {delta_mid} *************************\")\n",
    "        print(f\"Handle: {handle_mid}\")\n",
    "        if os.path.isfile(f\"Result_Sz_{handle_mid}.dat\") == False:\n",
    "            utils.runcmd(f'file.exe {params} {handle_mid}')\n",
    "        elif (np.size(np.loadtxt(f\"Result_photon_{handle_max}.dat\", dtype=np.longdouble))<19999):\n",
    "            utils.runcmd(f'file.exe {params} {handle_max}')\n",
    "        else:\n",
    "            print(np.size(np.loadtxt(f\"Result_photon_{handle_max}.dat\", dtype=np.longdouble)))\n",
    "            print(\"File exits, skipping simulation\")\n",
    "        # utils.runcmd(f'file.exe {params} {handle_mid}')\n",
    "        result = utils.read_results(handle_mid)\n",
    "        cor = np.corrcoef(result[1][:,0],result[1][:,1])[0][1]\n",
    "        if np.abs(cor - cor_cri) < tol:\n",
    "            delta_crit.append(delta_mid)\n",
    "            found1 = True\n",
    "            delta_cur = delta_mid\n",
    "            print(f\"delta_crit1 has been found at run {run}: {delta_mid}, {cor}\")\n",
    "            break\n",
    "        elif cor < cor_cri:\n",
    "            delta_max = delta_mid\n",
    "            print(f\"Detuning {delta_mid} too large, {cor}, next round\")\n",
    "        elif cor > cor_cri:\n",
    "            delta_min = delta_mid\n",
    "            print(f\"Detuning {delta_mid} too small, {cor}, next round\")\n",
    "    \n",
    "    if found1 == False:\n",
    "        delta_mid = int((delta_min + delta_max)/2)\n",
    "        delta_crit.append(delta_mid)\n",
    "        found1 = True\n",
    "        delta_cur = delta_mid\n",
    "        print(f\"Unable to resolve within max_iter, settle at {delta_mid} with cor ~{cor}\")"
   ]
  },
  {
   "cell_type": "code",
   "execution_count": 6,
   "metadata": {},
   "outputs": [
    {
     "data": {
      "text/plain": [
       "<matplotlib.collections.PathCollection at 0x16633ff3160>"
      ]
     },
     "execution_count": 6,
     "metadata": {},
     "output_type": "execute_result"
    },
    {
     "data": {
      "image/png": "[encoded data removed]",
      "text/plain": [
       "<Figure size 640x480 with 1 Axes>"
      ]
     },
     "metadata": {},
     "output_type": "display_data"
    }
   ],
   "source": [
    "plt.scatter(shifts, delta_crit, label=\"Data\")"
   ]
  },
  {
   "cell_type": "code",
   "execution_count": null,
   "metadata": {},
   "outputs": [],
   "source": []
  }
 ],
 "metadata": {
  "kernelspec": {
   "display_name": "Python 3",
   "language": "python",
   "name": "python3"
  },
  "language_info": {
   "codemirror_mode": {
    "name": "ipython",
    "version": 3
   },
   "file_extension": ".py",
   "mimetype": "text/x-python",
   "name": "python",
   "nbconvert_exporter": "python",
   "pygments_lexer": "ipython3",
   "version": "3.9.16"
  },
  "orig_nbformat": 4,
  "vscode": {
   "interpreter": {
    "hash": "4b94adeba7b713340ea8cbbda1aef534457fb8d68974eb0981e7dc62d87dea46"
   }
  }
 },
 "nbformat": 4,
 "nbformat_minor": 2
}
