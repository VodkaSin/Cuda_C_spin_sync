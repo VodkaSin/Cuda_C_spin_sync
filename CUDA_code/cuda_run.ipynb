{
 "cells": [
  {
   "cell_type": "code",
   "execution_count": 1,
   "metadata": {},
   "outputs": [
    {
     "name": "stdout",
     "output_type": "stream",
     "text": [
      "functions.cu\n",
      "tmpxft_00005d5c_00000000-10_functions.cudafe1.cpp\n",
      "main.cu\n",
      "tmpxft_00005d5c_00000000-14_main.cudafe1.cpp\n",
      "   Creating library file.lib and object file.exp\n"
     ]
    }
   ],
   "source": [
    "#############################################################\n",
    "# Compile `main.cu` to `file.exe`\n",
    "# Commented out because we don't want to run it all the time\n",
    "#############################################################\n",
    "!nvcc -w functions.cu main.cu -o file"
   ]
  },
  {
   "cell_type": "code",
   "execution_count": 2,
   "metadata": {},
   "outputs": [],
   "source": [
    "#############################################################\n",
    "# Load python dependencies\n",
    "#############################################################\n",
    "import numpy as np\n",
    "import matplotlib.pyplot as plt\n",
    "import utils"
   ]
  },
  {
   "attachments": {},
   "cell_type": "markdown",
   "metadata": {},
   "source": [
    "# Generate detuning\n",
    "todo: distribution functions\n",
    "read into detuning.dat"
   ]
  },
  {
   "cell_type": "code",
   "execution_count": 6,
   "metadata": {},
   "outputs": [
    {
     "name": "stdout",
     "output_type": "stream",
     "text": [
      "Detuning data: [500.         475.59021314 451.27172511 427.13481158 403.26772096\n",
      " 379.75570804 356.68012282 334.1175709  312.13915963 290.80984232\n",
      " 270.18787011 250.32435883 231.26297492 213.03974237 195.68296915\n",
      " 179.21328984 163.64381804 148.98040062 135.22196364 122.36093864\n",
      " 110.38375667  99.27139684  88.99997594  79.54136551  70.86382332\n",
      "  62.93262681  55.71069689  49.15920193  43.23813275  37.9068411\n",
      "  33.12453546  28.85072951  25.04564022  21.67053369  18.68801823\n",
      "  16.0622856   13.75930181  11.7469503    9.99513067   8.47581676\n",
      "   7.16307825   6.03307027   5.06399527   4.23604198   3.5313053\n",
      "   2.93369167   2.42881339   2.00387548   1.64755824   1.34989803]\n"
     ]
    }
   ],
   "source": [
    "#############################################################\n",
    "# Generate and write detuning data to file\n",
    "#############################################################\n",
    "# Write 1D numpy array to file\n",
    "detuning_values_1d = utils.gen_same_pop(0, 50, 500)[1]\n",
    "print(\"Detuning data:\", detuning_values_1d)\n",
    "np.savetxt(\"Detuning.dat\", detuning_values_1d, delimiter=\"\\t\")\n",
    "\n",
    "# Example: write 2D numpy array to file\n",
    "# values_2d = np.array([\n",
    "#     [10.0, 20.0, 40.0],\n",
    "#     [10.0, 20.0, 50.0],\n",
    "#     [10.0, 20.0, 60.0]\n",
    "# ])\n",
    "# np.savetxt(\"values_2d.dat\", values_2d, delimiter=\"\\t\")"
   ]
  },
  {
   "attachments": {},
   "cell_type": "markdown",
   "metadata": {},
   "source": [
    "# Run simulation\n",
    "\n",
    "To run a single system, use terminal: file.exe {input_param}\n",
    "\n",
    "\"num_ens\": 5, \"n_total\": 100000, \"theta_0\": 1.0, \"phi_0\": 0.0, \"coup_a_0\": 1.6, \"gamma_a_0\": 0.0, \"chi_a_0\": 0.0, \"kappa_c_0\": 160.0, \"t_max\": 0.5, \"t_num\": 60000, \"handle\": \"60000\"\n",
    "\n",
    "The below block of code is useful for running multiple jobs"
   ]
  },
  {
   "cell_type": "code",
   "execution_count": 2,
   "metadata": {},
   "outputs": [
    {
     "ename": "NameError",
     "evalue": "name 'np' is not defined",
     "output_type": "error",
     "traceback": [
      "\u001b[1;31m---------------------------------------------------------------------------\u001b[0m",
      "\u001b[1;31mNameError\u001b[0m                                 Traceback (most recent call last)",
      "Cell \u001b[1;32mIn[2], line 38\u001b[0m\n\u001b[0;32m     35\u001b[0m result_photon_filename \u001b[39m=\u001b[39m \u001b[39mf\u001b[39m\u001b[39m\"\u001b[39m\u001b[39mResult_photon_\u001b[39m\u001b[39m{\u001b[39;00mhandle\u001b[39m}\u001b[39;00m\u001b[39m.dat\u001b[39m\u001b[39m\"\u001b[39m\n\u001b[0;32m     36\u001b[0m result_time_filename \u001b[39m=\u001b[39m \u001b[39mf\u001b[39m\u001b[39m\"\u001b[39m\u001b[39mResult_time_\u001b[39m\u001b[39m{\u001b[39;00mhandle\u001b[39m}\u001b[39;00m\u001b[39m.dat\u001b[39m\u001b[39m\"\u001b[39m\n\u001b[1;32m---> 38\u001b[0m result_sz \u001b[39m=\u001b[39m np\u001b[39m.\u001b[39mloadtxt(result_sz_filename, dtype\u001b[39m=\u001b[39mnp\u001b[39m.\u001b[39mlongdouble)\n\u001b[0;32m     39\u001b[0m result_time \u001b[39m=\u001b[39m np\u001b[39m.\u001b[39mloadtxt(result_time_filename, dtype\u001b[39m=\u001b[39mnp\u001b[39m.\u001b[39mlongdouble)\n\u001b[0;32m     40\u001b[0m detuning \u001b[39m=\u001b[39m np\u001b[39m.\u001b[39mloadtxt(\u001b[39m\"\u001b[39m\u001b[39mDetuning.dat\u001b[39m\u001b[39m\"\u001b[39m, dtype\u001b[39m=\u001b[39mnp\u001b[39m.\u001b[39mlongdouble)\n",
      "\u001b[1;31mNameError\u001b[0m: name 'np' is not defined"
     ]
    }
   ],
   "source": [
    "\n",
    "#############################################################\n",
    "# Run multiple jobs\n",
    "#############################################################\n",
    "# List of arguments for each run\n",
    "runs = [\n",
    "    {\"num_ens\": 5, \"n_total\": 100000, \"theta_0\": 1.0, \"phi_0\": 0.0, \"coup_a_0\": 1.6, \"gamma_a_0\": 0.0, \"chi_a_0\": 0.0, \"kappa_c_0\": 160.0, \"t_max\": 0.5, \"t_num\": 60000, \"handle\": \"60000\"},\n",
    "    {\"num_ens\": 5, \"n_total\": 100000, \"theta_0\": 1.0, \"phi_0\": 0.0, \"coup_a_0\": 1.6, \"gamma_a_0\": 0.0, \"chi_a_0\": 0.0, \"kappa_c_0\": 160.0, \"t_max\": 0.5, \"t_num\": 70000, \"handle\": \"70000\"},\n",
    "    {\"num_ens\": 5, \"n_total\": 100000, \"theta_0\": 1.0, \"phi_0\": 0.0, \"coup_a_0\": 1.6, \"gamma_a_0\": 0.0, \"chi_a_0\": 0.0, \"kappa_c_0\": 160.0, \"t_max\": 0.5, \"t_num\": 80000, \"handle\": \"80000\"},\n",
    "    {\"num_ens\": 5, \"n_total\": 100000, \"theta_0\": 1.0, \"phi_0\": 0.0, \"coup_a_0\": 1.6, \"gamma_a_0\": 0.0, \"chi_a_0\": 0.0, \"kappa_c_0\": 160.0, \"t_max\": 0.5, \"t_num\": 90000, \"handle\": \"90000\"},\n",
    "    {\"num_ens\": 5, \"n_total\": 100000, \"theta_0\": 1.0, \"phi_0\": 0.0, \"coup_a_0\": 1.6, \"gamma_a_0\": 0.0, \"chi_a_0\": 0.0, \"kappa_c_0\": 160.0, \"t_max\": 0.5, \"t_num\": 100000, \"handle\": \"100000\"},\n",
    "    {\"num_ens\": 5, \"n_total\": 100000, \"theta_0\": 1.0, \"phi_0\": 0.0, \"coup_a_0\": 1.6, \"gamma_a_0\": 0.0, \"chi_a_0\": 0.0, \"kappa_c_0\": 160.0, \"t_max\": 0.5, \"t_num\": 110000, \"handle\": \"110000\"}\n",
    "]\n",
    "\n",
    "for arg in runs:\n",
    "    # Prepare run arguments\n",
    "    num_ens = arg['num_ens']\n",
    "    n_total = arg['n_total']\n",
    "    theta_0 = arg['theta_0']\n",
    "    phi_0 = arg['phi_0']\n",
    "    coup_a_0 = arg['coup_a_0']\n",
    "    gamma_a_0 = arg['gamma_a_0']\n",
    "    chi_a_0 = arg['chi_a_0']\n",
    "    kappa_c_0 = arg['kappa_c_0']\n",
    "    t_max = arg['t_max']\n",
    "    t_num = arg['t_num']\n",
    "    handle = arg['handle']\n",
    "    \n",
    "    # Run simulation with muted stdout stderr, 1st line for WIN, 2nd for UNIX. To view progress, use terminal instead\n",
    "    # !file.exe {num_ens} {n_total} {theta_0} {phi_0} {coup_a_0} {gamma_a_0} {chi_a_0} {kappa_c_0} {t_max} {t_num} {handle}  >nul 2>&1\n",
    "    # !file.exe {num_ens} {n_total} {theta_0} {phi_0} {coup_a_0} {gamma_a_0} {chi_a_0} {kappa_c_0} {t_max} {t_num} {handle}  > /dev/null 2>&1\n",
    "    \n",
    "    # Construct the result data filenames based on the `handle`\n",
    "    result_sz_filename = f\"Result_Sz_{handle}.dat\"\n",
    "    result_coherences_filename = f\"Result_coherences_real_{handle}.dat\"\n",
    "    result_photon_filename = f\"Result_photon_{handle}.dat\"\n",
    "    result_time_filename = f\"Result_time_{handle}.dat\"\n",
    "    \n",
    "    result_sz = np.loadtxt(result_sz_filename, dtype=np.longdouble)\n",
    "    result_time = np.loadtxt(result_time_filename, dtype=np.longdouble)\n",
    "    detuning = np.loadtxt(\"Detuning.dat\", dtype=np.longdouble)\n",
    "    \n",
    "    print(detuning)\n",
    "    print(result_time)\n",
    "    \n",
    "    res = np.rot90(result_sz)\n",
    "    print(result_sz)\n",
    "    print(res)\n",
    "        "
   ]
  },
  {
   "attachments": {},
   "cell_type": "markdown",
   "metadata": {},
   "source": [
    "# Analyze & Plot\n",
    "todo:  import util functions return predict Td\n",
    "write block to plot with Td and found Td"
   ]
  },
  {
   "cell_type": "code",
   "execution_count": 12,
   "metadata": {},
   "outputs": [],
   "source": [
    "#############################################################\n",
    "# Read in the results file\n",
    "# Returns: \n",
    "#         [0]: time steps\n",
    "#         [1]: sz\n",
    "#         [2]: coherence\n",
    "#         [3]: photons\n",
    "#############################################################\n",
    "results = utils.read_results(\"500det\") # Input: file handle"
   ]
  },
  {
   "cell_type": "code",
   "execution_count": 13,
   "metadata": {},
   "outputs": [
    {
     "data": {
      "text/plain": [
       "Text(0, 0.5, 'Intracavity photon ($\\\\langle a^\\\\dagger a\\\\rangle$)')"
      ]
     },
     "execution_count": 13,
     "metadata": {},
     "output_type": "execute_result"
    },
    {
     "data": {
      "image/png": "[encoded data removed]",
      "text/plain": [
       "<Figure size 432x288 with 1 Axes>"
      ]
     },
     "metadata": {
      "needs_background": "light"
     },
     "output_type": "display_data"
    }
   ],
   "source": [
    "#############################################################\n",
    "# Plots intracavity field\n",
    "#############################################################\n",
    "plt.plot(results[0], results[3])\n",
    "plt.xlabel(r\"Time ($\\mu s$)\")\n",
    "plt.ylabel(r\"Intracavity photon ($\\langle a^\\dagger a\\rangle$)\")"
   ]
  },
  {
   "cell_type": "code",
   "execution_count": 14,
   "metadata": {},
   "outputs": [
    {
     "data": {
      "image/png": "[encoded data removed]",
      "text/plain": [
       "<Figure size 432x288 with 2 Axes>"
      ]
     },
     "metadata": {
      "needs_background": "light"
     },
     "output_type": "display_data"
    }
   ],
   "source": [
    "utils.plot_heat(results[0],detuning_values_1d, np.rot90(results[1]), -1.0,1.0)"
   ]
  },
  {
   "cell_type": "code",
   "execution_count": null,
   "metadata": {},
   "outputs": [],
   "source": []
  }
 ],
 "metadata": {
  "kernelspec": {
   "display_name": "base",
   "language": "python",
   "name": "python3"
  },
  "language_info": {
   "codemirror_mode": {
    "name": "ipython",
    "version": 3
   },
   "file_extension": ".py",
   "mimetype": "text/x-python",
   "name": "python",
   "nbconvert_exporter": "python",
   "pygments_lexer": "ipython3",
   "version": "3.9.12"
  },
  "orig_nbformat": 4,
  "vscode": {
   "interpreter": {
    "hash": "2043299c89c8cd0b4d1a6f5cf4529bd58e6a4e0fe3181a25e0d328c821cdc5c5"
   }
  }
 },
 "nbformat": 4,
 "nbformat_minor": 2
}
