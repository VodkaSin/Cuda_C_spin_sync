{
 "cells": [
  {
   "cell_type": "code",
   "execution_count": 1,
   "metadata": {},
   "outputs": [
    {
     "name": "stdout",
     "output_type": "stream",
     "text": [
      "functions.cu\n",
      "tmpxft_000084ac_00000000-10_functions.cudafe1.cpp\n",
      "main.cu\n",
      "tmpxft_000084ac_00000000-14_main.cudafe1.cpp\n",
      "   Creating library file.lib and object file.exp\n"
     ]
    }
   ],
   "source": [
    "#############################################################\n",
    "# Compile `main.cu` to `file.exe`\n",
    "# Commented out because we don't want to run it all the time\n",
    "#############################################################\n",
    "!nvcc -w functions.cu main.cu -o file"
   ]
  },
  {
   "cell_type": "code",
   "execution_count": 3,
   "metadata": {},
   "outputs": [],
   "source": [
    "#############################################################\n",
    "# Load python dependencies\n",
    "#############################################################\n",
    "import numpy as np\n",
    "import matplotlib as plt\n",
    "\n",
    "# TODO: import utils functions\n",
    "# Read into detuning\n",
    "# Calculate Td theory and test\n",
    "# Subplots\n"
   ]
  },
  {
   "attachments": {},
   "cell_type": "markdown",
   "metadata": {},
   "source": [
    "# Generate detuning\n",
    "todo: distribution functions\n",
    "read into detuning.dat"
   ]
  },
  {
   "cell_type": "code",
   "execution_count": 2,
   "metadata": {},
   "outputs": [
    {
     "name": "stdout",
     "output_type": "stream",
     "text": [
      "Detuning data: [-150  -50    0   50  150]\n"
     ]
    }
   ],
   "source": [
    "#############################################################\n",
    "# Generate and write detuning data to file\n",
    "#############################################################\n",
    "# Write 1D numpy array to file\n",
    "detuning_values_1d = np.array([-150, -50, 0, 50, 150])\n",
    "print(\"Detuning data:\", detuning_values_1d)\n",
    "np.savetxt(\"Detuning.dat\", detuning_values_1d, delimiter=\"\\t\")\n",
    "\n",
    "# Example: write 2D numpy array to file\n",
    "# values_2d = np.array([\n",
    "#     [10.0, 20.0, 40.0],\n",
    "#     [10.0, 20.0, 50.0],\n",
    "#     [10.0, 20.0, 60.0]\n",
    "# ])\n",
    "# np.savetxt(\"values_2d.dat\", values_2d, delimiter=\"\\t\")"
   ]
  },
  {
   "attachments": {},
   "cell_type": "markdown",
   "metadata": {},
   "source": [
    "# Run simulation"
   ]
  },
  {
   "cell_type": "code",
   "execution_count": 2,
   "metadata": {},
   "outputs": [
    {
     "ename": "NameError",
     "evalue": "name 'np' is not defined",
     "output_type": "error",
     "traceback": [
      "\u001b[1;31m---------------------------------------------------------------------------\u001b[0m",
      "\u001b[1;31mNameError\u001b[0m                                 Traceback (most recent call last)",
      "Cell \u001b[1;32mIn[2], line 38\u001b[0m\n\u001b[0;32m     35\u001b[0m result_photon_filename \u001b[39m=\u001b[39m \u001b[39mf\u001b[39m\u001b[39m\"\u001b[39m\u001b[39mResult_photon_\u001b[39m\u001b[39m{\u001b[39;00mhandle\u001b[39m}\u001b[39;00m\u001b[39m.dat\u001b[39m\u001b[39m\"\u001b[39m\n\u001b[0;32m     36\u001b[0m result_time_filename \u001b[39m=\u001b[39m \u001b[39mf\u001b[39m\u001b[39m\"\u001b[39m\u001b[39mResult_time_\u001b[39m\u001b[39m{\u001b[39;00mhandle\u001b[39m}\u001b[39;00m\u001b[39m.dat\u001b[39m\u001b[39m\"\u001b[39m\n\u001b[1;32m---> 38\u001b[0m result_sz \u001b[39m=\u001b[39m np\u001b[39m.\u001b[39mloadtxt(result_sz_filename, dtype\u001b[39m=\u001b[39mnp\u001b[39m.\u001b[39mlongdouble)\n\u001b[0;32m     39\u001b[0m result_time \u001b[39m=\u001b[39m np\u001b[39m.\u001b[39mloadtxt(result_time_filename, dtype\u001b[39m=\u001b[39mnp\u001b[39m.\u001b[39mlongdouble)\n\u001b[0;32m     40\u001b[0m detuning \u001b[39m=\u001b[39m np\u001b[39m.\u001b[39mloadtxt(\u001b[39m\"\u001b[39m\u001b[39mDetuning.dat\u001b[39m\u001b[39m\"\u001b[39m, dtype\u001b[39m=\u001b[39mnp\u001b[39m.\u001b[39mlongdouble)\n",
      "\u001b[1;31mNameError\u001b[0m: name 'np' is not defined"
     ]
    }
   ],
   "source": [
    "\n",
    "#############################################################\n",
    "# Run multiple jobs\n",
    "#############################################################\n",
    "# List of arguments for each run\n",
    "runs = [\n",
    "    {\"num_ens\": 5, \"n_total\": 100000, \"theta_0\": 1.0, \"phi_0\": 0.0, \"coup_a_0\": 1.6, \"gamma_a_0\": 0.0, \"chi_a_0\": 0.0, \"kappa_c_0\": 160.0, \"t_max\": 0.5, \"t_num\": 60000, \"handle\": \"60000\"},\n",
    "    {\"num_ens\": 5, \"n_total\": 100000, \"theta_0\": 1.0, \"phi_0\": 0.0, \"coup_a_0\": 1.6, \"gamma_a_0\": 0.0, \"chi_a_0\": 0.0, \"kappa_c_0\": 160.0, \"t_max\": 0.5, \"t_num\": 70000, \"handle\": \"70000\"},\n",
    "    {\"num_ens\": 5, \"n_total\": 100000, \"theta_0\": 1.0, \"phi_0\": 0.0, \"coup_a_0\": 1.6, \"gamma_a_0\": 0.0, \"chi_a_0\": 0.0, \"kappa_c_0\": 160.0, \"t_max\": 0.5, \"t_num\": 80000, \"handle\": \"80000\"},\n",
    "    {\"num_ens\": 5, \"n_total\": 100000, \"theta_0\": 1.0, \"phi_0\": 0.0, \"coup_a_0\": 1.6, \"gamma_a_0\": 0.0, \"chi_a_0\": 0.0, \"kappa_c_0\": 160.0, \"t_max\": 0.5, \"t_num\": 90000, \"handle\": \"90000\"},\n",
    "    {\"num_ens\": 5, \"n_total\": 100000, \"theta_0\": 1.0, \"phi_0\": 0.0, \"coup_a_0\": 1.6, \"gamma_a_0\": 0.0, \"chi_a_0\": 0.0, \"kappa_c_0\": 160.0, \"t_max\": 0.5, \"t_num\": 100000, \"handle\": \"100000\"},\n",
    "    {\"num_ens\": 5, \"n_total\": 100000, \"theta_0\": 1.0, \"phi_0\": 0.0, \"coup_a_0\": 1.6, \"gamma_a_0\": 0.0, \"chi_a_0\": 0.0, \"kappa_c_0\": 160.0, \"t_max\": 0.5, \"t_num\": 110000, \"handle\": \"110000\"}\n",
    "]\n",
    "\n",
    "for arg in runs:\n",
    "    # Prepare run arguments\n",
    "    num_ens = arg['num_ens']\n",
    "    n_total = arg['n_total']\n",
    "    theta_0 = arg['theta_0']\n",
    "    phi_0 = arg['phi_0']\n",
    "    coup_a_0 = arg['coup_a_0']\n",
    "    gamma_a_0 = arg['gamma_a_0']\n",
    "    chi_a_0 = arg['chi_a_0']\n",
    "    kappa_c_0 = arg['kappa_c_0']\n",
    "    t_max = arg['t_max']\n",
    "    t_num = arg['t_num']\n",
    "    handle = arg['handle']\n",
    "    \n",
    "    # Run simulation with muted stdout stderr, 1st line for WIN, 2nd for UNIX. To view progress, use terminal instead\n",
    "    # !file.exe {num_ens} {n_total} {theta_0} {phi_0} {coup_a_0} {gamma_a_0} {chi_a_0} {kappa_c_0} {t_max} {t_num} {handle}  >nul 2>&1\n",
    "    # !file.exe {num_ens} {n_total} {theta_0} {phi_0} {coup_a_0} {gamma_a_0} {chi_a_0} {kappa_c_0} {t_max} {t_num} {handle}  > /dev/null 2>&1\n",
    "    \n",
    "    # Construct the result data filenames based on the `handle`\n",
    "    result_sz_filename = f\"Result_Sz_{handle}.dat\"\n",
    "    result_coherences_filename = f\"Result_coherences_real_{handle}.dat\"\n",
    "    result_photon_filename = f\"Result_photon_{handle}.dat\"\n",
    "    result_time_filename = f\"Result_time_{handle}.dat\"\n",
    "    \n",
    "    result_sz = np.loadtxt(result_sz_filename, dtype=np.longdouble)\n",
    "    result_time = np.loadtxt(result_time_filename, dtype=np.longdouble)\n",
    "    detuning = np.loadtxt(\"Detuning.dat\", dtype=np.longdouble)\n",
    "    \n",
    "    print(detuning)\n",
    "    print(result_time)\n",
    "    \n",
    "    res = np.rot90(result_sz)\n",
    "    print(result_sz)\n",
    "    print(res)\n",
    "    \n",
    "    # # Load result files and plot it\n",
    "    # # TODO: Not sure how to plot the result data\n",
    "    # for filename in [\n",
    "    #         result_sz_filename, \n",
    "    #         result_coherences_filename, \n",
    "    #         result_photon_filename, \n",
    "    #         result_time_filename\n",
    "    #     ]:\n",
    "    #     result = np.loadtxt(filename, dtype=np.longdouble)\n",
    "    #     print(filename)\n",
    "    #     print(result)\n",
    "    #     plt.plot(result)\n",
    "    #     plt.show()\n",
    "        \n",
    "        "
   ]
  },
  {
   "attachments": {},
   "cell_type": "markdown",
   "metadata": {},
   "source": [
    "# Analyze & Plot\n",
    "todo:  import util functions return predict Td\n",
    "write block to plot with Td and found Td"
   ]
  },
  {
   "cell_type": "code",
   "execution_count": null,
   "metadata": {},
   "outputs": [],
   "source": [
    "import matplotlib.pyplot as plt\n",
    "\n",
    "# Compute heat map (for pop. inversion or light emission)\n",
    "def plot_heat(x, y, z, z_min, z_max):\n",
    "    # x,y: x and y axis variables\n",
    "    # z: dependent variable, dimension dim(x)*dim(y)\n",
    "    # z_min, z_max: range of z to plot\n",
    "    c = plt.pcolormesh(x, y, z, cmap = 'CMRmap', vmin = z_min, vmax = z_max)\n",
    "    plt.colorbar(c)\n",
    "    plt.title('$<\\sigma_z>$',fontsize=18)\n",
    "    plt.ylabel('Detuning',fontsize=18)\n",
    "    plt.xlabel('Time$(\\mu s)$',fontsize=18)"
   ]
  },
  {
   "cell_type": "code",
   "execution_count": 1,
   "metadata": {},
   "outputs": [
    {
     "ename": "NameError",
     "evalue": "name 'runs' is not defined",
     "output_type": "error",
     "traceback": [
      "\u001b[1;31m---------------------------------------------------------------------------\u001b[0m",
      "\u001b[1;31mNameError\u001b[0m                                 Traceback (most recent call last)",
      "Cell \u001b[1;32mIn[1], line 1\u001b[0m\n\u001b[1;32m----> 1\u001b[0m runs[\u001b[39m1\u001b[39m]\n",
      "\u001b[1;31mNameError\u001b[0m: name 'runs' is not defined"
     ]
    }
   ],
   "source": [
    "runs[1]"
   ]
  },
  {
   "cell_type": "code",
   "execution_count": null,
   "metadata": {},
   "outputs": [],
   "source": []
  }
 ],
 "metadata": {
  "kernelspec": {
   "display_name": "Python 3",
   "language": "python",
   "name": "python3"
  },
  "language_info": {
   "codemirror_mode": {
    "name": "ipython",
    "version": 3
   },
   "file_extension": ".py",
   "mimetype": "text/x-python",
   "name": "python",
   "nbconvert_exporter": "python",
   "pygments_lexer": "ipython3",
   "version": "3.9.16"
  },
  "orig_nbformat": 4,
  "vscode": {
   "interpreter": {
    "hash": "4b94adeba7b713340ea8cbbda1aef534457fb8d68974eb0981e7dc62d87dea46"
   }
  }
 },
 "nbformat": 4,
 "nbformat_minor": 2
}
